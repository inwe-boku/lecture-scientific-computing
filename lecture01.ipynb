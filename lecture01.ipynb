{
 "cells": [
  {
   "cell_type": "markdown",
   "metadata": {},
   "source": [
    "WISO100303 / Johannes Schmidt & Peter Regner\n",
    "\n",
    "# **An introduction to scientific programming**\n",
    "\n",
    "<br> <br> <br> <br><br> <br> <br> <br>"
   ]
  },
  {
   "cell_type": "markdown",
   "metadata": {},
   "source": [
    "# Introduction\n",
    "\n",
    "\n",
    "  \n",
    "  "
   ]
  },
  {
   "cell_type": "markdown",
   "metadata": {},
   "source": [
    "## An appetizer\n",
    "\n",
    "How much gas did Austria save in 2022?\n",
    "\n",
    "For full analysis (in German - code in R) see [energie.wifo.ac.at](https://energie.wifo.ac.at/analysis/gas-savings).\n",
    "\n",
    "\n",
    "![Gas consumption in Austria](images/gas-consumption-savings.png)"
   ]
  },
  {
   "cell_type": "markdown",
   "metadata": {},
   "source": [
    "## Survey\n",
    "\n",
    "Results of mentimeter survey."
   ]
  },
  {
   "cell_type": "markdown",
   "metadata": {},
   "source": [
    "## Who we are\n",
    "\n",
    "Johannes Schmidt <johannes.schmidt@boku.ac.at>\n",
    "* Associate Prof. in Energy & Resource Economics at the Institute of Sustainable Economic Development\n",
    "* Works on modeling of renewable energy systems in R, GAMS (and Python)\n",
    "* Studied Computer Science at TU Wien\n",
    "\n",
    "Peter Regner <peter.regner@boku.ac.at>\n",
    "* PhD student at the Institute of Sustainable Economic Development\n",
    "* Worked almost 7 years as Python developer in semiconductor industry\n",
    "* Studied mathematics at TU Wien"
   ]
  },
  {
   "cell_type": "markdown",
   "metadata": {},
   "source": [
    "## Lecture dates\n",
    "\n",
    "- **Lecture and exercise presentations**: 14:00-17:15, 15min break. See BOKU online for all dates\n",
    "- **Interim tests**:\n",
    "    -  2025-11-25, 14:00-15:30. On laptop, but in presence! No registration necessary.\n",
    "    -  2026-01-27, 14:00-15:30. On laptop, but in presence! No registration necessary."
   ]
  },
  {
   "cell_type": "markdown",
   "metadata": {},
   "source": [
    "## Grading\n",
    "\n",
    "**Expectations:**\n",
    "\n",
    "- **Assignments:** Complete 4 weekly homework exercises. You may work in groups, but each student must submit their own solution by sharing the notebook link on BOKU Learn.\n",
    "- **Attendance:** Mandatory during homework discussions. Be prepared to present your solutions.\n",
    "\n",
    "Homework solutions will be reviewed at the start of each session.\n",
    "\n",
    "**Grade Calculation:**\n",
    "\n",
    "- **Interim tests (70% of total points):**\n",
    "- **Homework exercises (30% of total points):**\n",
    "    - Mark completed exercises in BOKU Learn before the lecture.\n",
    "    - Students will be randomly selected to present their solutions.\n",
    "    - Failure to present or explain a marked exercise results in losing all points for that week and increases your chances of being selected again.\n",
    "    - Incorrect or incomplete solutions lose points for the specific exercise.\n",
    "    - Ensure your code passes all tests without modifying them.\n",
    "\n",
    "**Passing Requirements:**\n",
    "\n",
    "To pass, you must score more than 50% on both homework and each interim test:\n",
    "\n",
    "```=if(and([[Checkmarks]] > 50, [[first_test]] > 50, [[second_test]] > 50), [[total_weighted_score]], 0)```\n",
    "\n",
    "Grades are available on [_BOKU Learn_](https://learn.boku.ac.at/grade/report/user/index.php?id=75887)."
   ]
  },
  {
   "cell_type": "markdown",
   "metadata": {},
   "source": [
    "![Mapping from points to grade letters](images/grading-point-letter-mapping.png)"
   ]
  },
  {
   "cell_type": "markdown",
   "metadata": {},
   "source": [
    "## Help\n",
    "\n",
    "If you need help, there are several things you can do.\n",
    "- Google (Programming is a mixture of knowing how to do things and knowing of how to google other things). Stackoverflow is a great resource, but it will show up in your google results anyhow.\n",
    "-  Use the BOKU learn forum for your questions. Do not post complete solutions there, please.\n",
    "-  Ask us in class. You *have* to prepare questions once, but everyone is welcome to ask questions about in-class or home exercises - or about anything else you didn't grasp. The more you contribute, the better for all of us!"
   ]
  },
  {
   "cell_type": "markdown",
   "metadata": {},
   "source": [
    "## A word on the use of Artificial Intelligence\n",
    "\n",
    "Modern AI tools for text (LLM) like ChatGPT have become extremely helpful in many areas, also for programming: to generate code snippets, to ask for advice and a handy replacement for Google.\n",
    "\n",
    "However, we discourage you from solving the homework exercises with ChatGPT or similar tools. To learn programming, it is important to try out things yourself (and eventually fail). Only if you are stuck, ask a learning buddy for help: human or non-human.\n",
    "\n",
    "AI can help as an assistant, but it is (still?) crucial to understand how programming works, because AI tools do not guarantee correctness:\n",
    "\n",
    "<img src=\"images/chat-gpt.png\"  width=\"600\">\n",
    "\n",
    "([Find here another example.](https://chat.openai.com/share/f321bcf6-0c56-4683-8fa2-252218f29101))\n",
    "\n",
    "We will take a quick look at some AI tools in lecture 04 and how they can help.\n",
    "\n",
    "Please note that, even if we cannot check if you copy solutions from AI tools or fellow students, you need to be able to present the solutions in class. And during the two tests, collaboration/communication, AI tools and materials except the ones from the lecture are not allowed."
   ]
  },
  {
   "cell_type": "markdown",
   "metadata": {},
   "source": [
    "## Class content\n",
    "\n",
    "Learn to program in a scientific context using Python.\n",
    "\n",
    "- Lecture 1: Python introduction 1 (Google Colab, functions, variables) \n",
    "- Lecture 2: Python introduction 2 (recap, order of execution, numpy arrays, plotting)\n",
    "- Lecture 3: Python introduction 3 (recap)\n",
    " \n",
    "------ Test ------\n",
    "\n",
    "- Lecture 4: Object types and more about functions\n",
    "- Lecture 5: Numpy and the Python scientific ecosystem\n",
    "- Lecture 6: Numpy (recap & fancy indexing)\n",
    "- Lecture 7: Pandas \n",
    "- Lecture 8: Models & Scikit-Learn\n",
    "\n",
    "------ Test ------ \n",
    "\n",
    "Practical applications in the class deal with renewable electricity, predicting electricity load, and how to find the closest toilette in Vienna."
   ]
  },
  {
   "cell_type": "markdown",
   "metadata": {},
   "source": [
    "# Google Colab\n",
    "\n",
    "- Python is a programming language. Python can be executed with different tools.\n",
    "- We will use the platform *Google Colab* https://colab.google/\n",
    "- Works out of the box as hosted platform to run Python code and do data analysis in your web browser.\n",
    "\n",
    "\n",
    "There are many good and very similar alternatives, such as:\n",
    "\n",
    "- [Jupyter](https://jupyter.org/) is a free and can be installed on your own computer.\n",
    "- [VSCode](https://code.visualstudio.com/docs/datascience/jupyter-notebooks) is a comprehensive code editor that supports Jupyter notebooks.\n",
    "- [GitHub Codespaces](https://github.com/features/codespaces) is very similar to VSCode, but hosted in the cloud, i.e. you can use it directly from your browser.\n",
    "- [databricks](https://www.databricks.com/) is an enterprise-grade platform for data science and engineering.\n",
    "- [marimo](https://marimo.io/) is the new cool kid on the block."
   ]
  },
  {
   "cell_type": "markdown",
   "metadata": {},
   "source": [
    "\n",
    "## Quick demo of Google Colab\n",
    "\n",
    "- create notebooks in your browser, allows you to execute code\n",
    "- for each notebook there is an automatic version history (like Google Docs) - if it is stored on your Google Drive\n",
    "- you can invite collaborators (like Google Docs again)\n",
    "- there is a *Table of contents*\n",
    "- keyboard shortcuts make things way faster (Tools -> Keyboard shortcuts)\n",
    "- there is more fancy stuff, just click through the menu!"
   ]
  },
  {
   "cell_type": "markdown",
   "metadata": {},
   "source": [
    "Notebooks can be shared via link:\n",
    "- click on *Share* on the top right\n",
    "- set access rights (e.g. \"Anyone with the link can view\")\n",
    "- copy the link and submit it on BOKU Learn"
   ]
  },
  {
   "cell_type": "markdown",
   "metadata": {},
   "source": [
    "## Lecture workflow\n",
    "\n",
    "- one Colab notebook per lecture: lecture content & in-class exercises\n",
    "    - link shared on BOKU learn before the lecture\n",
    "    - save a copy in your Google Drive (File -> Save a copy in Drive)\n",
    "    - solve exercises during class (will not be graded)\n",
    "\n",
    "- one Colab notebook per homework assignment\n",
    "    - link for homework shared via BOKU learn\n",
    "    - **save a copy in your Google Drive (File -> Save a copy in Drive)**\n",
    "    - solve exercises, share the notebook link and submit on BOKU Learn"
   ]
  },
  {
   "cell_type": "markdown",
   "metadata": {},
   "source": [
    "Homework submissions will not be graded, only your presentation and the number of checked exercises will be considered for the final grade."
   ]
  },
  {
   "cell_type": "markdown",
   "metadata": {},
   "source": [
    "# Python Basics"
   ]
  },
  {
   "cell_type": "markdown",
   "metadata": {},
   "source": [
    "**This is text shown in the notebook with *markdown***\n",
    "\n",
    "Also formula are supported via $\\LaTeX$:\n",
    " $$\n",
    "    e^{i\\pi} + 1 = 0\n",
    " $$"
   ]
  },
  {
   "cell_type": "markdown",
   "metadata": {},
   "source": [
    "Cells of type _Code_ can be used to execute Python code.\n",
    "\n",
    "Python as a calculator:"
   ]
  },
  {
   "cell_type": "code",
   "execution_count": null,
   "metadata": {},
   "outputs": [],
   "source": [
    "2 + 3 * 5"
   ]
  },
  {
   "cell_type": "markdown",
   "metadata": {},
   "source": [
    "A common first example for programming languages is the so called [hello world program](https://en.wikipedia.org/wiki/%22Hello,_World!%22_program): it simply displays the text \"Hello world!\"."
   ]
  },
  {
   "cell_type": "code",
   "execution_count": null,
   "metadata": {},
   "outputs": [],
   "source": [
    "print(\"Hello World!\")"
   ]
  },
  {
   "cell_type": "markdown",
   "metadata": {},
   "source": [
    "Note that `print()` does not refer to printing on paper, but displaying text on the screen."
   ]
  },
  {
   "cell_type": "code",
   "execution_count": null,
   "metadata": {},
   "outputs": [],
   "source": [
    "# BTW, this is a comment, no markdown here!\n",
    "# Comments are pieces of not exectued text inside code cells.\n",
    "# They start with a # symbol."
   ]
  },
  {
   "cell_type": "code",
   "execution_count": null,
   "metadata": {},
   "outputs": [],
   "source": [
    "# Great, but can we do more?\n",
    "x = 1"
   ]
  },
  {
   "cell_type": "code",
   "execution_count": null,
   "metadata": {},
   "outputs": [],
   "source": [
    "x"
   ]
  },
  {
   "cell_type": "markdown",
   "metadata": {},
   "source": [
    "x is a variable. A variable is a name with an associated value. The value can be changed by assignment."
   ]
  },
  {
   "cell_type": "code",
   "execution_count": null,
   "metadata": {},
   "outputs": [],
   "source": [
    "x = 2"
   ]
  },
  {
   "cell_type": "markdown",
   "metadata": {},
   "source": [
    "\n",
    "**Important:** Note that `=` is not a comparison, but an assignment operation. This sets the variable `x` to the value `1`. In mathematics you would write this as $x:=1$, which might be slightly more intuitive, because $:=$ indicates the difference in semantics of the thing on the left and the thing on the right side due to the asymmetry of the symbol used. The programming language R uses the syntax `x <- 1`. In Python, the value is assigned to the variable on the left side of the `=` symbol."
   ]
  },
  {
   "cell_type": "code",
   "execution_count": null,
   "metadata": {},
   "outputs": [],
   "source": [
    "#This code won't work.\n",
    "#x := 2"
   ]
  },
  {
   "cell_type": "markdown",
   "metadata": {},
   "source": [
    "**Important:** Note that we have to follow strict rules how we write code, the *syntax*. In programming, syntax refers to the set of rules that dictate how programs written in a particular programming language should be structured. These rules define the correct combinations of symbols, keywords, and operators that are valid in that language. "
   ]
  },
  {
   "cell_type": "markdown",
   "metadata": {},
   "source": [
    "The notebook will always show the result of the last command in a cell:"
   ]
  },
  {
   "cell_type": "code",
   "execution_count": null,
   "metadata": {},
   "outputs": [],
   "source": [
    "x"
   ]
  },
  {
   "cell_type": "markdown",
   "metadata": {},
   "source": [
    "One can also use `print(x)` to show something on the console. Observe the difference between using `x` and `print(x)`."
   ]
  },
  {
   "cell_type": "code",
   "execution_count": null,
   "metadata": {},
   "outputs": [],
   "source": [
    "print(x)"
   ]
  },
  {
   "cell_type": "code",
   "execution_count": null,
   "metadata": {},
   "outputs": [],
   "source": [
    "x + 1\n",
    "x"
   ]
  },
  {
   "cell_type": "code",
   "execution_count": null,
   "metadata": {},
   "outputs": [],
   "source": [
    "print(x + 1)\n",
    "print(x)"
   ]
  },
  {
   "cell_type": "markdown",
   "metadata": {},
   "source": [
    "You can have as many variables as you want. A variable has to start with a letter or an underscore `_`, can contain letters, numbers, and the underscore `_`."
   ]
  },
  {
   "cell_type": "code",
   "execution_count": null,
   "metadata": {},
   "outputs": [],
   "source": [
    "y = 7"
   ]
  },
  {
   "cell_type": "code",
   "execution_count": null,
   "metadata": {},
   "outputs": [],
   "source": [
    "z = x * y"
   ]
  },
  {
   "cell_type": "code",
   "execution_count": null,
   "metadata": {},
   "outputs": [],
   "source": [
    "a_good_variable_name_is_descriptive_but_not_too_long = 43"
   ]
  },
  {
   "cell_type": "code",
   "execution_count": null,
   "metadata": {},
   "outputs": [],
   "source": [
    "a_good_variable_name_is_descriptive_but_not_too_long * 25"
   ]
  },
  {
   "cell_type": "markdown",
   "metadata": {},
   "source": [
    "## Exercise 1\n",
    "\n",
    "Create a variable `side_a_m` and assign the value 2.12 to it. Create a second variable `side_b_m` and assign the value 4.12 to it. Create a third variable `size_of_rectangle_m2` and assign the value of `side_a_m` * `side_b_m` to it. Print the result `size_of_rectangle_m2`."
   ]
  },
  {
   "cell_type": "code",
   "execution_count": null,
   "id": "99209e21",
   "metadata": {},
   "outputs": [],
   "source": [
    "# # # # # YOUR SOLUTION GOES HERE # # # # #"
   ]
  },
  {
   "cell_type": "code",
   "execution_count": null,
   "metadata": {},
   "outputs": [],
   "source": [
    "# # # # # RUN THIS CELL TO CHECK YOUR RESULTS # # # # # \n",
    "\n",
    "from urllib.request import urlretrieve\n",
    "import os.path\n",
    "if not os.path.exists('check.py'):\n",
    "    urlretrieve('https://bokubox.boku.ac.at/get/62a8d3192270764797138e9ef22b0a6b/check.py', filename='check.py')\n",
    "from check import check_solution\n",
    "\n",
    "check_solution([\n",
    "    (\"size_of_rectangle_m2\", 8.7344)\n",
    "], globals())"
   ]
  },
  {
   "cell_type": "markdown",
   "metadata": {},
   "source": [
    "<div style=\"color:#555;border-top:1px solid #999;text-align:right;padding:4px;\">End of exercise</div>"
   ]
  },
  {
   "cell_type": "markdown",
   "metadata": {},
   "source": [
    "Please observe: The code is executed from top to bottom. In the whole notebook and in the cell. The order matters!"
   ]
  },
  {
   "cell_type": "code",
   "execution_count": null,
   "metadata": {},
   "outputs": [],
   "source": [
    "size_of_rectangle_m2 = side_a_m * side_b_m\n",
    "side_a_m = 5\n",
    "side_b_m = 2\n",
    "print(size_of_rectangle_m2)"
   ]
  },
  {
   "cell_type": "markdown",
   "metadata": {},
   "source": [
    "# Functions\n",
    "There are a lot of digits after the comma in the last result... can we reduce it by rounding?"
   ]
  },
  {
   "cell_type": "code",
   "execution_count": null,
   "metadata": {},
   "outputs": [],
   "source": [
    "print(round(size_of_rectangle_m2, 2))"
   ]
  },
  {
   "cell_type": "markdown",
   "metadata": {},
   "source": [
    "What happened?\n",
    "\n",
    "We called two functions: `print()` and `round()`. Calling a function means that code which is hidden inside the function is executed. In `()` we can pass one or several arguments to the function: this is a value which is used inside the function for calculation. A function returns a result (such as `round()` returns the value passed to it, rounded) and it may produce a side-effect (such as `print()` which prints the result to the screen)."
   ]
  },
  {
   "cell_type": "code",
   "execution_count": null,
   "metadata": {},
   "outputs": [],
   "source": [
    "round(1.45)"
   ]
  },
  {
   "cell_type": "code",
   "execution_count": null,
   "metadata": {},
   "outputs": [],
   "source": [
    "round(1.45, 1)"
   ]
  },
  {
   "cell_type": "markdown",
   "metadata": {},
   "source": [
    "The function is called `round(number, ndigits)`.\n",
    "\n",
    "It has 2 arguments:\n",
    " - the number to round\n",
    " - how many digits should be rounded to\n",
    "  \n",
    " Python has predefined arguments: sometimes, if you do not supply an argument to the function call, it will automatically assume some default value. In the case of `round()`, if no second value is supplied, `0` is used, i.e. `round(x)` is equivalent to `round(x, 0)`."
   ]
  },
  {
   "cell_type": "markdown",
   "metadata": {},
   "source": [
    "Google Colab automatically shows the possible arguments to a function, once you type the parenthesis symbol after the function name."
   ]
  },
  {
   "cell_type": "markdown",
   "metadata": {},
   "source": [
    "## Exercise 2\n",
    "Austria had an energy use of 372 000 000 MWh in the year 2019. It also had a population of 8.88 million people. Calculate the per capita energy use in MWh / capita (i.e. by dividing the energy use by population size), round it to 2 digits and store it in the variable `energy_use_at_mwh_per_capita`.\n",
    "\n",
    "Observe: you can use the underline symbol `_` in a large number to separate groups of digits, i.e. `1000 = 1_000 = 1_0_00 = 1_0_0_0`. Furthermore, `.` is used to indicate the comma, i.e. `8.000 = 8`. Do not use `,` to separate digits in numbers, this will create a list of multiple values (more about that later)."
   ]
  },
  {
   "cell_type": "code",
   "execution_count": null,
   "id": "111a2d03",
   "metadata": {},
   "outputs": [],
   "source": [
    "# # # # # YOUR SOLUTION GOES HERE # # # # #"
   ]
  },
  {
   "cell_type": "code",
   "execution_count": null,
   "metadata": {},
   "outputs": [],
   "source": [
    "# # # # # RUN THIS CELL TO CHECK YOUR RESULTS # # # # # \n",
    "from check import check_solution\n",
    "check_solution([\n",
    "    (\"energy_use_at_mwh_per_capita\", 41.89, \"invalid result\", lambda x, y: x == y, 'compare')\n",
    "], globals())"
   ]
  },
  {
   "cell_type": "markdown",
   "metadata": {},
   "source": [
    "<div style=\"color:#555;border-top:1px solid #999;text-align:right;padding:4px;\">End of exercise</div>"
   ]
  },
  {
   "cell_type": "markdown",
   "metadata": {},
   "source": [
    "There are of course other functions available too. You can also develop your own functions.\n",
    "\n",
    "E.g. the power output of a wind turbine is given by the following *simplified* formula:\n",
    "\n",
    "$$\n",
    "    p_\\textrm{wind}= C_p \\cdot 0.5 \\cdot \\rho \\cdot A \\cdot v^3,\n",
    "$$\n",
    "\n",
    "where $C_p$ is the efficiency of the wind turbine, $\\rho$ is the air density at around $1$, $A$ is the area swept by the rotor, and $v$ is the wind speed.\n",
    "\n",
    "Below, you see the code for a function which calculates the output of a wind turbine. Please observe the syntax: the function definition starts with `def` followed by our choice of the name of the function. In parentheses you find the arguments of our function - also chosen by ourselves. After `:`, you find the code which is executed upon calling the function. Please observe the intendation: in python, it is very important. Code on the same level of intendation belongs to the same code block. Here, this means that the function code stops once the intendation becomes 0."
   ]
  },
  {
   "cell_type": "code",
   "execution_count": null,
   "metadata": {},
   "outputs": [],
   "source": [
    "# we will explain imports later. for the moment,\n",
    "# it is sufficient to know that imports give access to functions and\n",
    "# variables not available otherwise\n",
    "import numpy as np\n",
    "\n",
    "def windturbine_simulation_mw(wind_speed_ms, rotor_diameter_m):\n",
    "    \"\"\"Calculate output of a wind turbine in MW, given wind speed in m/s and rotor_diameter in m.\"\"\"\n",
    "    c_p = 0.4\n",
    "    rho = 1\n",
    "    area = rotor_diameter_m**2 * np.pi / 4\n",
    "    p_out = c_p * 0.5 * rho * area * wind_speed_ms**3\n",
    "    return p_out / 1_000_000\n",
    "\n",
    "wind_speed_ms_stuhleck = 14\n",
    "rotor_diameter_m_vestas = 100\n",
    "windturbine_simulation_mw(wind_speed_ms_stuhleck, rotor_diameter_m_vestas)"
   ]
  },
  {
   "cell_type": "markdown",
   "metadata": {},
   "source": [
    "The function call in the cell below won't work, because we do not provide any parameters to the function.\n",
    "\n",
    "Check the function definition: `windturbine_simulation_mw(wind_speed_ms, rotor_diameter_m)`\n",
    "\n",
    "The function expects 2 parameters, i.e. `wind_speed_ms` and `rotor_diameter_m`"
   ]
  },
  {
   "cell_type": "code",
   "execution_count": null,
   "metadata": {},
   "outputs": [],
   "source": [
    "# windturbine_simulation_mw()"
   ]
  },
  {
   "cell_type": "markdown",
   "metadata": {},
   "source": [
    "Again, this won't work because we passed only one parameter to a function which expects two parameters:"
   ]
  },
  {
   "cell_type": "code",
   "execution_count": null,
   "metadata": {},
   "outputs": [],
   "source": [
    "# This won't work either. Now we provide one parameter, but 2 are required! \n",
    "# windturbine_simulation_mw(wind_speed_ms_stuhleck)"
   ]
  },
  {
   "cell_type": "markdown",
   "metadata": {},
   "source": [
    "## Exercise 3\n",
    "\n",
    "The output of a solar panel is given by\n",
    "\n",
    "$$\n",
    "    p_\\textrm{pv}=A \\cdot e \\cdot R,\n",
    "$$\n",
    "\n",
    "where $A$ is the area, $e$ is the efficiency of the panel, $R$ is the radiation reaching the panel. \n",
    "\n",
    "Write a function `pv_simulation_w(radiation_w, area_m2)` which calculates the output of a solar panel in W, taking the solar radiation R (in W) and the area A (in m²) as input. Define $e$ fixed at 0.18. Test the function for a hypothetical location where the PV area is 20,000m² and solar radiation is 1000 W."
   ]
  },
  {
   "cell_type": "code",
   "execution_count": null,
   "id": "e8a08c82",
   "metadata": {},
   "outputs": [],
   "source": [
    "# # # # # YOUR SOLUTION GOES HERE # # # # #"
   ]
  },
  {
   "cell_type": "code",
   "execution_count": null,
   "metadata": {},
   "outputs": [],
   "source": [
    "# # # # # RUN THIS CELL TO CHECK YOUR RESULTS # # # # # \n",
    "from check import check_solution\n",
    "check_solution([\n",
    "    (\"pv_simulation_w(0, 42)\", 0),\n",
    "    (\"pv_simulation_w(42, 0)\", 0),\n",
    "    (\"pv_simulation_w(100, 20_000)\", 360_000),\n",
    "], globals())"
   ]
  },
  {
   "cell_type": "markdown",
   "metadata": {},
   "source": [
    "<div style=\"color:#555;border-top:1px solid #999;text-align:right;padding:4px;\">End of exercise</div>"
   ]
  },
  {
   "cell_type": "markdown",
   "metadata": {},
   "source": [
    "# If statements"
   ]
  },
  {
   "cell_type": "markdown",
   "metadata": {},
   "source": [
    "Is this result realistic? What is the rated capacity of turbines?"
   ]
  },
  {
   "cell_type": "code",
   "execution_count": null,
   "metadata": {},
   "outputs": [],
   "source": [
    "wind_speed_ms_high = 30\n",
    "rotor_size_m_vestas = 100\n",
    "windturbine_simulation_mw(wind_speed_ms_high, rotor_size_m_vestas)"
   ]
  },
  {
   "cell_type": "markdown",
   "metadata": {},
   "source": [
    "This is too high. The largest turbine on market currently has a rated capacity of around 15 MW. We somehow have to deal with the fact that power-output is constrained from the top. "
   ]
  },
  {
   "cell_type": "markdown",
   "metadata": {},
   "source": [
    "We will use if statements to improve the function. A simple example using if statements. Observe: intendation matters! Furthermore, any code enclosed in `\"` is interpreted by Python as text. It is not interpreted as Python code and can be used to annotate output."
   ]
  },
  {
   "cell_type": "code",
   "execution_count": null,
   "metadata": {},
   "outputs": [],
   "source": [
    "x = 1\n",
    "if x < 42:\n",
    "    print(\"x is smaller than 42\")\n",
    "else:\n",
    "    print(\"x is not smaller than 42\")"
   ]
  },
  {
   "cell_type": "markdown",
   "metadata": {},
   "source": [
    "Let's now improve our function:"
   ]
  },
  {
   "cell_type": "code",
   "execution_count": null,
   "metadata": {},
   "outputs": [],
   "source": [
    "def windturbine_simulation_improved_mw(wind_speed_ms, rotor_diameter_m, rated_capacity_mw):\n",
    "    \"\"\"Calculate output of a wind turbine in MW, given wind speed in m/s and rotor_diameter in m, \n",
    "       accounting for rated capacity.\"\"\"\n",
    "    c_p = 0.4\n",
    "    rho = 1\n",
    "    area = rotor_diameter_m**2 * np.pi / 4\n",
    "    p_out = c_p * 0.5 * rho * area * wind_speed_ms**3 / 1_000_000\n",
    "    if p_out > rated_capacity_mw:\n",
    "        p_out = rated_capacity_mw\n",
    "    return p_out\n",
    "\n",
    "wind_speed_ms_high = 25\n",
    "rotor_diameter_m_vestas = 100\n",
    "rated_capacity_mw_vestas = 3\n",
    "\n",
    "print(windturbine_simulation_mw(wind_speed_ms_high, rotor_diameter_m_vestas))\n",
    "print(windturbine_simulation_improved_mw(wind_speed_ms_high, rotor_diameter_m_vestas, rated_capacity_mw_vestas))"
   ]
  },
  {
   "cell_type": "markdown",
   "metadata": {},
   "source": [
    "## Exercise 4\n",
    "\n",
    "Load depends on the temperature in a V shaped manner. This is the average temperature in Texas, plotted against the load on the electricity grid using real data:\n",
    "\n",
    "![Load temperature curve in Texas](images/load.png)\n",
    "\n",
    "We want to coarsely model this depend behaviour, writing a function called `determine_load_gw`. It determines the `load` on an electricity grid, depending on outside temperature $t$. If the temperature is below 15 degrees, people start heating and therefore\n",
    "\n",
    "$$\n",
    "    \\mathrm{load} = 20 + (15 - t) \\cdot 1.4.\n",
    "$$\n",
    "    \n",
    "If the temperature is above 15 degrees, people start cooling, so we assume\n",
    "\n",
    "$$\n",
    "    \\mathrm{load} = 20 + (t - 15) \\cdot 1.4.\n",
    "$$\n",
    "\n",
    "Test the function for temperatures -5, 0, 5, 10, 14, 15, 16, 20, 25."
   ]
  },
  {
   "cell_type": "code",
   "execution_count": null,
   "id": "7a633df0",
   "metadata": {},
   "outputs": [],
   "source": [
    "# # # # # YOUR SOLUTION GOES HERE # # # # #"
   ]
  },
  {
   "cell_type": "code",
   "execution_count": null,
   "metadata": {},
   "outputs": [],
   "source": [
    "# # # # # RUN THIS CELL TO CHECK YOUR RESULTS # # # # # \n",
    "from check import check_solution\n",
    "check_solution([\n",
    "    (\"determine_load_gw(-5)\", 48),\n",
    "    (\"determine_load_gw(0)\", 41),\n",
    "    (\"determine_load_gw(5)\", 34),\n",
    "    (\"determine_load_gw(10)\", 27),\n",
    "    (\"determine_load_gw(14)\", 21.4),\n",
    "    (\"determine_load_gw(15)\", 20),\n",
    "    (\"determine_load_gw(16)\", 21.4),\n",
    "    (\"determine_load_gw(20)\", 27),\n",
    "    (\"determine_load_gw(25)\", 34)    \n",
    "], globals())"
   ]
  },
  {
   "cell_type": "markdown",
   "metadata": {},
   "source": [
    "<div style=\"color:#555;border-top:1px solid #999;text-align:right;padding:4px;\">End of exercise</div>"
   ]
  },
  {
   "cell_type": "markdown",
   "metadata": {},
   "source": [
    "## Difference between return and print in a function\n",
    "\n",
    "The following two functions only differ in their last line."
   ]
  },
  {
   "cell_type": "code",
   "execution_count": null,
   "metadata": {},
   "outputs": [],
   "source": [
    "\n",
    "\n",
    "def determine_load_gw_return(temperature_dc):\n",
    "    \"\"\"Determine load in GW given temperature in degree Celsius.\"\"\"\n",
    "    load = 20\n",
    "    if temperature_dc < 15:\n",
    "        load = load + (15 - temperature_dc) * 1.4\n",
    "    if temperature_dc > 15:\n",
    "        load = load + (temperature_dc - 15) * 1.4\n",
    "\n",
    "    return load\n",
    "\n",
    "def determine_load_gw_print(temperature_dc):\n",
    "    \"\"\"Determine load in GW given temperature in degree Celsius.\"\"\"\n",
    "    load = 20\n",
    "    if temperature_dc < 15:\n",
    "        load = load + (15 - temperature_dc) * 1.4\n",
    "    if temperature_dc > 15:\n",
    "        load = load + (temperature_dc - 15) * 1.4\n",
    "\n",
    "    print(load)"
   ]
  },
  {
   "cell_type": "code",
   "execution_count": null,
   "metadata": {},
   "outputs": [],
   "source": [
    "determine_load_gw_return(20)"
   ]
  },
  {
   "cell_type": "code",
   "execution_count": null,
   "metadata": {},
   "outputs": [],
   "source": [
    "determine_load_gw_print(20)"
   ]
  },
  {
   "cell_type": "markdown",
   "metadata": {},
   "source": [
    "They seem to give the same result... but wait!"
   ]
  },
  {
   "cell_type": "code",
   "execution_count": null,
   "metadata": {},
   "outputs": [],
   "source": [
    "load_return = determine_load_gw_return(20)\n",
    "load_print = determine_load_gw_print(20)"
   ]
  },
  {
   "cell_type": "code",
   "execution_count": null,
   "metadata": {},
   "outputs": [],
   "source": [
    "load_return"
   ]
  },
  {
   "cell_type": "code",
   "execution_count": null,
   "metadata": {},
   "outputs": [],
   "source": [
    "load_return == None"
   ]
  },
  {
   "cell_type": "code",
   "execution_count": null,
   "metadata": {},
   "outputs": [],
   "source": [
    "load_print"
   ]
  },
  {
   "cell_type": "code",
   "execution_count": null,
   "metadata": {},
   "outputs": [],
   "source": [
    "load_print == None"
   ]
  },
  {
   "cell_type": "markdown",
   "metadata": {},
   "source": [
    "Note the difference! The `determine_load_gw_return` function uses a `return` statement at the end. The result of this function is therefore the value of the load variable returned. The `determine_load_gw_print` function uses a `print`statement at the end. It will return `None`, and additionally print the result to the screen. This is a crucial difference! Note: `None` is used if a variable does not contain any value."
   ]
  },
  {
   "cell_type": "markdown",
   "metadata": {},
   "source": [
    "## Bonus exercise 5\n",
    "\n",
    "Instead of using an if statement, you can also use a function that allows you to calculate the absolute value of a number, which can also be used to solve the example. Try to look it up on the internet and write the function `determine_load_alternative_gw`, using it."
   ]
  },
  {
   "cell_type": "code",
   "execution_count": null,
   "id": "e89b4224",
   "metadata": {},
   "outputs": [],
   "source": [
    "# # # # # YOUR SOLUTION GOES HERE # # # # #"
   ]
  },
  {
   "cell_type": "code",
   "execution_count": null,
   "metadata": {},
   "outputs": [],
   "source": [
    "# # # # # RUN THIS CELL TO CHECK YOUR RESULTS # # # # # \n",
    "from check import check_solution\n",
    "check_solution([\n",
    "    (\"determine_load_alternative_gw(-5)\", 48),\n",
    "    (\"determine_load_alternative_gw(0)\", 41),\n",
    "    (\"determine_load_alternative_gw(5)\", 34),\n",
    "    (\"determine_load_alternative_gw(10)\", 27),\n",
    "    (\"determine_load_alternative_gw(14)\", 21.4),\n",
    "    (\"determine_load_alternative_gw(15)\", 20),\n",
    "    (\"determine_load_alternative_gw(16)\", 21.4),\n",
    "    (\"determine_load_alternative_gw(20)\", 27),\n",
    "    (\"determine_load_alternative_gw(25)\", 34)\n",
    "], globals())"
   ]
  },
  {
   "cell_type": "markdown",
   "metadata": {},
   "source": [
    "<div style=\"color:#555;border-top:1px solid #999;text-align:right;padding:4px;\">End of exercise</div>"
   ]
  }
 ],
 "metadata": {
  "colab": {
   "generative_ai_disabled": true,
   "provenance": []
  },
  "kernelspec": {
   "display_name": "Python",
   "language": "python3",
   "name": "python3"
  }
 },
 "nbformat": 4,
 "nbformat_minor": 4
}
