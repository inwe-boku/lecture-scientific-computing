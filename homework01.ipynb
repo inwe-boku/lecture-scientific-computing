{
 "cells": [
  {
   "cell_type": "markdown",
   "metadata": {},
   "source": [
    "# Exercise 1 - Terminology\n",
    "\n",
    "Describe the following terms with your own words:\n",
    "\n",
    "- Function:\n",
    "- Variable:\n",
    "- Calling a function:\n",
    "- If statement:"
   ]
  },
  {
   "cell_type": "code",
   "execution_count": null,
   "id": "89312d6f",
   "metadata": {},
   "outputs": [],
   "source": [
    "# # # # # YOUR SOLUTION GOES HERE # # # # #"
   ]
  },
  {
   "cell_type": "markdown",
   "metadata": {},
   "source": [
    "# Exercise 2 - Count team members\n",
    "\n",
    "Introduce your self to your team by printing your name to the screen and mentioning that you are the n-th team member.\n",
    "\n",
    "The first team member should start by defining a variable `n` and set it to `1`. Print a text like \"Hey, I am Bob. I am team member number 1\". Use the variable `n` to print the number. The next team member should increment the variable by adding 1 to it and then calling print another time.  _Incrementation_ means that the value of the variable is changed. You should not need to use the numbers `2` or `3` or `4` explicitly.\n",
    "\n",
    "Note that you can pass multiple parameters to `print()` to concatenate values, i.e. `print(\"something\", \"another thing\")`."
   ]
  },
  {
   "cell_type": "code",
   "execution_count": null,
   "id": "e52dd97a",
   "metadata": {},
   "outputs": [],
   "source": [
    "# # # # # YOUR SOLUTION GOES HERE # # # # #"
   ]
  },
  {
   "cell_type": "markdown",
   "metadata": {},
   "source": [
    "# Exercise 3 - Weight of a snowman\n",
    "\n",
    "\n",
    "Calculate the weight of a snowman. Assume that snow weighs 830 kg/m³. The diameter of the lower ball has a diameter of 70 cm, the middle one 42 cm and the upper one 23 cm. Ignore all materials except the snow. First develop a function called `ball_volume()` which can calculate the volume of any snowball, given the diameter. Then use that function to calculate the volume of the three balls, add them up and multiply with the given snow density. Store the final result in a variable called `snowman_weight` (in kg).\n",
    "\n",
    "![Snowman](images/snowman.png)\n"
   ]
  },
  {
   "cell_type": "markdown",
   "metadata": {},
   "source": [
    "Additional hint:\n",
    "\n",
    "In the lecture notes and in the homework, sometimes we refer to a function `my_func(param1, param2)` just as `my_func()` without explicitly mentioning the parameters, when describing the function in text. This is a bit sloppy and not valid Python code. In exercise 3 the function ball_volume() is not supposed to be without parameters! Try to design it in a way that makes sense! "
   ]
  },
  {
   "cell_type": "code",
   "execution_count": null,
   "id": "4bce871a",
   "metadata": {},
   "outputs": [],
   "source": [
    "# # # # # YOUR SOLUTION GOES HERE # # # # #"
   ]
  },
  {
   "cell_type": "code",
   "execution_count": null,
   "metadata": {},
   "outputs": [],
   "source": [
    "# # # # # RUN THIS CELL TO CHECK YOUR RESULTS # # # # # \n",
    "\n",
    "from urllib.request import urlretrieve\n",
    "import os.path\n",
    "if not os.path.exists('check.py'):\n",
    "    urlretrieve('https://files.boku.ac.at/filr/public-link/file-download/0d7483b89572915c0195813e2edf66f6/18652/4113939315873631059/check.py', filename='check.py')\n",
    "from check import check_solution\n",
    "from types import FunctionType\n",
    "check_solution([\n",
    "    (\"snowman_weight\", 186.55),\n",
    "    (\"type(ball_volume)\", FunctionType, \"ball_volume() is not a function\"),\n",
    "    (\"ball_volume.__code__.co_argcount\", 1, (\"invalid number of parameters: the function ball_volume() \"\n",
    "                                             \"is supposed to have one parameter, are you sure you defined it the best way?\")),\n",
    "], globals())"
   ]
  },
  {
   "cell_type": "markdown",
   "metadata": {},
   "source": [
    "# Exercise 4 - Comparing hydrogen land-use in Austria & Brazil\n",
    "\n",
    "### (a) Function `convert_ej_to_twh`\n",
    "Develop a function `convert_ej_to_twh(energy_ej)` which converts the number given in the input parameter `energy_ej` to the unit TWh and returns this value. Observe that `1 TWh = 1_000_000 / 3600 EJ`. \n",
    "\n",
    "\n",
    "### (b) Function `land_area_hydrogen_km2`\n",
    "Write a function `land_area_hydrogen_km2(hydrogen_twh, pv_production_twh_per_km2_per_year, efficiency_electrolyzer)`.  The function returns the land area (in km²) required to produce a certain amount of hydrogen (in TWh) `hydrogen_twh`, given the PV production in TWh per km² per year (`pv_production_twh_per_km2_per_year`), and the electrolzyer efficiency `efficiency_electrolyzer`. \n",
    "\n",
    "The correct formula to use in this context is `land_area_km2 = hydrogen_twh / efficiency_electrolyzer / pv_production_twh_per_km2_per_year`. `land_area_km2` should be returned from the function.\n",
    "\n",
    "### (c) Determine land area\n",
    "Use these two functions to calculate the area necessary to supply the current primary energy consumption of Brazil and of Austria in the year 2020. These values are:\n",
    "`consumption_at_ej = 1.38` and `consumption_br_ej = 12.01`\n",
    "\n",
    "Assume that the average PV production in Austria is 0.05 TWh / km² / year and 0.1 TWh / km² / year in Brazil. Assume that  `efficiency_electrolyzer = 0.65`.\n",
    "\n",
    "Store the area in km² in the variables `area_hydrogen_km2_at` and `area_hydrogen_km2_br`.\n",
    "\n",
    "### (d) Determine share of national land area\n",
    "How much of the land area (in %) is covered in the two countries? The respective areas are:\n",
    "`area_at_km2 = 83_879` and `area_br_km2 = 8_515_767`.\n",
    "\n",
    "Store the share of the national area in `share_area_at` and `share_area_br`."
   ]
  },
  {
   "cell_type": "code",
   "execution_count": null,
   "id": "2cab8b09",
   "metadata": {},
   "outputs": [],
   "source": [
    "# # # # # YOUR SOLUTION GOES HERE # # # # #"
   ]
  },
  {
   "cell_type": "code",
   "execution_count": null,
   "metadata": {},
   "outputs": [],
   "source": [
    "# # # # # RUN THIS CELL TO CHECK YOUR RESULTS # # # # # \n",
    "\n",
    "from urllib.request import urlretrieve\n",
    "import os.path\n",
    "if not os.path.exists('check.py'):\n",
    "    urlretrieve('https://files.boku.ac.at/filr/public-link/file-download/0d7483b89572915c0195813e2edf66f6/18652/4113939315873631059/check.py', filename='check.py')\n",
    "from check import check_solution\n",
    "check_solution([\n",
    "    (\"round(area_hydrogen_km2_at)\", 11_795),\n",
    "    (\"round(area_hydrogen_km2_br)\", 51_325),\n",
    "    (\"share_area_at\", 14.06),\n",
    "    (\"share_area_br\", 0.60),\n",
    "], globals())"
   ]
  },
  {
   "cell_type": "markdown",
   "metadata": {},
   "source": [
    "# Exercise 5 - Implement the function round (optional bonus exercise)\n",
    "\n",
    "Implement a function `my_own_round(number, ndigits)` without using the function `round()`. You can use the function `int()` to discard the values after the comma, i.e. `int(2.73902) == int(2)`. Call your own round function with three different values of your choice, then run the cell with test statements below to further test your function. Before you start writing your function, you may want to test `int()` on arbitrary values, e.g. `int(2.432)`, `int(1.004)` to further understand how it works.\n",
    "\n",
    "The function does not need to work for negative values. Bonus points if you make it work for negative values too :)\n",
    "\n",
    "In some rare cases `my_own_round()` may return a different result than `round()`: you don't need to handle the cases where the `number` is exactly in the middle between of the two choices, e.g. for `round(1.5, 0)` both results `1.0` or `2.0` are a valid solution. Similarly for `round(1.45, 1)` both `1.4` and `1.5` are a valid solution. Life is too complicated in this case ([due to numerical errors and round half to even](https://docs.python.org/3/library/functions.html#round)).\n",
    "\n",
    "_Note:_ `round()` behaves differently in Python 3 than in Python 2. In Python 3, `round` sometimes rounds up and sometimes rounds down when the `number` is exactly in the middle between two choices. [This notebook](https://datalore.jetbrains.com/view/notebook/eutbkU7PMymp5F9diCVfK1) explains a bit more details (it's the answer to a question which popped up during the lecture in 2021).\n",
    "\n",
    "**Hint 1:** If you want to round `1.123` to `1.1`, you can use the function `int()` on the value `11.23` to discard the digits `2` and `3`.\n",
    "\n",
    "**Hint 2:** You probably will need some kind of distinction between the cases where you need to round up or down. An if statement is a good choice.\n",
    "\n",
    "**Hint 3:** There is a solution with 4-5 lines of code which uses only int(), **, +, - *, =, <= and if. You should not need to use more than one `if` statement. If you want to make it work for negative numbers too, `abs()` may come in handy."
   ]
  },
  {
   "cell_type": "code",
   "execution_count": null,
   "id": "53d7152b",
   "metadata": {},
   "outputs": [],
   "source": [
    "# # # # # YOUR SOLUTION GOES HERE # # # # #"
   ]
  },
  {
   "cell_type": "code",
   "execution_count": null,
   "metadata": {},
   "outputs": [],
   "source": [
    "# # # # # RUN THIS CELL TO CHECK YOUR RESULTS # # # # # \n",
    "\n",
    "from urllib.request import urlretrieve\n",
    "import os.path\n",
    "if not os.path.exists('check.py'):\n",
    "    urlretrieve('https://files.boku.ac.at/filr/public-link/file-download/0d7483b89572915c0195813e2edf66f6/18652/4113939315873631059/check.py', filename='check.py')\n",
    "from check import check_solution\n",
    "round_test_parameters = [(0, 3), (42, 0), (1.5, 0), (1.55, 1), (1.7, 0), (1.36, 1),\n",
    "                         (1.1234, 0), (1.1234, 1), (1.1234, 2)]\n",
    "check_solution([(f\"my_own_round(*{param})\", round(*param))\n",
    "                for param in round_test_parameters], globals())"
   ]
  }
 ],
 "metadata": {
  "colab": {
   "generative_ai_disabled": true,
   "provenance": []
  },
  "kernelspec": {
   "display_name": "Python",
   "language": "python3",
   "name": "python3"
  }
 },
 "nbformat": 4,
 "nbformat_minor": 4
}
