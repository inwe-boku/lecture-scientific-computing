{
 "cells": [
  {
   "cell_type": "code",
   "execution_count": 1,
   "metadata": {
    "slideshow": {
     "slide_type": "skip"
    }
   },
   "outputs": [],
   "source": [
    "import glob\n",
    "import os.path\n",
    "\n",
    "import numpy as np\n",
    "import pandas as pd\n",
    "import matplotlib\n",
    "import matplotlib.pyplot as plt\n",
    "\n",
    "\n",
    "from sklearn import datasets, linear_model, ensemble, neural_network\n",
    "from sklearn.metrics import mean_squared_error, r2_score\n",
    "from sklearn.model_selection import train_test_split\n",
    "\n",
    "from pathlib import Path"
   ]
  },
  {
   "cell_type": "code",
   "execution_count": 2,
   "metadata": {
    "slideshow": {
     "slide_type": "skip"
    }
   },
   "outputs": [],
   "source": [
    "# Use this for larger plots:\n",
    "#matplotlib.rc('figure', figsize=(15, 10))\n",
    "matplotlib.rc('figure', figsize=(10, 8))"
   ]
  },
  {
   "cell_type": "markdown",
   "metadata": {
    "slideshow": {
     "slide_type": "slide"
    }
   },
   "source": [
    "<div style=\"text-align:center\">\n",
    "<h1>xarray</h1>\n",
    "\n",
    "<br><br>\n",
    "<img src=\"xarray-logo.png\" style=\"width: 50%; margin: auto;\">\n",
    "</div>"
   ]
  },
  {
   "cell_type": "code",
   "execution_count": 3,
   "metadata": {
    "slideshow": {
     "slide_type": "skip"
    }
   },
   "outputs": [],
   "source": [
    "COUNTRIES = 'Austria', 'Germany', 'Switzerland', 'Italy', 'Spain', 'Sweden', 'United Kingdom'"
   ]
  },
  {
   "cell_type": "markdown",
   "metadata": {
    "slideshow": {
     "slide_type": "skip"
    }
   },
   "source": [
    "# From previous lecture..."
   ]
  },
  {
   "cell_type": "code",
   "execution_count": 4,
   "metadata": {
    "slideshow": {
     "slide_type": "skip"
    }
   },
   "outputs": [],
   "source": [
    "CONFIG_FILE = '../entsoe-data.config'\n",
    "\n",
    "if not os.path.exists(CONFIG_FILE):\n",
    "    download_dir = input('Path to ENTSO-E data folder: ')\n",
    "    if not os.path.isdir(download_dir):\n",
    "        raise RuntimeError(f'Invalid download_dir, please run cell again: {download_dir}')\n",
    "    with open(CONFIG_FILE, 'w') as f:\n",
    "        f.write(download_dir)\n",
    "else:\n",
    "    with open(CONFIG_FILE) as f:\n",
    "        download_dir = f.read()\n",
    "        \n",
    "# Clear the output after this cell if you want to aovid having your path in the notebook (or execute it twice)!"
   ]
  },
  {
   "cell_type": "code",
   "execution_count": 5,
   "metadata": {
    "slideshow": {
     "slide_type": "skip"
    }
   },
   "outputs": [
    {
     "name": "stdout",
     "output_type": "stream",
     "text": [
      "Concatenating 68 csv files...\n",
      "Files read, concatenating to dataframe...\n",
      "Sorting and indexing...\n",
      "Resampling...\n",
      "Reshaping dataframe...\n",
      "Loading done.\n"
     ]
    }
   ],
   "source": [
    "def read_single_csv_entso_e(file):\n",
    "    return pd.read_csv(file, sep='\\t', encoding='utf-16', parse_dates=[\"DateTime\"])\n",
    "\n",
    "\n",
    "def load_complete_entso_e_data(directory):\n",
    "    pattern = Path(directory) / '*.csv'\n",
    "    files = glob.glob(str(pattern))\n",
    "\n",
    "    if not files:\n",
    "        raise ValueError(f\"No files found when searching in {pattern}, wrong directory?\")\n",
    "    \n",
    "    print(f'Concatenating {len(files)} csv files...')\n",
    "\n",
    "    each_csv_file = [read_single_csv_entso_e(file) for file in files]\n",
    "    \n",
    "    print(\"Files read, concatenating to dataframe...\")\n",
    "    data = pd.concat(each_csv_file, ignore_index=True)\n",
    "    \n",
    "    print(\"Sorting and indexing...\")\n",
    "    data = data.set_index(\"DateTime\")\n",
    "    data.sort_index(inplace=True)\n",
    "    \n",
    "    # filter only for countries under consideration to make things faster and consume less RAM...\n",
    "    data_ = data[data.AreaName.isin(COUNTRIES)].copy()\n",
    "    del data\n",
    "    data = data_\n",
    "    \n",
    "    print(\"Resampling...\")\n",
    "    data = data.groupby('AreaName').resample(\"1h\").mean()\n",
    "    \n",
    "    # we should end up with a dataframe with DateTime as index, AreaName as columns\n",
    "    # and Total load as entries...\n",
    "    print(\"Reshaping dataframe...\")\n",
    "    data = data.TotalLoadValue.unstack(level=0).interpolate()\n",
    "    \n",
    "    print(\"Loading done.\")\n",
    "\n",
    "    return data\n",
    "\n",
    "\n",
    "# note: this might require 3GB of RAM\n",
    "\n",
    "power_demand = load_complete_entso_e_data(download_dir)"
   ]
  },
  {
   "cell_type": "markdown",
   "metadata": {
    "slideshow": {
     "slide_type": "slide"
    }
   },
   "source": [
    "# Temperature data\n",
    "\n",
    "ERA5 data is provided as NetCDF file. The library `xarray` comes in very handy to load such files."
   ]
  },
  {
   "cell_type": "code",
   "execution_count": 6,
   "metadata": {
    "slideshow": {
     "slide_type": "fragment"
    }
   },
   "outputs": [],
   "source": [
    "import xarray as xr"
   ]
  },
  {
   "cell_type": "code",
   "execution_count": 7,
   "metadata": {
    "slideshow": {
     "slide_type": "fragment"
    }
   },
   "outputs": [],
   "source": [
    "temperatures_dataset = xr.load_dataset('../data/temperatures_era5.nc')"
   ]
  },
  {
   "cell_type": "code",
   "execution_count": 8,
   "metadata": {
    "slideshow": {
     "slide_type": "slide"
    }
   },
   "outputs": [
    {
     "data": {
      "text/html": [
       "<div><svg style=\"position: absolute; width: 0; height: 0; overflow: hidden\">\n",
       "<defs>\n",
       "<symbol id=\"icon-database\" viewBox=\"0 0 32 32\">\n",
       "<title>Show/Hide data repr</title>\n",
       "<path d=\"M16 0c-8.837 0-16 2.239-16 5v4c0 2.761 7.163 5 16 5s16-2.239 16-5v-4c0-2.761-7.163-5-16-5z\"></path>\n",
       "<path d=\"M16 17c-8.837 0-16-2.239-16-5v6c0 2.761 7.163 5 16 5s16-2.239 16-5v-6c0 2.761-7.163 5-16 5z\"></path>\n",
       "<path d=\"M16 26c-8.837 0-16-2.239-16-5v6c0 2.761 7.163 5 16 5s16-2.239 16-5v-6c0 2.761-7.163 5-16 5z\"></path>\n",
       "</symbol>\n",
       "<symbol id=\"icon-file-text2\" viewBox=\"0 0 32 32\">\n",
       "<title>Show/Hide attributes</title>\n",
       "<path d=\"M28.681 7.159c-0.694-0.947-1.662-2.053-2.724-3.116s-2.169-2.030-3.116-2.724c-1.612-1.182-2.393-1.319-2.841-1.319h-15.5c-1.378 0-2.5 1.121-2.5 2.5v27c0 1.378 1.122 2.5 2.5 2.5h23c1.378 0 2.5-1.122 2.5-2.5v-19.5c0-0.448-0.137-1.23-1.319-2.841zM24.543 5.457c0.959 0.959 1.712 1.825 2.268 2.543h-4.811v-4.811c0.718 0.556 1.584 1.309 2.543 2.268zM28 29.5c0 0.271-0.229 0.5-0.5 0.5h-23c-0.271 0-0.5-0.229-0.5-0.5v-27c0-0.271 0.229-0.5 0.5-0.5 0 0 15.499-0 15.5 0v7c0 0.552 0.448 1 1 1h7v19.5z\"></path>\n",
       "<path d=\"M23 26h-14c-0.552 0-1-0.448-1-1s0.448-1 1-1h14c0.552 0 1 0.448 1 1s-0.448 1-1 1z\"></path>\n",
       "<path d=\"M23 22h-14c-0.552 0-1-0.448-1-1s0.448-1 1-1h14c0.552 0 1 0.448 1 1s-0.448 1-1 1z\"></path>\n",
       "<path d=\"M23 18h-14c-0.552 0-1-0.448-1-1s0.448-1 1-1h14c0.552 0 1 0.448 1 1s-0.448 1-1 1z\"></path>\n",
       "</symbol>\n",
       "</defs>\n",
       "</svg>\n",
       "<style>/* CSS stylesheet for displaying xarray objects in jupyterlab.\n",
       " *\n",
       " */\n",
       "\n",
       ":root {\n",
       "  --xr-font-color0: var(--jp-content-font-color0, rgba(0, 0, 0, 1));\n",
       "  --xr-font-color2: var(--jp-content-font-color2, rgba(0, 0, 0, 0.54));\n",
       "  --xr-font-color3: var(--jp-content-font-color3, rgba(0, 0, 0, 0.38));\n",
       "  --xr-border-color: var(--jp-border-color2, #e0e0e0);\n",
       "  --xr-disabled-color: var(--jp-layout-color3, #bdbdbd);\n",
       "  --xr-background-color: var(--jp-layout-color0, white);\n",
       "  --xr-background-color-row-even: var(--jp-layout-color1, white);\n",
       "  --xr-background-color-row-odd: var(--jp-layout-color2, #eeeeee);\n",
       "}\n",
       "\n",
       ".xr-wrap {\n",
       "  min-width: 300px;\n",
       "  max-width: 700px;\n",
       "}\n",
       "\n",
       ".xr-header {\n",
       "  padding-top: 6px;\n",
       "  padding-bottom: 6px;\n",
       "  margin-bottom: 4px;\n",
       "  border-bottom: solid 1px var(--xr-border-color);\n",
       "}\n",
       "\n",
       ".xr-header > div,\n",
       ".xr-header > ul {\n",
       "  display: inline;\n",
       "  margin-top: 0;\n",
       "  margin-bottom: 0;\n",
       "}\n",
       "\n",
       ".xr-obj-type,\n",
       ".xr-array-name {\n",
       "  margin-left: 2px;\n",
       "  margin-right: 10px;\n",
       "}\n",
       "\n",
       ".xr-obj-type {\n",
       "  color: var(--xr-font-color2);\n",
       "}\n",
       "\n",
       ".xr-sections {\n",
       "  padding-left: 0 !important;\n",
       "  display: grid;\n",
       "  grid-template-columns: 150px auto auto 1fr 20px 20px;\n",
       "}\n",
       "\n",
       ".xr-section-item {\n",
       "  display: contents;\n",
       "}\n",
       "\n",
       ".xr-section-item input {\n",
       "  display: none;\n",
       "}\n",
       "\n",
       ".xr-section-item input + label {\n",
       "  color: var(--xr-disabled-color);\n",
       "}\n",
       "\n",
       ".xr-section-item input:enabled + label {\n",
       "  cursor: pointer;\n",
       "  color: var(--xr-font-color2);\n",
       "}\n",
       "\n",
       ".xr-section-item input:enabled + label:hover {\n",
       "  color: var(--xr-font-color0);\n",
       "}\n",
       "\n",
       ".xr-section-summary {\n",
       "  grid-column: 1;\n",
       "  color: var(--xr-font-color2);\n",
       "  font-weight: 500;\n",
       "}\n",
       "\n",
       ".xr-section-summary > span {\n",
       "  display: inline-block;\n",
       "  padding-left: 0.5em;\n",
       "}\n",
       "\n",
       ".xr-section-summary-in:disabled + label {\n",
       "  color: var(--xr-font-color2);\n",
       "}\n",
       "\n",
       ".xr-section-summary-in + label:before {\n",
       "  display: inline-block;\n",
       "  content: '►';\n",
       "  font-size: 11px;\n",
       "  width: 15px;\n",
       "  text-align: center;\n",
       "}\n",
       "\n",
       ".xr-section-summary-in:disabled + label:before {\n",
       "  color: var(--xr-disabled-color);\n",
       "}\n",
       "\n",
       ".xr-section-summary-in:checked + label:before {\n",
       "  content: '▼';\n",
       "}\n",
       "\n",
       ".xr-section-summary-in:checked + label > span {\n",
       "  display: none;\n",
       "}\n",
       "\n",
       ".xr-section-summary,\n",
       ".xr-section-inline-details {\n",
       "  padding-top: 4px;\n",
       "  padding-bottom: 4px;\n",
       "}\n",
       "\n",
       ".xr-section-inline-details {\n",
       "  grid-column: 2 / -1;\n",
       "}\n",
       "\n",
       ".xr-section-details {\n",
       "  display: none;\n",
       "  grid-column: 1 / -1;\n",
       "  margin-bottom: 5px;\n",
       "}\n",
       "\n",
       ".xr-section-summary-in:checked ~ .xr-section-details {\n",
       "  display: contents;\n",
       "}\n",
       "\n",
       ".xr-array-wrap {\n",
       "  grid-column: 1 / -1;\n",
       "  display: grid;\n",
       "  grid-template-columns: 20px auto;\n",
       "}\n",
       "\n",
       ".xr-array-wrap > label {\n",
       "  grid-column: 1;\n",
       "  vertical-align: top;\n",
       "}\n",
       "\n",
       ".xr-preview {\n",
       "  color: var(--xr-font-color3);\n",
       "}\n",
       "\n",
       ".xr-array-preview,\n",
       ".xr-array-data {\n",
       "  padding: 0 5px !important;\n",
       "  grid-column: 2;\n",
       "}\n",
       "\n",
       ".xr-array-data,\n",
       ".xr-array-in:checked ~ .xr-array-preview {\n",
       "  display: none;\n",
       "}\n",
       "\n",
       ".xr-array-in:checked ~ .xr-array-data,\n",
       ".xr-array-preview {\n",
       "  display: inline-block;\n",
       "}\n",
       "\n",
       ".xr-dim-list {\n",
       "  display: inline-block !important;\n",
       "  list-style: none;\n",
       "  padding: 0 !important;\n",
       "  margin: 0;\n",
       "}\n",
       "\n",
       ".xr-dim-list li {\n",
       "  display: inline-block;\n",
       "  padding: 0;\n",
       "  margin: 0;\n",
       "}\n",
       "\n",
       ".xr-dim-list:before {\n",
       "  content: '(';\n",
       "}\n",
       "\n",
       ".xr-dim-list:after {\n",
       "  content: ')';\n",
       "}\n",
       "\n",
       ".xr-dim-list li:not(:last-child):after {\n",
       "  content: ',';\n",
       "  padding-right: 5px;\n",
       "}\n",
       "\n",
       ".xr-has-index {\n",
       "  font-weight: bold;\n",
       "}\n",
       "\n",
       ".xr-var-list,\n",
       ".xr-var-item {\n",
       "  display: contents;\n",
       "}\n",
       "\n",
       ".xr-var-item > div,\n",
       ".xr-var-item label,\n",
       ".xr-var-item > .xr-var-name span {\n",
       "  background-color: var(--xr-background-color-row-even);\n",
       "  margin-bottom: 0;\n",
       "}\n",
       "\n",
       ".xr-var-item > .xr-var-name:hover span {\n",
       "  padding-right: 5px;\n",
       "}\n",
       "\n",
       ".xr-var-list > li:nth-child(odd) > div,\n",
       ".xr-var-list > li:nth-child(odd) > label,\n",
       ".xr-var-list > li:nth-child(odd) > .xr-var-name span {\n",
       "  background-color: var(--xr-background-color-row-odd);\n",
       "}\n",
       "\n",
       ".xr-var-name {\n",
       "  grid-column: 1;\n",
       "}\n",
       "\n",
       ".xr-var-dims {\n",
       "  grid-column: 2;\n",
       "}\n",
       "\n",
       ".xr-var-dtype {\n",
       "  grid-column: 3;\n",
       "  text-align: right;\n",
       "  color: var(--xr-font-color2);\n",
       "}\n",
       "\n",
       ".xr-var-preview {\n",
       "  grid-column: 4;\n",
       "}\n",
       "\n",
       ".xr-var-name,\n",
       ".xr-var-dims,\n",
       ".xr-var-dtype,\n",
       ".xr-preview,\n",
       ".xr-attrs dt {\n",
       "  white-space: nowrap;\n",
       "  overflow: hidden;\n",
       "  text-overflow: ellipsis;\n",
       "  padding-right: 10px;\n",
       "}\n",
       "\n",
       ".xr-var-name:hover,\n",
       ".xr-var-dims:hover,\n",
       ".xr-var-dtype:hover,\n",
       ".xr-attrs dt:hover {\n",
       "  overflow: visible;\n",
       "  width: auto;\n",
       "  z-index: 1;\n",
       "}\n",
       "\n",
       ".xr-var-attrs,\n",
       ".xr-var-data {\n",
       "  display: none;\n",
       "  background-color: var(--xr-background-color) !important;\n",
       "  padding-bottom: 5px !important;\n",
       "}\n",
       "\n",
       ".xr-var-attrs-in:checked ~ .xr-var-attrs,\n",
       ".xr-var-data-in:checked ~ .xr-var-data {\n",
       "  display: block;\n",
       "}\n",
       "\n",
       ".xr-var-data > table {\n",
       "  float: right;\n",
       "}\n",
       "\n",
       ".xr-var-name span,\n",
       ".xr-var-data,\n",
       ".xr-attrs {\n",
       "  padding-left: 25px !important;\n",
       "}\n",
       "\n",
       ".xr-attrs,\n",
       ".xr-var-attrs,\n",
       ".xr-var-data {\n",
       "  grid-column: 1 / -1;\n",
       "}\n",
       "\n",
       "dl.xr-attrs {\n",
       "  padding: 0;\n",
       "  margin: 0;\n",
       "  display: grid;\n",
       "  grid-template-columns: 125px auto;\n",
       "}\n",
       "\n",
       ".xr-attrs dt, dd {\n",
       "  padding: 0;\n",
       "  margin: 0;\n",
       "  float: left;\n",
       "  padding-right: 10px;\n",
       "  width: auto;\n",
       "}\n",
       "\n",
       ".xr-attrs dt {\n",
       "  font-weight: normal;\n",
       "  grid-column: 1;\n",
       "}\n",
       "\n",
       ".xr-attrs dt:hover span {\n",
       "  display: inline-block;\n",
       "  background: var(--xr-background-color);\n",
       "  padding-right: 10px;\n",
       "}\n",
       "\n",
       ".xr-attrs dd {\n",
       "  grid-column: 2;\n",
       "  white-space: pre-wrap;\n",
       "  word-break: break-all;\n",
       "}\n",
       "\n",
       ".xr-icon-database,\n",
       ".xr-icon-file-text2 {\n",
       "  display: inline-block;\n",
       "  vertical-align: middle;\n",
       "  width: 1em;\n",
       "  height: 1.5em !important;\n",
       "  stroke-width: 0;\n",
       "  stroke: currentColor;\n",
       "  fill: currentColor;\n",
       "}\n",
       "</style><div class='xr-wrap'><div class='xr-header'><div class='xr-obj-type'>xarray.Dataset</div></div><ul class='xr-sections'><li class='xr-section-item'><input id='section-96f6e680-82ba-441f-b324-d6a2803c8520' class='xr-section-summary-in' type='checkbox' disabled ><label for='section-96f6e680-82ba-441f-b324-d6a2803c8520' class='xr-section-summary'  title='Expand/collapse section'>Dimensions:</label><div class='xr-section-inline-details'><ul class='xr-dim-list'><li><span class='xr-has-index'>latitude</span>: 70</li><li><span class='xr-has-index'>longitude</span>: 77</li><li><span class='xr-has-index'>time</span>: 46009</li></ul></div><div class='xr-section-details'></div></li><li class='xr-section-item'><input id='section-9d86f96e-30e0-469e-b8d7-83ca3fd50519' class='xr-section-summary-in' type='checkbox'  checked><label for='section-9d86f96e-30e0-469e-b8d7-83ca3fd50519' class='xr-section-summary' >Coordinates: <span>(3)</span></label><div class='xr-section-inline-details'></div><div class='xr-section-details'><ul class='xr-var-list'><li class='xr-var-item'><div class='xr-var-name'><span class='xr-has-index'>longitude</span></div><div class='xr-var-dims'>(longitude)</div><div class='xr-var-dtype'>float32</div><div class='xr-var-preview xr-preview'>-13.5 -13.0 -12.5 ... 24.0 24.5</div><input id='attrs-d07d19b1-a6e5-47ce-9ebc-cb62a2467216' class='xr-var-attrs-in' type='checkbox' ><label for='attrs-d07d19b1-a6e5-47ce-9ebc-cb62a2467216' title='Show/Hide attributes'><svg class='icon xr-icon-file-text2'><use xlink:href='#icon-file-text2'></use></svg></label><input id='data-13294ecd-c835-4c6f-9025-d564a85d4a67' class='xr-var-data-in' type='checkbox'><label for='data-13294ecd-c835-4c6f-9025-d564a85d4a67' title='Show/Hide data repr'><svg class='icon xr-icon-database'><use xlink:href='#icon-database'></use></svg></label><div class='xr-var-attrs'><dl class='xr-attrs'><dt><span>units :</span></dt><dd>degrees_east</dd><dt><span>long_name :</span></dt><dd>longitude</dd></dl></div><pre class='xr-var-data'>array([-13.5, -13. , -12.5, -12. , -11.5, -11. , -10.5, -10. ,  -9.5,  -9. ,\n",
       "        -8.5,  -8. ,  -7.5,  -7. ,  -6.5,  -6. ,  -5.5,  -5. ,  -4.5,  -4. ,\n",
       "        -3.5,  -3. ,  -2.5,  -2. ,  -1.5,  -1. ,  -0.5,   0. ,   0.5,   1. ,\n",
       "         1.5,   2. ,   2.5,   3. ,   3.5,   4. ,   4.5,   5. ,   5.5,   6. ,\n",
       "         6.5,   7. ,   7.5,   8. ,   8.5,   9. ,   9.5,  10. ,  10.5,  11. ,\n",
       "        11.5,  12. ,  12.5,  13. ,  13.5,  14. ,  14.5,  15. ,  15.5,  16. ,\n",
       "        16.5,  17. ,  17.5,  18. ,  18.5,  19. ,  19.5,  20. ,  20.5,  21. ,\n",
       "        21.5,  22. ,  22.5,  23. ,  23.5,  24. ,  24.5], dtype=float32)</pre></li><li class='xr-var-item'><div class='xr-var-name'><span class='xr-has-index'>latitude</span></div><div class='xr-var-dims'>(latitude)</div><div class='xr-var-dtype'>float32</div><div class='xr-var-preview xr-preview'>70.0 69.5 69.0 ... 36.5 36.0 35.5</div><input id='attrs-f6f57671-9d91-47d3-b274-672d801707dc' class='xr-var-attrs-in' type='checkbox' ><label for='attrs-f6f57671-9d91-47d3-b274-672d801707dc' title='Show/Hide attributes'><svg class='icon xr-icon-file-text2'><use xlink:href='#icon-file-text2'></use></svg></label><input id='data-ce1aa5fa-b014-478f-ab3c-2c3fc92d46b6' class='xr-var-data-in' type='checkbox'><label for='data-ce1aa5fa-b014-478f-ab3c-2c3fc92d46b6' title='Show/Hide data repr'><svg class='icon xr-icon-database'><use xlink:href='#icon-database'></use></svg></label><div class='xr-var-attrs'><dl class='xr-attrs'><dt><span>units :</span></dt><dd>degrees_north</dd><dt><span>long_name :</span></dt><dd>latitude</dd></dl></div><pre class='xr-var-data'>array([70. , 69.5, 69. , 68.5, 68. , 67.5, 67. , 66.5, 66. , 65.5, 65. , 64.5,\n",
       "       64. , 63.5, 63. , 62.5, 62. , 61.5, 61. , 60.5, 60. , 59.5, 59. , 58.5,\n",
       "       58. , 57.5, 57. , 56.5, 56. , 55.5, 55. , 54.5, 54. , 53.5, 53. , 52.5,\n",
       "       52. , 51.5, 51. , 50.5, 50. , 49.5, 49. , 48.5, 48. , 47.5, 47. , 46.5,\n",
       "       46. , 45.5, 45. , 44.5, 44. , 43.5, 43. , 42.5, 42. , 41.5, 41. , 40.5,\n",
       "       40. , 39.5, 39. , 38.5, 38. , 37.5, 37. , 36.5, 36. , 35.5],\n",
       "      dtype=float32)</pre></li><li class='xr-var-item'><div class='xr-var-name'><span class='xr-has-index'>time</span></div><div class='xr-var-dims'>(time)</div><div class='xr-var-dtype'>datetime64[ns]</div><div class='xr-var-preview xr-preview'>2015-01-01 ... 2020-04-01</div><input id='attrs-13913214-487e-4b7f-970a-a78d6bd2f61e' class='xr-var-attrs-in' type='checkbox' ><label for='attrs-13913214-487e-4b7f-970a-a78d6bd2f61e' title='Show/Hide attributes'><svg class='icon xr-icon-file-text2'><use xlink:href='#icon-file-text2'></use></svg></label><input id='data-c4dd6984-7713-469a-a836-20284e8677b3' class='xr-var-data-in' type='checkbox'><label for='data-c4dd6984-7713-469a-a836-20284e8677b3' title='Show/Hide data repr'><svg class='icon xr-icon-database'><use xlink:href='#icon-database'></use></svg></label><div class='xr-var-attrs'><dl class='xr-attrs'><dt><span>long_name :</span></dt><dd>time</dd></dl></div><pre class='xr-var-data'>array([&#x27;2015-01-01T00:00:00.000000000&#x27;, &#x27;2015-01-01T01:00:00.000000000&#x27;,\n",
       "       &#x27;2015-01-01T02:00:00.000000000&#x27;, ..., &#x27;2020-03-31T22:00:00.000000000&#x27;,\n",
       "       &#x27;2020-03-31T23:00:00.000000000&#x27;, &#x27;2020-04-01T00:00:00.000000000&#x27;],\n",
       "      dtype=&#x27;datetime64[ns]&#x27;)</pre></li></ul></div></li><li class='xr-section-item'><input id='section-0f58d3e5-dc89-4604-bc98-c203589d3c59' class='xr-section-summary-in' type='checkbox'  checked><label for='section-0f58d3e5-dc89-4604-bc98-c203589d3c59' class='xr-section-summary' >Data variables: <span>(1)</span></label><div class='xr-section-inline-details'></div><div class='xr-section-details'><ul class='xr-var-list'><li class='xr-var-item'><div class='xr-var-name'><span>t2m</span></div><div class='xr-var-dims'>(time, latitude, longitude)</div><div class='xr-var-dtype'>float32</div><div class='xr-var-preview xr-preview'>nan nan nan ... nan 285.54413 nan</div><input id='attrs-81658ffd-2c62-4b55-aa81-2ce911b55b3a' class='xr-var-attrs-in' type='checkbox' ><label for='attrs-81658ffd-2c62-4b55-aa81-2ce911b55b3a' title='Show/Hide attributes'><svg class='icon xr-icon-file-text2'><use xlink:href='#icon-file-text2'></use></svg></label><input id='data-6ac39f1c-fcf8-473d-bfdb-d4c3c9a0c71c' class='xr-var-data-in' type='checkbox'><label for='data-6ac39f1c-fcf8-473d-bfdb-d4c3c9a0c71c' title='Show/Hide data repr'><svg class='icon xr-icon-database'><use xlink:href='#icon-database'></use></svg></label><div class='xr-var-attrs'><dl class='xr-attrs'><dt><span>units :</span></dt><dd>K</dd><dt><span>long_name :</span></dt><dd>2 metre temperature</dd></dl></div><pre class='xr-var-data'>array([[[      nan,       nan,       nan, ..., 271.84814, 270.50635,\n",
       "         269.94232],\n",
       "        [      nan,       nan,       nan, ..., 272.182  , 271.88733,\n",
       "         271.63693],\n",
       "        [      nan,       nan,       nan, ..., 271.85825, 271.62936,\n",
       "         271.83676],\n",
       "        ...,\n",
       "        [      nan,       nan,       nan, ...,       nan,       nan,\n",
       "               nan],\n",
       "        [      nan,       nan,       nan, ...,       nan,       nan,\n",
       "               nan],\n",
       "        [      nan,       nan,       nan, ...,       nan, 281.32657,\n",
       "               nan]],\n",
       "\n",
       "       [[      nan,       nan,       nan, ..., 271.8418 , 270.56958,\n",
       "         270.0751 ],\n",
       "        [      nan,       nan,       nan, ..., 272.16302, 271.9354 ,\n",
       "         271.6496 ],\n",
       "        [      nan,       nan,       nan, ..., 272.12256, 271.77478,\n",
       "         271.87216],\n",
       "        ...,\n",
       "        [      nan,       nan,       nan, ...,       nan,       nan,\n",
       "               nan],\n",
       "        [      nan,       nan,       nan, ...,       nan,       nan,\n",
       "               nan],\n",
       "        [      nan,       nan,       nan, ...,       nan, 281.20264,\n",
       "               nan]],\n",
       "\n",
       "       [[      nan,       nan,       nan, ..., 271.81778, 270.62778,\n",
       "         270.09662],\n",
       "        [      nan,       nan,       nan, ..., 272.22372, 272.0214 ,\n",
       "         271.60278],\n",
       "        [      nan,       nan,       nan, ..., 272.5892 , 272.1668 ,\n",
       "         272.08716],\n",
       "        ...,\n",
       "        [      nan,       nan,       nan, ...,       nan,       nan,\n",
       "               nan],\n",
       "        [      nan,       nan,       nan, ...,       nan,       nan,\n",
       "               nan],\n",
       "        [      nan,       nan,       nan, ...,       nan, 281.09766,\n",
       "               nan]],\n",
       "\n",
       "       ...,\n",
       "\n",
       "       [[      nan,       nan,       nan, ..., 266.33685, 264.79526,\n",
       "         264.29193],\n",
       "        [      nan,       nan,       nan, ..., 265.28848, 265.32516,\n",
       "         265.45035],\n",
       "        [      nan,       nan,       nan, ..., 265.5591 , 265.27835,\n",
       "         265.45035],\n",
       "        ...,\n",
       "        [      nan,       nan,       nan, ...,       nan,       nan,\n",
       "               nan],\n",
       "        [      nan,       nan,       nan, ...,       nan,       nan,\n",
       "               nan],\n",
       "        [      nan,       nan,       nan, ...,       nan, 285.73886,\n",
       "               nan]],\n",
       "\n",
       "       [[      nan,       nan,       nan, ..., 266.17374, 264.61948,\n",
       "         264.28183],\n",
       "        [      nan,       nan,       nan, ..., 265.11902, 265.20123,\n",
       "         265.40228],\n",
       "        [      nan,       nan,       nan, ..., 265.4124 , 265.21133,\n",
       "         265.41113],\n",
       "        ...,\n",
       "        [      nan,       nan,       nan, ...,       nan,       nan,\n",
       "               nan],\n",
       "        [      nan,       nan,       nan, ...,       nan,       nan,\n",
       "               nan],\n",
       "        [      nan,       nan,       nan, ...,       nan, 285.67438,\n",
       "               nan]],\n",
       "\n",
       "       [[      nan,       nan,       nan, ..., 265.7526 , 263.57236,\n",
       "         263.5471 ],\n",
       "        [      nan,       nan,       nan, ..., 264.9015 , 264.87747,\n",
       "         265.03555],\n",
       "        [      nan,       nan,       nan, ..., 265.23285, 265.009  ,\n",
       "         265.20248],\n",
       "        ...,\n",
       "        [      nan,       nan,       nan, ...,       nan,       nan,\n",
       "               nan],\n",
       "        [      nan,       nan,       nan, ...,       nan,       nan,\n",
       "               nan],\n",
       "        [      nan,       nan,       nan, ...,       nan, 285.54413,\n",
       "               nan]]], dtype=float32)</pre></li></ul></div></li><li class='xr-section-item'><input id='section-092f1577-8ce2-440a-9f16-ed3e172823d7' class='xr-section-summary-in' type='checkbox'  checked><label for='section-092f1577-8ce2-440a-9f16-ed3e172823d7' class='xr-section-summary' >Attributes: <span>(2)</span></label><div class='xr-section-inline-details'></div><div class='xr-section-details'><dl class='xr-attrs'><dt><span>Conventions :</span></dt><dd>CF-1.6</dd><dt><span>history :</span></dt><dd>2020-05-28 18:01:29 GMT by grib_to_netcdf-2.16.0: /opt/ecmwf/eccodes/bin/grib_to_netcdf -S param -o /cache/data4/adaptor.mars.internal-1590681099.923739-18061-1-d4ee6022-e6f4-4d17-bcb2-782d9907eb5a.nc /cache/tmp/d4ee6022-e6f4-4d17-bcb2-782d9907eb5a-adaptor.mars.internal-1590681099.9254963-18061-1-tmp.grib</dd></dl></div></li></ul></div></div>"
      ],
      "text/plain": [
       "<xarray.Dataset>\n",
       "Dimensions:    (latitude: 70, longitude: 77, time: 46009)\n",
       "Coordinates:\n",
       "  * longitude  (longitude) float32 -13.5 -13.0 -12.5 -12.0 ... 23.5 24.0 24.5\n",
       "  * latitude   (latitude) float32 70.0 69.5 69.0 68.5 ... 37.0 36.5 36.0 35.5\n",
       "  * time       (time) datetime64[ns] 2015-01-01 ... 2020-04-01\n",
       "Data variables:\n",
       "    t2m        (time, latitude, longitude) float32 nan nan nan ... 285.54413 nan\n",
       "Attributes:\n",
       "    Conventions:  CF-1.6\n",
       "    history:      2020-05-28 18:01:29 GMT by grib_to_netcdf-2.16.0: /opt/ecmw..."
      ]
     },
     "execution_count": 8,
     "metadata": {},
     "output_type": "execute_result"
    }
   ],
   "source": [
    "temperatures_dataset"
   ]
  },
  {
   "cell_type": "code",
   "execution_count": 9,
   "metadata": {
    "slideshow": {
     "slide_type": "-"
    }
   },
   "outputs": [],
   "source": [
    "temperatures = temperatures_dataset.t2m"
   ]
  },
  {
   "cell_type": "code",
   "execution_count": 10,
   "metadata": {},
   "outputs": [
    {
     "data": {
      "text/html": [
       "<div><svg style=\"position: absolute; width: 0; height: 0; overflow: hidden\">\n",
       "<defs>\n",
       "<symbol id=\"icon-database\" viewBox=\"0 0 32 32\">\n",
       "<title>Show/Hide data repr</title>\n",
       "<path d=\"M16 0c-8.837 0-16 2.239-16 5v4c0 2.761 7.163 5 16 5s16-2.239 16-5v-4c0-2.761-7.163-5-16-5z\"></path>\n",
       "<path d=\"M16 17c-8.837 0-16-2.239-16-5v6c0 2.761 7.163 5 16 5s16-2.239 16-5v-6c0 2.761-7.163 5-16 5z\"></path>\n",
       "<path d=\"M16 26c-8.837 0-16-2.239-16-5v6c0 2.761 7.163 5 16 5s16-2.239 16-5v-6c0 2.761-7.163 5-16 5z\"></path>\n",
       "</symbol>\n",
       "<symbol id=\"icon-file-text2\" viewBox=\"0 0 32 32\">\n",
       "<title>Show/Hide attributes</title>\n",
       "<path d=\"M28.681 7.159c-0.694-0.947-1.662-2.053-2.724-3.116s-2.169-2.030-3.116-2.724c-1.612-1.182-2.393-1.319-2.841-1.319h-15.5c-1.378 0-2.5 1.121-2.5 2.5v27c0 1.378 1.122 2.5 2.5 2.5h23c1.378 0 2.5-1.122 2.5-2.5v-19.5c0-0.448-0.137-1.23-1.319-2.841zM24.543 5.457c0.959 0.959 1.712 1.825 2.268 2.543h-4.811v-4.811c0.718 0.556 1.584 1.309 2.543 2.268zM28 29.5c0 0.271-0.229 0.5-0.5 0.5h-23c-0.271 0-0.5-0.229-0.5-0.5v-27c0-0.271 0.229-0.5 0.5-0.5 0 0 15.499-0 15.5 0v7c0 0.552 0.448 1 1 1h7v19.5z\"></path>\n",
       "<path d=\"M23 26h-14c-0.552 0-1-0.448-1-1s0.448-1 1-1h14c0.552 0 1 0.448 1 1s-0.448 1-1 1z\"></path>\n",
       "<path d=\"M23 22h-14c-0.552 0-1-0.448-1-1s0.448-1 1-1h14c0.552 0 1 0.448 1 1s-0.448 1-1 1z\"></path>\n",
       "<path d=\"M23 18h-14c-0.552 0-1-0.448-1-1s0.448-1 1-1h14c0.552 0 1 0.448 1 1s-0.448 1-1 1z\"></path>\n",
       "</symbol>\n",
       "</defs>\n",
       "</svg>\n",
       "<style>/* CSS stylesheet for displaying xarray objects in jupyterlab.\n",
       " *\n",
       " */\n",
       "\n",
       ":root {\n",
       "  --xr-font-color0: var(--jp-content-font-color0, rgba(0, 0, 0, 1));\n",
       "  --xr-font-color2: var(--jp-content-font-color2, rgba(0, 0, 0, 0.54));\n",
       "  --xr-font-color3: var(--jp-content-font-color3, rgba(0, 0, 0, 0.38));\n",
       "  --xr-border-color: var(--jp-border-color2, #e0e0e0);\n",
       "  --xr-disabled-color: var(--jp-layout-color3, #bdbdbd);\n",
       "  --xr-background-color: var(--jp-layout-color0, white);\n",
       "  --xr-background-color-row-even: var(--jp-layout-color1, white);\n",
       "  --xr-background-color-row-odd: var(--jp-layout-color2, #eeeeee);\n",
       "}\n",
       "\n",
       ".xr-wrap {\n",
       "  min-width: 300px;\n",
       "  max-width: 700px;\n",
       "}\n",
       "\n",
       ".xr-header {\n",
       "  padding-top: 6px;\n",
       "  padding-bottom: 6px;\n",
       "  margin-bottom: 4px;\n",
       "  border-bottom: solid 1px var(--xr-border-color);\n",
       "}\n",
       "\n",
       ".xr-header > div,\n",
       ".xr-header > ul {\n",
       "  display: inline;\n",
       "  margin-top: 0;\n",
       "  margin-bottom: 0;\n",
       "}\n",
       "\n",
       ".xr-obj-type,\n",
       ".xr-array-name {\n",
       "  margin-left: 2px;\n",
       "  margin-right: 10px;\n",
       "}\n",
       "\n",
       ".xr-obj-type {\n",
       "  color: var(--xr-font-color2);\n",
       "}\n",
       "\n",
       ".xr-sections {\n",
       "  padding-left: 0 !important;\n",
       "  display: grid;\n",
       "  grid-template-columns: 150px auto auto 1fr 20px 20px;\n",
       "}\n",
       "\n",
       ".xr-section-item {\n",
       "  display: contents;\n",
       "}\n",
       "\n",
       ".xr-section-item input {\n",
       "  display: none;\n",
       "}\n",
       "\n",
       ".xr-section-item input + label {\n",
       "  color: var(--xr-disabled-color);\n",
       "}\n",
       "\n",
       ".xr-section-item input:enabled + label {\n",
       "  cursor: pointer;\n",
       "  color: var(--xr-font-color2);\n",
       "}\n",
       "\n",
       ".xr-section-item input:enabled + label:hover {\n",
       "  color: var(--xr-font-color0);\n",
       "}\n",
       "\n",
       ".xr-section-summary {\n",
       "  grid-column: 1;\n",
       "  color: var(--xr-font-color2);\n",
       "  font-weight: 500;\n",
       "}\n",
       "\n",
       ".xr-section-summary > span {\n",
       "  display: inline-block;\n",
       "  padding-left: 0.5em;\n",
       "}\n",
       "\n",
       ".xr-section-summary-in:disabled + label {\n",
       "  color: var(--xr-font-color2);\n",
       "}\n",
       "\n",
       ".xr-section-summary-in + label:before {\n",
       "  display: inline-block;\n",
       "  content: '►';\n",
       "  font-size: 11px;\n",
       "  width: 15px;\n",
       "  text-align: center;\n",
       "}\n",
       "\n",
       ".xr-section-summary-in:disabled + label:before {\n",
       "  color: var(--xr-disabled-color);\n",
       "}\n",
       "\n",
       ".xr-section-summary-in:checked + label:before {\n",
       "  content: '▼';\n",
       "}\n",
       "\n",
       ".xr-section-summary-in:checked + label > span {\n",
       "  display: none;\n",
       "}\n",
       "\n",
       ".xr-section-summary,\n",
       ".xr-section-inline-details {\n",
       "  padding-top: 4px;\n",
       "  padding-bottom: 4px;\n",
       "}\n",
       "\n",
       ".xr-section-inline-details {\n",
       "  grid-column: 2 / -1;\n",
       "}\n",
       "\n",
       ".xr-section-details {\n",
       "  display: none;\n",
       "  grid-column: 1 / -1;\n",
       "  margin-bottom: 5px;\n",
       "}\n",
       "\n",
       ".xr-section-summary-in:checked ~ .xr-section-details {\n",
       "  display: contents;\n",
       "}\n",
       "\n",
       ".xr-array-wrap {\n",
       "  grid-column: 1 / -1;\n",
       "  display: grid;\n",
       "  grid-template-columns: 20px auto;\n",
       "}\n",
       "\n",
       ".xr-array-wrap > label {\n",
       "  grid-column: 1;\n",
       "  vertical-align: top;\n",
       "}\n",
       "\n",
       ".xr-preview {\n",
       "  color: var(--xr-font-color3);\n",
       "}\n",
       "\n",
       ".xr-array-preview,\n",
       ".xr-array-data {\n",
       "  padding: 0 5px !important;\n",
       "  grid-column: 2;\n",
       "}\n",
       "\n",
       ".xr-array-data,\n",
       ".xr-array-in:checked ~ .xr-array-preview {\n",
       "  display: none;\n",
       "}\n",
       "\n",
       ".xr-array-in:checked ~ .xr-array-data,\n",
       ".xr-array-preview {\n",
       "  display: inline-block;\n",
       "}\n",
       "\n",
       ".xr-dim-list {\n",
       "  display: inline-block !important;\n",
       "  list-style: none;\n",
       "  padding: 0 !important;\n",
       "  margin: 0;\n",
       "}\n",
       "\n",
       ".xr-dim-list li {\n",
       "  display: inline-block;\n",
       "  padding: 0;\n",
       "  margin: 0;\n",
       "}\n",
       "\n",
       ".xr-dim-list:before {\n",
       "  content: '(';\n",
       "}\n",
       "\n",
       ".xr-dim-list:after {\n",
       "  content: ')';\n",
       "}\n",
       "\n",
       ".xr-dim-list li:not(:last-child):after {\n",
       "  content: ',';\n",
       "  padding-right: 5px;\n",
       "}\n",
       "\n",
       ".xr-has-index {\n",
       "  font-weight: bold;\n",
       "}\n",
       "\n",
       ".xr-var-list,\n",
       ".xr-var-item {\n",
       "  display: contents;\n",
       "}\n",
       "\n",
       ".xr-var-item > div,\n",
       ".xr-var-item label,\n",
       ".xr-var-item > .xr-var-name span {\n",
       "  background-color: var(--xr-background-color-row-even);\n",
       "  margin-bottom: 0;\n",
       "}\n",
       "\n",
       ".xr-var-item > .xr-var-name:hover span {\n",
       "  padding-right: 5px;\n",
       "}\n",
       "\n",
       ".xr-var-list > li:nth-child(odd) > div,\n",
       ".xr-var-list > li:nth-child(odd) > label,\n",
       ".xr-var-list > li:nth-child(odd) > .xr-var-name span {\n",
       "  background-color: var(--xr-background-color-row-odd);\n",
       "}\n",
       "\n",
       ".xr-var-name {\n",
       "  grid-column: 1;\n",
       "}\n",
       "\n",
       ".xr-var-dims {\n",
       "  grid-column: 2;\n",
       "}\n",
       "\n",
       ".xr-var-dtype {\n",
       "  grid-column: 3;\n",
       "  text-align: right;\n",
       "  color: var(--xr-font-color2);\n",
       "}\n",
       "\n",
       ".xr-var-preview {\n",
       "  grid-column: 4;\n",
       "}\n",
       "\n",
       ".xr-var-name,\n",
       ".xr-var-dims,\n",
       ".xr-var-dtype,\n",
       ".xr-preview,\n",
       ".xr-attrs dt {\n",
       "  white-space: nowrap;\n",
       "  overflow: hidden;\n",
       "  text-overflow: ellipsis;\n",
       "  padding-right: 10px;\n",
       "}\n",
       "\n",
       ".xr-var-name:hover,\n",
       ".xr-var-dims:hover,\n",
       ".xr-var-dtype:hover,\n",
       ".xr-attrs dt:hover {\n",
       "  overflow: visible;\n",
       "  width: auto;\n",
       "  z-index: 1;\n",
       "}\n",
       "\n",
       ".xr-var-attrs,\n",
       ".xr-var-data {\n",
       "  display: none;\n",
       "  background-color: var(--xr-background-color) !important;\n",
       "  padding-bottom: 5px !important;\n",
       "}\n",
       "\n",
       ".xr-var-attrs-in:checked ~ .xr-var-attrs,\n",
       ".xr-var-data-in:checked ~ .xr-var-data {\n",
       "  display: block;\n",
       "}\n",
       "\n",
       ".xr-var-data > table {\n",
       "  float: right;\n",
       "}\n",
       "\n",
       ".xr-var-name span,\n",
       ".xr-var-data,\n",
       ".xr-attrs {\n",
       "  padding-left: 25px !important;\n",
       "}\n",
       "\n",
       ".xr-attrs,\n",
       ".xr-var-attrs,\n",
       ".xr-var-data {\n",
       "  grid-column: 1 / -1;\n",
       "}\n",
       "\n",
       "dl.xr-attrs {\n",
       "  padding: 0;\n",
       "  margin: 0;\n",
       "  display: grid;\n",
       "  grid-template-columns: 125px auto;\n",
       "}\n",
       "\n",
       ".xr-attrs dt, dd {\n",
       "  padding: 0;\n",
       "  margin: 0;\n",
       "  float: left;\n",
       "  padding-right: 10px;\n",
       "  width: auto;\n",
       "}\n",
       "\n",
       ".xr-attrs dt {\n",
       "  font-weight: normal;\n",
       "  grid-column: 1;\n",
       "}\n",
       "\n",
       ".xr-attrs dt:hover span {\n",
       "  display: inline-block;\n",
       "  background: var(--xr-background-color);\n",
       "  padding-right: 10px;\n",
       "}\n",
       "\n",
       ".xr-attrs dd {\n",
       "  grid-column: 2;\n",
       "  white-space: pre-wrap;\n",
       "  word-break: break-all;\n",
       "}\n",
       "\n",
       ".xr-icon-database,\n",
       ".xr-icon-file-text2 {\n",
       "  display: inline-block;\n",
       "  vertical-align: middle;\n",
       "  width: 1em;\n",
       "  height: 1.5em !important;\n",
       "  stroke-width: 0;\n",
       "  stroke: currentColor;\n",
       "  fill: currentColor;\n",
       "}\n",
       "</style><div class='xr-wrap'><div class='xr-header'><div class='xr-obj-type'>xarray.DataArray</div><div class='xr-array-name'>'t2m'</div><ul class='xr-dim-list'><li><span class='xr-has-index'>time</span>: 46009</li><li><span class='xr-has-index'>latitude</span>: 70</li><li><span class='xr-has-index'>longitude</span>: 77</li></ul></div><ul class='xr-sections'><li class='xr-section-item'><div class='xr-array-wrap'><input id='section-0a67e47d-0bae-4d0f-bdd9-42c530897cb7' class='xr-array-in' type='checkbox' ><label for='section-0a67e47d-0bae-4d0f-bdd9-42c530897cb7' title='Show/hide data repr'><svg class='icon xr-icon-database'><use xlink:href='#icon-database'></use></svg></label><div class='xr-array-preview xr-preview'><span>nan nan nan nan nan nan nan nan ... nan nan nan nan nan 285.54413 nan</span></div><pre class='xr-array-data'>array([[[      nan,       nan,       nan, ..., 271.84814, 270.50635,\n",
       "         269.94232],\n",
       "        [      nan,       nan,       nan, ..., 272.182  , 271.88733,\n",
       "         271.63693],\n",
       "        [      nan,       nan,       nan, ..., 271.85825, 271.62936,\n",
       "         271.83676],\n",
       "        ...,\n",
       "        [      nan,       nan,       nan, ...,       nan,       nan,\n",
       "               nan],\n",
       "        [      nan,       nan,       nan, ...,       nan,       nan,\n",
       "               nan],\n",
       "        [      nan,       nan,       nan, ...,       nan, 281.32657,\n",
       "               nan]],\n",
       "\n",
       "       [[      nan,       nan,       nan, ..., 271.8418 , 270.56958,\n",
       "         270.0751 ],\n",
       "        [      nan,       nan,       nan, ..., 272.16302, 271.9354 ,\n",
       "         271.6496 ],\n",
       "        [      nan,       nan,       nan, ..., 272.12256, 271.77478,\n",
       "         271.87216],\n",
       "        ...,\n",
       "        [      nan,       nan,       nan, ...,       nan,       nan,\n",
       "               nan],\n",
       "        [      nan,       nan,       nan, ...,       nan,       nan,\n",
       "               nan],\n",
       "        [      nan,       nan,       nan, ...,       nan, 281.20264,\n",
       "               nan]],\n",
       "\n",
       "       [[      nan,       nan,       nan, ..., 271.81778, 270.62778,\n",
       "         270.09662],\n",
       "        [      nan,       nan,       nan, ..., 272.22372, 272.0214 ,\n",
       "         271.60278],\n",
       "        [      nan,       nan,       nan, ..., 272.5892 , 272.1668 ,\n",
       "         272.08716],\n",
       "        ...,\n",
       "        [      nan,       nan,       nan, ...,       nan,       nan,\n",
       "               nan],\n",
       "        [      nan,       nan,       nan, ...,       nan,       nan,\n",
       "               nan],\n",
       "        [      nan,       nan,       nan, ...,       nan, 281.09766,\n",
       "               nan]],\n",
       "\n",
       "       ...,\n",
       "\n",
       "       [[      nan,       nan,       nan, ..., 266.33685, 264.79526,\n",
       "         264.29193],\n",
       "        [      nan,       nan,       nan, ..., 265.28848, 265.32516,\n",
       "         265.45035],\n",
       "        [      nan,       nan,       nan, ..., 265.5591 , 265.27835,\n",
       "         265.45035],\n",
       "        ...,\n",
       "        [      nan,       nan,       nan, ...,       nan,       nan,\n",
       "               nan],\n",
       "        [      nan,       nan,       nan, ...,       nan,       nan,\n",
       "               nan],\n",
       "        [      nan,       nan,       nan, ...,       nan, 285.73886,\n",
       "               nan]],\n",
       "\n",
       "       [[      nan,       nan,       nan, ..., 266.17374, 264.61948,\n",
       "         264.28183],\n",
       "        [      nan,       nan,       nan, ..., 265.11902, 265.20123,\n",
       "         265.40228],\n",
       "        [      nan,       nan,       nan, ..., 265.4124 , 265.21133,\n",
       "         265.41113],\n",
       "        ...,\n",
       "        [      nan,       nan,       nan, ...,       nan,       nan,\n",
       "               nan],\n",
       "        [      nan,       nan,       nan, ...,       nan,       nan,\n",
       "               nan],\n",
       "        [      nan,       nan,       nan, ...,       nan, 285.67438,\n",
       "               nan]],\n",
       "\n",
       "       [[      nan,       nan,       nan, ..., 265.7526 , 263.57236,\n",
       "         263.5471 ],\n",
       "        [      nan,       nan,       nan, ..., 264.9015 , 264.87747,\n",
       "         265.03555],\n",
       "        [      nan,       nan,       nan, ..., 265.23285, 265.009  ,\n",
       "         265.20248],\n",
       "        ...,\n",
       "        [      nan,       nan,       nan, ...,       nan,       nan,\n",
       "               nan],\n",
       "        [      nan,       nan,       nan, ...,       nan,       nan,\n",
       "               nan],\n",
       "        [      nan,       nan,       nan, ...,       nan, 285.54413,\n",
       "               nan]]], dtype=float32)</pre></div></li><li class='xr-section-item'><input id='section-6f9b682d-c486-4ed8-a990-829750308a03' class='xr-section-summary-in' type='checkbox'  checked><label for='section-6f9b682d-c486-4ed8-a990-829750308a03' class='xr-section-summary' >Coordinates: <span>(3)</span></label><div class='xr-section-inline-details'></div><div class='xr-section-details'><ul class='xr-var-list'><li class='xr-var-item'><div class='xr-var-name'><span class='xr-has-index'>longitude</span></div><div class='xr-var-dims'>(longitude)</div><div class='xr-var-dtype'>float32</div><div class='xr-var-preview xr-preview'>-13.5 -13.0 -12.5 ... 24.0 24.5</div><input id='attrs-ab15da90-4c9d-4216-91b6-240e57ae716b' class='xr-var-attrs-in' type='checkbox' ><label for='attrs-ab15da90-4c9d-4216-91b6-240e57ae716b' title='Show/Hide attributes'><svg class='icon xr-icon-file-text2'><use xlink:href='#icon-file-text2'></use></svg></label><input id='data-0186600c-8112-48db-8fd7-9e8b30a33007' class='xr-var-data-in' type='checkbox'><label for='data-0186600c-8112-48db-8fd7-9e8b30a33007' title='Show/Hide data repr'><svg class='icon xr-icon-database'><use xlink:href='#icon-database'></use></svg></label><div class='xr-var-attrs'><dl class='xr-attrs'><dt><span>units :</span></dt><dd>degrees_east</dd><dt><span>long_name :</span></dt><dd>longitude</dd></dl></div><pre class='xr-var-data'>array([-13.5, -13. , -12.5, -12. , -11.5, -11. , -10.5, -10. ,  -9.5,  -9. ,\n",
       "        -8.5,  -8. ,  -7.5,  -7. ,  -6.5,  -6. ,  -5.5,  -5. ,  -4.5,  -4. ,\n",
       "        -3.5,  -3. ,  -2.5,  -2. ,  -1.5,  -1. ,  -0.5,   0. ,   0.5,   1. ,\n",
       "         1.5,   2. ,   2.5,   3. ,   3.5,   4. ,   4.5,   5. ,   5.5,   6. ,\n",
       "         6.5,   7. ,   7.5,   8. ,   8.5,   9. ,   9.5,  10. ,  10.5,  11. ,\n",
       "        11.5,  12. ,  12.5,  13. ,  13.5,  14. ,  14.5,  15. ,  15.5,  16. ,\n",
       "        16.5,  17. ,  17.5,  18. ,  18.5,  19. ,  19.5,  20. ,  20.5,  21. ,\n",
       "        21.5,  22. ,  22.5,  23. ,  23.5,  24. ,  24.5], dtype=float32)</pre></li><li class='xr-var-item'><div class='xr-var-name'><span class='xr-has-index'>latitude</span></div><div class='xr-var-dims'>(latitude)</div><div class='xr-var-dtype'>float32</div><div class='xr-var-preview xr-preview'>70.0 69.5 69.0 ... 36.5 36.0 35.5</div><input id='attrs-9d7d0551-7ca4-43d7-b0aa-dd133420ae19' class='xr-var-attrs-in' type='checkbox' ><label for='attrs-9d7d0551-7ca4-43d7-b0aa-dd133420ae19' title='Show/Hide attributes'><svg class='icon xr-icon-file-text2'><use xlink:href='#icon-file-text2'></use></svg></label><input id='data-e3e87735-32d9-4c72-89a5-9032ae2c5cd7' class='xr-var-data-in' type='checkbox'><label for='data-e3e87735-32d9-4c72-89a5-9032ae2c5cd7' title='Show/Hide data repr'><svg class='icon xr-icon-database'><use xlink:href='#icon-database'></use></svg></label><div class='xr-var-attrs'><dl class='xr-attrs'><dt><span>units :</span></dt><dd>degrees_north</dd><dt><span>long_name :</span></dt><dd>latitude</dd></dl></div><pre class='xr-var-data'>array([70. , 69.5, 69. , 68.5, 68. , 67.5, 67. , 66.5, 66. , 65.5, 65. , 64.5,\n",
       "       64. , 63.5, 63. , 62.5, 62. , 61.5, 61. , 60.5, 60. , 59.5, 59. , 58.5,\n",
       "       58. , 57.5, 57. , 56.5, 56. , 55.5, 55. , 54.5, 54. , 53.5, 53. , 52.5,\n",
       "       52. , 51.5, 51. , 50.5, 50. , 49.5, 49. , 48.5, 48. , 47.5, 47. , 46.5,\n",
       "       46. , 45.5, 45. , 44.5, 44. , 43.5, 43. , 42.5, 42. , 41.5, 41. , 40.5,\n",
       "       40. , 39.5, 39. , 38.5, 38. , 37.5, 37. , 36.5, 36. , 35.5],\n",
       "      dtype=float32)</pre></li><li class='xr-var-item'><div class='xr-var-name'><span class='xr-has-index'>time</span></div><div class='xr-var-dims'>(time)</div><div class='xr-var-dtype'>datetime64[ns]</div><div class='xr-var-preview xr-preview'>2015-01-01 ... 2020-04-01</div><input id='attrs-3af67f83-ef76-4f25-afcf-03beebdcd329' class='xr-var-attrs-in' type='checkbox' ><label for='attrs-3af67f83-ef76-4f25-afcf-03beebdcd329' title='Show/Hide attributes'><svg class='icon xr-icon-file-text2'><use xlink:href='#icon-file-text2'></use></svg></label><input id='data-34bea70c-0385-4d5c-ba3f-31bb29d8780f' class='xr-var-data-in' type='checkbox'><label for='data-34bea70c-0385-4d5c-ba3f-31bb29d8780f' title='Show/Hide data repr'><svg class='icon xr-icon-database'><use xlink:href='#icon-database'></use></svg></label><div class='xr-var-attrs'><dl class='xr-attrs'><dt><span>long_name :</span></dt><dd>time</dd></dl></div><pre class='xr-var-data'>array([&#x27;2015-01-01T00:00:00.000000000&#x27;, &#x27;2015-01-01T01:00:00.000000000&#x27;,\n",
       "       &#x27;2015-01-01T02:00:00.000000000&#x27;, ..., &#x27;2020-03-31T22:00:00.000000000&#x27;,\n",
       "       &#x27;2020-03-31T23:00:00.000000000&#x27;, &#x27;2020-04-01T00:00:00.000000000&#x27;],\n",
       "      dtype=&#x27;datetime64[ns]&#x27;)</pre></li></ul></div></li><li class='xr-section-item'><input id='section-bae9255a-fa2a-4c45-8bc3-f9afab45ec01' class='xr-section-summary-in' type='checkbox'  checked><label for='section-bae9255a-fa2a-4c45-8bc3-f9afab45ec01' class='xr-section-summary' >Attributes: <span>(2)</span></label><div class='xr-section-inline-details'></div><div class='xr-section-details'><dl class='xr-attrs'><dt><span>units :</span></dt><dd>K</dd><dt><span>long_name :</span></dt><dd>2 metre temperature</dd></dl></div></li></ul></div></div>"
      ],
      "text/plain": [
       "<xarray.DataArray 't2m' (time: 46009, latitude: 70, longitude: 77)>\n",
       "array([[[      nan,       nan,       nan, ..., 271.84814, 270.50635,\n",
       "         269.94232],\n",
       "        [      nan,       nan,       nan, ..., 272.182  , 271.88733,\n",
       "         271.63693],\n",
       "        [      nan,       nan,       nan, ..., 271.85825, 271.62936,\n",
       "         271.83676],\n",
       "        ...,\n",
       "        [      nan,       nan,       nan, ...,       nan,       nan,\n",
       "               nan],\n",
       "        [      nan,       nan,       nan, ...,       nan,       nan,\n",
       "               nan],\n",
       "        [      nan,       nan,       nan, ...,       nan, 281.32657,\n",
       "               nan]],\n",
       "\n",
       "       [[      nan,       nan,       nan, ..., 271.8418 , 270.56958,\n",
       "         270.0751 ],\n",
       "        [      nan,       nan,       nan, ..., 272.16302, 271.9354 ,\n",
       "         271.6496 ],\n",
       "        [      nan,       nan,       nan, ..., 272.12256, 271.77478,\n",
       "         271.87216],\n",
       "        ...,\n",
       "        [      nan,       nan,       nan, ...,       nan,       nan,\n",
       "               nan],\n",
       "        [      nan,       nan,       nan, ...,       nan,       nan,\n",
       "               nan],\n",
       "        [      nan,       nan,       nan, ...,       nan, 281.20264,\n",
       "               nan]],\n",
       "\n",
       "       [[      nan,       nan,       nan, ..., 271.81778, 270.62778,\n",
       "         270.09662],\n",
       "        [      nan,       nan,       nan, ..., 272.22372, 272.0214 ,\n",
       "         271.60278],\n",
       "        [      nan,       nan,       nan, ..., 272.5892 , 272.1668 ,\n",
       "         272.08716],\n",
       "        ...,\n",
       "        [      nan,       nan,       nan, ...,       nan,       nan,\n",
       "               nan],\n",
       "        [      nan,       nan,       nan, ...,       nan,       nan,\n",
       "               nan],\n",
       "        [      nan,       nan,       nan, ...,       nan, 281.09766,\n",
       "               nan]],\n",
       "\n",
       "       ...,\n",
       "\n",
       "       [[      nan,       nan,       nan, ..., 266.33685, 264.79526,\n",
       "         264.29193],\n",
       "        [      nan,       nan,       nan, ..., 265.28848, 265.32516,\n",
       "         265.45035],\n",
       "        [      nan,       nan,       nan, ..., 265.5591 , 265.27835,\n",
       "         265.45035],\n",
       "        ...,\n",
       "        [      nan,       nan,       nan, ...,       nan,       nan,\n",
       "               nan],\n",
       "        [      nan,       nan,       nan, ...,       nan,       nan,\n",
       "               nan],\n",
       "        [      nan,       nan,       nan, ...,       nan, 285.73886,\n",
       "               nan]],\n",
       "\n",
       "       [[      nan,       nan,       nan, ..., 266.17374, 264.61948,\n",
       "         264.28183],\n",
       "        [      nan,       nan,       nan, ..., 265.11902, 265.20123,\n",
       "         265.40228],\n",
       "        [      nan,       nan,       nan, ..., 265.4124 , 265.21133,\n",
       "         265.41113],\n",
       "        ...,\n",
       "        [      nan,       nan,       nan, ...,       nan,       nan,\n",
       "               nan],\n",
       "        [      nan,       nan,       nan, ...,       nan,       nan,\n",
       "               nan],\n",
       "        [      nan,       nan,       nan, ...,       nan, 285.67438,\n",
       "               nan]],\n",
       "\n",
       "       [[      nan,       nan,       nan, ..., 265.7526 , 263.57236,\n",
       "         263.5471 ],\n",
       "        [      nan,       nan,       nan, ..., 264.9015 , 264.87747,\n",
       "         265.03555],\n",
       "        [      nan,       nan,       nan, ..., 265.23285, 265.009  ,\n",
       "         265.20248],\n",
       "        ...,\n",
       "        [      nan,       nan,       nan, ...,       nan,       nan,\n",
       "               nan],\n",
       "        [      nan,       nan,       nan, ...,       nan,       nan,\n",
       "               nan],\n",
       "        [      nan,       nan,       nan, ...,       nan, 285.54413,\n",
       "               nan]]], dtype=float32)\n",
       "Coordinates:\n",
       "  * longitude  (longitude) float32 -13.5 -13.0 -12.5 -12.0 ... 23.5 24.0 24.5\n",
       "  * latitude   (latitude) float32 70.0 69.5 69.0 68.5 ... 37.0 36.5 36.0 35.5\n",
       "  * time       (time) datetime64[ns] 2015-01-01 ... 2020-04-01\n",
       "Attributes:\n",
       "    units:      K\n",
       "    long_name:  2 metre temperature"
      ]
     },
     "execution_count": 10,
     "metadata": {},
     "output_type": "execute_result"
    }
   ],
   "source": [
    "temperatures"
   ]
  },
  {
   "cell_type": "markdown",
   "metadata": {
    "slideshow": {
     "slide_type": "slide"
    }
   },
   "source": [
    "Oh there are NaN values? How many of them?"
   ]
  },
  {
   "cell_type": "code",
   "execution_count": 11,
   "metadata": {
    "slideshow": {
     "slide_type": "fragment"
    }
   },
   "outputs": [
    {
     "data": {
      "text/plain": [
       "0.5575139146567718"
      ]
     },
     "execution_count": 11,
     "metadata": {},
     "output_type": "execute_result"
    }
   ],
   "source": [
    "total_size = temperatures.sizes['time'] * temperatures.sizes['latitude'] * temperatures.sizes['longitude']\n",
    "float(np.isnan(temperatures).sum() / total_size)"
   ]
  },
  {
   "cell_type": "markdown",
   "metadata": {
    "slideshow": {
     "slide_type": "fragment"
    }
   },
   "source": [
    "Uh 55% of missing values.. That's not good! What could that be?"
   ]
  },
  {
   "cell_type": "code",
   "execution_count": 12,
   "metadata": {
    "slideshow": {
     "slide_type": "slide"
    }
   },
   "outputs": [
    {
     "data": {
      "text/plain": [
       "<matplotlib.image.AxesImage at 0x7fa7f6b26d90>"
      ]
     },
     "execution_count": 12,
     "metadata": {},
     "output_type": "execute_result"
    },
    {
     "data": {
      "image/png": "[encoded data removed]",
      "text/plain": [
       "<Figure size 720x576 with 2 Axes>"
      ]
     },
     "metadata": {
      "needs_background": "light"
     },
     "output_type": "display_data"
    }
   ],
   "source": [
    "(~np.isnan(temperatures)).prod(dim='time').plot.imshow(cmap='gray')"
   ]
  },
  {
   "cell_type": "markdown",
   "metadata": {
    "slideshow": {
     "slide_type": "slide"
    }
   },
   "source": [
    "# Exercise 1\n",
    "\n",
    "Plot the mean temperature for each location!\n",
    "\n",
    "(There will be a warning because of the NaNs, but that's okay.)"
   ]
  },
  {
   "cell_type": "code",
   "execution_count": 13,
   "metadata": {},
   "outputs": [
    {
     "name": "stderr",
     "output_type": "stream",
     "text": [
      "/opt/miniconda3/envs/scientific-computing/lib/python3.7/site-packages/xarray/core/nanops.py:142: RuntimeWarning: Mean of empty slice\n",
      "  return np.nanmean(a, axis=axis, dtype=dtype)\n"
     ]
    },
    {
     "data": {
      "text/plain": [
       "<matplotlib.image.AxesImage at 0x7fa7df329910>"
      ]
     },
     "execution_count": 13,
     "metadata": {},
     "output_type": "execute_result"
    },
    {
     "data": {
      "image/png": "[encoded data removed]",
      "text/plain": [
       "<Figure size 720x576 with 2 Axes>"
      ]
     },
     "metadata": {
      "needs_background": "light"
     },
     "output_type": "display_data"
    }
   ],
   "source": [
    "temperatures.mean(dim='time').plot.imshow()"
   ]
  },
  {
   "cell_type": "markdown",
   "metadata": {
    "slideshow": {
     "slide_type": "slide"
    }
   },
   "source": [
    "Temperature seems not to be in °C..."
   ]
  },
  {
   "cell_type": "code",
   "execution_count": 14,
   "metadata": {
    "slideshow": {
     "slide_type": "fragment"
    }
   },
   "outputs": [],
   "source": [
    "temperatures = temperatures - 273.15\n",
    "temperatures.name = 'Temperature [C°]'"
   ]
  },
  {
   "cell_type": "code",
   "execution_count": 15,
   "metadata": {
    "slideshow": {
     "slide_type": "fragment"
    }
   },
   "outputs": [
    {
     "data": {
      "text/plain": [
       "<matplotlib.image.AxesImage at 0x7fa7f078c790>"
      ]
     },
     "execution_count": 15,
     "metadata": {},
     "output_type": "execute_result"
    },
    {
     "data": {
      "image/png": "[encoded data removed]",
      "text/plain": [
       "<Figure size 720x576 with 2 Axes>"
      ]
     },
     "metadata": {
      "needs_background": "light"
     },
     "output_type": "display_data"
    }
   ],
   "source": [
    "temperatures.mean(dim='time').plot.imshow()"
   ]
  },
  {
   "cell_type": "markdown",
   "metadata": {
    "slideshow": {
     "slide_type": "slide"
    }
   },
   "source": [
    "# Pick random grid points to calculate the mean\n",
    "\n",
    "As a next step, we want to calculate the mean temperature for each country."
   ]
  },
  {
   "cell_type": "markdown",
   "metadata": {},
   "source": [
    "We'll pick just some random samples from the grid for each country, to make computation of the man faster. The coordinates are already prepared as CSV file, which has been generated using the following code."
   ]
  },
  {
   "cell_type": "code",
   "execution_count": 16,
   "metadata": {
    "slideshow": {
     "slide_type": "fragment"
    }
   },
   "outputs": [],
   "source": [
    "def choose_country_points(longitude, latitude, grid_points_per_country=200):\n",
    "    \"\"\"Pick random points for each country from the grid with axis ``longitude`` and ``latitude``.\n",
    "    ``size`` is the number of points ot be picked for \n",
    "    \n",
    "    Returns a dataframe with two columns per country (longitude & latitude)\n",
    "    and ``grid_points_per_country`` numbers of rows.\n",
    "    \n",
    "    Note: GeoJSON always uses WGS84:\n",
    "    https://tools.ietf.org/html/rfc7946\n",
    "    \n",
    "    \"\"\"\n",
    "    # local import to avoid dependency\n",
    "    import geopandas\n",
    "    from shapely.geometry import Point\n",
    "    \n",
    "    longitudes, latitudes = np.meshgrid(longitude, latitude)\n",
    "    \n",
    "    longitudes = longitudes.flatten()\n",
    "    latitudes = latitudes.flatten()\n",
    "    \n",
    "    grid_points = geopandas.GeoSeries(geopandas.points_from_xy(longitudes.flatten(),\n",
    "                                                           latitudes.flatten()))\n",
    "    \n",
    "    # XXX fix me, correct path!\n",
    "    country_borders = geopandas.read_file('../data/countries.geojson')\n",
    "\n",
    "    chosen_gridpoints = pd.DataFrame()\n",
    "\n",
    "    for country in COUNTRIES:\n",
    "        print(f\"Picking grid points for {country}...\")\n",
    "        is_country = country_borders.ADMIN == country\n",
    "\n",
    "        country_border = country_borders[is_country].geometry.iloc[0]\n",
    "\n",
    "        is_in_country = grid_points.within(country_border)\n",
    "\n",
    "        number_of_points = is_in_country.sum()\n",
    "        \n",
    "        # make things reproducible!\n",
    "        np.random.seed(42)\n",
    "        \n",
    "        idcs = np.random.randint(number_of_points, size=grid_points_per_country)\n",
    "\n",
    "        chosen_gridpoints[f'{country}_longitude'] = longitudes[is_in_country][idcs]\n",
    "        chosen_gridpoints[f'{country}_latitude'] = latitudes[is_in_country][idcs]\n",
    "        \n",
    "    return chosen_gridpoints"
   ]
  },
  {
   "cell_type": "markdown",
   "metadata": {
    "slideshow": {
     "slide_type": "slide"
    }
   },
   "source": [
    "In order to recreate the `country_points.csv` one needs to install `geopandas` and download a `GeoJSON` file (23MB) which contains the country borders:"
   ]
  },
  {
   "cell_type": "code",
   "execution_count": 17,
   "metadata": {},
   "outputs": [],
   "source": [
    "# !conda install --yes geopandas\n",
    "# !wget -O ../data/countries.geojson https://raw.githubusercontent.com/datasets/geo-countries/master/data/countries.geojson"
   ]
  },
  {
   "cell_type": "markdown",
   "metadata": {
    "slideshow": {
     "slide_type": "-"
    }
   },
   "source": [
    "The following lines create the `country_points.csv`:"
   ]
  },
  {
   "cell_type": "code",
   "execution_count": 18,
   "metadata": {},
   "outputs": [],
   "source": [
    "# country_points = choose_country_points(temperatures.longitude, temperatures.latitude)\n",
    "# country_points.to_csv('../data/country_points.csv', index=False)"
   ]
  },
  {
   "cell_type": "markdown",
   "metadata": {
    "slideshow": {
     "slide_type": "slide"
    }
   },
   "source": [
    "But since it is already prepared, let's just load it..."
   ]
  },
  {
   "cell_type": "code",
   "execution_count": 19,
   "metadata": {},
   "outputs": [],
   "source": [
    "country_points = pd.read_csv('../data/country_points.csv')"
   ]
  },
  {
   "cell_type": "code",
   "execution_count": 20,
   "metadata": {
    "slideshow": {
     "slide_type": "fragment"
    }
   },
   "outputs": [
    {
     "data": {
      "text/html": [
       "<div>\n",
       "<style scoped>\n",
       "    .dataframe tbody tr th:only-of-type {\n",
       "        vertical-align: middle;\n",
       "    }\n",
       "\n",
       "    .dataframe tbody tr th {\n",
       "        vertical-align: top;\n",
       "    }\n",
       "\n",
       "    .dataframe thead th {\n",
       "        text-align: right;\n",
       "    }\n",
       "</style>\n",
       "<table border=\"1\" class=\"dataframe\">\n",
       "  <thead>\n",
       "    <tr style=\"text-align: right;\">\n",
       "      <th></th>\n",
       "      <th>Austria_longitude</th>\n",
       "      <th>Austria_latitude</th>\n",
       "      <th>Germany_longitude</th>\n",
       "      <th>Germany_latitude</th>\n",
       "      <th>Switzerland_longitude</th>\n",
       "      <th>Switzerland_latitude</th>\n",
       "      <th>Italy_longitude</th>\n",
       "      <th>Italy_latitude</th>\n",
       "      <th>Spain_longitude</th>\n",
       "      <th>Spain_latitude</th>\n",
       "      <th>Sweden_longitude</th>\n",
       "      <th>Sweden_latitude</th>\n",
       "      <th>United Kingdom_longitude</th>\n",
       "      <th>United Kingdom_latitude</th>\n",
       "    </tr>\n",
       "  </thead>\n",
       "  <tbody>\n",
       "    <tr>\n",
       "      <th>0</th>\n",
       "      <td>15.5</td>\n",
       "      <td>47.0</td>\n",
       "      <td>13.5</td>\n",
       "      <td>51.0</td>\n",
       "      <td>7.5</td>\n",
       "      <td>47.0</td>\n",
       "      <td>15.0</td>\n",
       "      <td>40.5</td>\n",
       "      <td>-4.0</td>\n",
       "      <td>40.5</td>\n",
       "      <td>16.0</td>\n",
       "      <td>65.0</td>\n",
       "      <td>-4.5</td>\n",
       "      <td>52.0</td>\n",
       "    </tr>\n",
       "    <tr>\n",
       "      <th>1</th>\n",
       "      <td>10.0</td>\n",
       "      <td>47.0</td>\n",
       "      <td>8.5</td>\n",
       "      <td>51.0</td>\n",
       "      <td>7.0</td>\n",
       "      <td>46.0</td>\n",
       "      <td>14.0</td>\n",
       "      <td>41.0</td>\n",
       "      <td>-3.0</td>\n",
       "      <td>38.0</td>\n",
       "      <td>12.0</td>\n",
       "      <td>58.0</td>\n",
       "      <td>-2.5</td>\n",
       "      <td>52.5</td>\n",
       "    </tr>\n",
       "    <tr>\n",
       "      <th>2</th>\n",
       "      <td>16.0</td>\n",
       "      <td>48.0</td>\n",
       "      <td>9.5</td>\n",
       "      <td>53.5</td>\n",
       "      <td>8.0</td>\n",
       "      <td>46.5</td>\n",
       "      <td>11.5</td>\n",
       "      <td>46.0</td>\n",
       "      <td>-1.5</td>\n",
       "      <td>41.0</td>\n",
       "      <td>18.0</td>\n",
       "      <td>65.0</td>\n",
       "      <td>-4.0</td>\n",
       "      <td>57.5</td>\n",
       "    </tr>\n",
       "    <tr>\n",
       "      <th>3</th>\n",
       "      <td>16.5</td>\n",
       "      <td>48.5</td>\n",
       "      <td>7.5</td>\n",
       "      <td>50.5</td>\n",
       "      <td>9.5</td>\n",
       "      <td>47.0</td>\n",
       "      <td>17.5</td>\n",
       "      <td>40.5</td>\n",
       "      <td>-5.0</td>\n",
       "      <td>43.0</td>\n",
       "      <td>17.5</td>\n",
       "      <td>66.0</td>\n",
       "      <td>-2.5</td>\n",
       "      <td>52.0</td>\n",
       "    </tr>\n",
       "    <tr>\n",
       "      <th>4</th>\n",
       "      <td>12.5</td>\n",
       "      <td>47.5</td>\n",
       "      <td>7.0</td>\n",
       "      <td>51.5</td>\n",
       "      <td>8.0</td>\n",
       "      <td>47.0</td>\n",
       "      <td>11.5</td>\n",
       "      <td>42.5</td>\n",
       "      <td>-2.0</td>\n",
       "      <td>40.5</td>\n",
       "      <td>16.0</td>\n",
       "      <td>62.0</td>\n",
       "      <td>-1.0</td>\n",
       "      <td>54.0</td>\n",
       "    </tr>\n",
       "    <tr>\n",
       "      <th>...</th>\n",
       "      <td>...</td>\n",
       "      <td>...</td>\n",
       "      <td>...</td>\n",
       "      <td>...</td>\n",
       "      <td>...</td>\n",
       "      <td>...</td>\n",
       "      <td>...</td>\n",
       "      <td>...</td>\n",
       "      <td>...</td>\n",
       "      <td>...</td>\n",
       "      <td>...</td>\n",
       "      <td>...</td>\n",
       "      <td>...</td>\n",
       "      <td>...</td>\n",
       "    </tr>\n",
       "    <tr>\n",
       "      <th>195</th>\n",
       "      <td>15.5</td>\n",
       "      <td>48.5</td>\n",
       "      <td>10.0</td>\n",
       "      <td>49.0</td>\n",
       "      <td>8.0</td>\n",
       "      <td>47.5</td>\n",
       "      <td>10.5</td>\n",
       "      <td>45.0</td>\n",
       "      <td>-4.5</td>\n",
       "      <td>37.5</td>\n",
       "      <td>21.0</td>\n",
       "      <td>65.5</td>\n",
       "      <td>0.5</td>\n",
       "      <td>52.5</td>\n",
       "    </tr>\n",
       "    <tr>\n",
       "      <th>196</th>\n",
       "      <td>11.5</td>\n",
       "      <td>47.0</td>\n",
       "      <td>10.0</td>\n",
       "      <td>50.0</td>\n",
       "      <td>7.5</td>\n",
       "      <td>46.0</td>\n",
       "      <td>8.0</td>\n",
       "      <td>46.0</td>\n",
       "      <td>-2.5</td>\n",
       "      <td>40.0</td>\n",
       "      <td>16.0</td>\n",
       "      <td>61.5</td>\n",
       "      <td>-6.0</td>\n",
       "      <td>55.0</td>\n",
       "    </tr>\n",
       "    <tr>\n",
       "      <th>197</th>\n",
       "      <td>14.5</td>\n",
       "      <td>48.5</td>\n",
       "      <td>12.0</td>\n",
       "      <td>50.0</td>\n",
       "      <td>6.5</td>\n",
       "      <td>46.5</td>\n",
       "      <td>17.0</td>\n",
       "      <td>41.0</td>\n",
       "      <td>-5.0</td>\n",
       "      <td>40.0</td>\n",
       "      <td>14.5</td>\n",
       "      <td>59.5</td>\n",
       "      <td>0.0</td>\n",
       "      <td>51.0</td>\n",
       "    </tr>\n",
       "    <tr>\n",
       "      <th>198</th>\n",
       "      <td>14.0</td>\n",
       "      <td>48.0</td>\n",
       "      <td>14.0</td>\n",
       "      <td>52.5</td>\n",
       "      <td>7.0</td>\n",
       "      <td>47.0</td>\n",
       "      <td>10.5</td>\n",
       "      <td>44.5</td>\n",
       "      <td>-2.5</td>\n",
       "      <td>37.0</td>\n",
       "      <td>20.5</td>\n",
       "      <td>64.0</td>\n",
       "      <td>-2.5</td>\n",
       "      <td>55.0</td>\n",
       "    </tr>\n",
       "    <tr>\n",
       "      <th>199</th>\n",
       "      <td>17.0</td>\n",
       "      <td>48.0</td>\n",
       "      <td>11.5</td>\n",
       "      <td>48.0</td>\n",
       "      <td>9.0</td>\n",
       "      <td>47.5</td>\n",
       "      <td>13.5</td>\n",
       "      <td>37.5</td>\n",
       "      <td>-7.0</td>\n",
       "      <td>43.5</td>\n",
       "      <td>20.5</td>\n",
       "      <td>65.5</td>\n",
       "      <td>-0.5</td>\n",
       "      <td>51.5</td>\n",
       "    </tr>\n",
       "  </tbody>\n",
       "</table>\n",
       "<p>200 rows × 14 columns</p>\n",
       "</div>"
      ],
      "text/plain": [
       "     Austria_longitude  Austria_latitude  Germany_longitude  Germany_latitude  \\\n",
       "0                 15.5              47.0               13.5              51.0   \n",
       "1                 10.0              47.0                8.5              51.0   \n",
       "2                 16.0              48.0                9.5              53.5   \n",
       "3                 16.5              48.5                7.5              50.5   \n",
       "4                 12.5              47.5                7.0              51.5   \n",
       "..                 ...               ...                ...               ...   \n",
       "195               15.5              48.5               10.0              49.0   \n",
       "196               11.5              47.0               10.0              50.0   \n",
       "197               14.5              48.5               12.0              50.0   \n",
       "198               14.0              48.0               14.0              52.5   \n",
       "199               17.0              48.0               11.5              48.0   \n",
       "\n",
       "     Switzerland_longitude  Switzerland_latitude  Italy_longitude  \\\n",
       "0                      7.5                  47.0             15.0   \n",
       "1                      7.0                  46.0             14.0   \n",
       "2                      8.0                  46.5             11.5   \n",
       "3                      9.5                  47.0             17.5   \n",
       "4                      8.0                  47.0             11.5   \n",
       "..                     ...                   ...              ...   \n",
       "195                    8.0                  47.5             10.5   \n",
       "196                    7.5                  46.0              8.0   \n",
       "197                    6.5                  46.5             17.0   \n",
       "198                    7.0                  47.0             10.5   \n",
       "199                    9.0                  47.5             13.5   \n",
       "\n",
       "     Italy_latitude  Spain_longitude  Spain_latitude  Sweden_longitude  \\\n",
       "0              40.5             -4.0            40.5              16.0   \n",
       "1              41.0             -3.0            38.0              12.0   \n",
       "2              46.0             -1.5            41.0              18.0   \n",
       "3              40.5             -5.0            43.0              17.5   \n",
       "4              42.5             -2.0            40.5              16.0   \n",
       "..              ...              ...             ...               ...   \n",
       "195            45.0             -4.5            37.5              21.0   \n",
       "196            46.0             -2.5            40.0              16.0   \n",
       "197            41.0             -5.0            40.0              14.5   \n",
       "198            44.5             -2.5            37.0              20.5   \n",
       "199            37.5             -7.0            43.5              20.5   \n",
       "\n",
       "     Sweden_latitude  United Kingdom_longitude  United Kingdom_latitude  \n",
       "0               65.0                      -4.5                     52.0  \n",
       "1               58.0                      -2.5                     52.5  \n",
       "2               65.0                      -4.0                     57.5  \n",
       "3               66.0                      -2.5                     52.0  \n",
       "4               62.0                      -1.0                     54.0  \n",
       "..               ...                       ...                      ...  \n",
       "195             65.5                       0.5                     52.5  \n",
       "196             61.5                      -6.0                     55.0  \n",
       "197             59.5                       0.0                     51.0  \n",
       "198             64.0                      -2.5                     55.0  \n",
       "199             65.5                      -0.5                     51.5  \n",
       "\n",
       "[200 rows x 14 columns]"
      ]
     },
     "execution_count": 20,
     "metadata": {},
     "output_type": "execute_result"
    }
   ],
   "source": [
    "country_points"
   ]
  },
  {
   "cell_type": "markdown",
   "metadata": {
    "slideshow": {
     "slide_type": "slide"
    }
   },
   "source": [
    "Let's plote some of these points:"
   ]
  },
  {
   "cell_type": "code",
   "execution_count": 21,
   "metadata": {},
   "outputs": [
    {
     "data": {
      "image/png": "[encoded data removed]",
      "text/plain": [
       "<Figure size 720x576 with 1 Axes>"
      ]
     },
     "metadata": {
      "needs_background": "light"
     },
     "output_type": "display_data"
    }
   ],
   "source": [
    "plt.plot(country_points['Austria_longitude'], country_points['Austria_latitude'], 'o')\n",
    "plt.xlabel('Longitude [deg]')\n",
    "plt.ylabel('Latitude [deg]');"
   ]
  },
  {
   "cell_type": "code",
   "execution_count": 22,
   "metadata": {},
   "outputs": [
    {
     "data": {
      "image/png": "[encoded data removed]",
      "text/plain": [
       "<Figure size 720x576 with 1 Axes>"
      ]
     },
     "metadata": {
      "needs_background": "light"
     },
     "output_type": "display_data"
    }
   ],
   "source": [
    "plt.plot(country_points['Germany_longitude'], country_points['Germany_latitude'], 'o')\n",
    "plt.xlabel('Longitude [deg]')\n",
    "plt.ylabel('Latitude [deg]');"
   ]
  },
  {
   "cell_type": "markdown",
   "metadata": {
    "slideshow": {
     "slide_type": "slide"
    }
   },
   "source": [
    "# Calculate mean temperature for each country"
   ]
  },
  {
   "cell_type": "code",
   "execution_count": 23,
   "metadata": {},
   "outputs": [],
   "source": [
    "country = 'Austria'\n",
    "country_temperature = temperatures.sel(\n",
    "        longitude=xr.DataArray(country_points['Austria_longitude'], dims='points'),\n",
    "        latitude=xr.DataArray(country_points['Austria_latitude'], dims='points'))"
   ]
  },
  {
   "cell_type": "code",
   "execution_count": 24,
   "metadata": {},
   "outputs": [
    {
     "data": {
      "text/html": [
       "<div><svg style=\"position: absolute; width: 0; height: 0; overflow: hidden\">\n",
       "<defs>\n",
       "<symbol id=\"icon-database\" viewBox=\"0 0 32 32\">\n",
       "<title>Show/Hide data repr</title>\n",
       "<path d=\"M16 0c-8.837 0-16 2.239-16 5v4c0 2.761 7.163 5 16 5s16-2.239 16-5v-4c0-2.761-7.163-5-16-5z\"></path>\n",
       "<path d=\"M16 17c-8.837 0-16-2.239-16-5v6c0 2.761 7.163 5 16 5s16-2.239 16-5v-6c0 2.761-7.163 5-16 5z\"></path>\n",
       "<path d=\"M16 26c-8.837 0-16-2.239-16-5v6c0 2.761 7.163 5 16 5s16-2.239 16-5v-6c0 2.761-7.163 5-16 5z\"></path>\n",
       "</symbol>\n",
       "<symbol id=\"icon-file-text2\" viewBox=\"0 0 32 32\">\n",
       "<title>Show/Hide attributes</title>\n",
       "<path d=\"M28.681 7.159c-0.694-0.947-1.662-2.053-2.724-3.116s-2.169-2.030-3.116-2.724c-1.612-1.182-2.393-1.319-2.841-1.319h-15.5c-1.378 0-2.5 1.121-2.5 2.5v27c0 1.378 1.122 2.5 2.5 2.5h23c1.378 0 2.5-1.122 2.5-2.5v-19.5c0-0.448-0.137-1.23-1.319-2.841zM24.543 5.457c0.959 0.959 1.712 1.825 2.268 2.543h-4.811v-4.811c0.718 0.556 1.584 1.309 2.543 2.268zM28 29.5c0 0.271-0.229 0.5-0.5 0.5h-23c-0.271 0-0.5-0.229-0.5-0.5v-27c0-0.271 0.229-0.5 0.5-0.5 0 0 15.499-0 15.5 0v7c0 0.552 0.448 1 1 1h7v19.5z\"></path>\n",
       "<path d=\"M23 26h-14c-0.552 0-1-0.448-1-1s0.448-1 1-1h14c0.552 0 1 0.448 1 1s-0.448 1-1 1z\"></path>\n",
       "<path d=\"M23 22h-14c-0.552 0-1-0.448-1-1s0.448-1 1-1h14c0.552 0 1 0.448 1 1s-0.448 1-1 1z\"></path>\n",
       "<path d=\"M23 18h-14c-0.552 0-1-0.448-1-1s0.448-1 1-1h14c0.552 0 1 0.448 1 1s-0.448 1-1 1z\"></path>\n",
       "</symbol>\n",
       "</defs>\n",
       "</svg>\n",
       "<style>/* CSS stylesheet for displaying xarray objects in jupyterlab.\n",
       " *\n",
       " */\n",
       "\n",
       ":root {\n",
       "  --xr-font-color0: var(--jp-content-font-color0, rgba(0, 0, 0, 1));\n",
       "  --xr-font-color2: var(--jp-content-font-color2, rgba(0, 0, 0, 0.54));\n",
       "  --xr-font-color3: var(--jp-content-font-color3, rgba(0, 0, 0, 0.38));\n",
       "  --xr-border-color: var(--jp-border-color2, #e0e0e0);\n",
       "  --xr-disabled-color: var(--jp-layout-color3, #bdbdbd);\n",
       "  --xr-background-color: var(--jp-layout-color0, white);\n",
       "  --xr-background-color-row-even: var(--jp-layout-color1, white);\n",
       "  --xr-background-color-row-odd: var(--jp-layout-color2, #eeeeee);\n",
       "}\n",
       "\n",
       ".xr-wrap {\n",
       "  min-width: 300px;\n",
       "  max-width: 700px;\n",
       "}\n",
       "\n",
       ".xr-header {\n",
       "  padding-top: 6px;\n",
       "  padding-bottom: 6px;\n",
       "  margin-bottom: 4px;\n",
       "  border-bottom: solid 1px var(--xr-border-color);\n",
       "}\n",
       "\n",
       ".xr-header > div,\n",
       ".xr-header > ul {\n",
       "  display: inline;\n",
       "  margin-top: 0;\n",
       "  margin-bottom: 0;\n",
       "}\n",
       "\n",
       ".xr-obj-type,\n",
       ".xr-array-name {\n",
       "  margin-left: 2px;\n",
       "  margin-right: 10px;\n",
       "}\n",
       "\n",
       ".xr-obj-type {\n",
       "  color: var(--xr-font-color2);\n",
       "}\n",
       "\n",
       ".xr-sections {\n",
       "  padding-left: 0 !important;\n",
       "  display: grid;\n",
       "  grid-template-columns: 150px auto auto 1fr 20px 20px;\n",
       "}\n",
       "\n",
       ".xr-section-item {\n",
       "  display: contents;\n",
       "}\n",
       "\n",
       ".xr-section-item input {\n",
       "  display: none;\n",
       "}\n",
       "\n",
       ".xr-section-item input + label {\n",
       "  color: var(--xr-disabled-color);\n",
       "}\n",
       "\n",
       ".xr-section-item input:enabled + label {\n",
       "  cursor: pointer;\n",
       "  color: var(--xr-font-color2);\n",
       "}\n",
       "\n",
       ".xr-section-item input:enabled + label:hover {\n",
       "  color: var(--xr-font-color0);\n",
       "}\n",
       "\n",
       ".xr-section-summary {\n",
       "  grid-column: 1;\n",
       "  color: var(--xr-font-color2);\n",
       "  font-weight: 500;\n",
       "}\n",
       "\n",
       ".xr-section-summary > span {\n",
       "  display: inline-block;\n",
       "  padding-left: 0.5em;\n",
       "}\n",
       "\n",
       ".xr-section-summary-in:disabled + label {\n",
       "  color: var(--xr-font-color2);\n",
       "}\n",
       "\n",
       ".xr-section-summary-in + label:before {\n",
       "  display: inline-block;\n",
       "  content: '►';\n",
       "  font-size: 11px;\n",
       "  width: 15px;\n",
       "  text-align: center;\n",
       "}\n",
       "\n",
       ".xr-section-summary-in:disabled + label:before {\n",
       "  color: var(--xr-disabled-color);\n",
       "}\n",
       "\n",
       ".xr-section-summary-in:checked + label:before {\n",
       "  content: '▼';\n",
       "}\n",
       "\n",
       ".xr-section-summary-in:checked + label > span {\n",
       "  display: none;\n",
       "}\n",
       "\n",
       ".xr-section-summary,\n",
       ".xr-section-inline-details {\n",
       "  padding-top: 4px;\n",
       "  padding-bottom: 4px;\n",
       "}\n",
       "\n",
       ".xr-section-inline-details {\n",
       "  grid-column: 2 / -1;\n",
       "}\n",
       "\n",
       ".xr-section-details {\n",
       "  display: none;\n",
       "  grid-column: 1 / -1;\n",
       "  margin-bottom: 5px;\n",
       "}\n",
       "\n",
       ".xr-section-summary-in:checked ~ .xr-section-details {\n",
       "  display: contents;\n",
       "}\n",
       "\n",
       ".xr-array-wrap {\n",
       "  grid-column: 1 / -1;\n",
       "  display: grid;\n",
       "  grid-template-columns: 20px auto;\n",
       "}\n",
       "\n",
       ".xr-array-wrap > label {\n",
       "  grid-column: 1;\n",
       "  vertical-align: top;\n",
       "}\n",
       "\n",
       ".xr-preview {\n",
       "  color: var(--xr-font-color3);\n",
       "}\n",
       "\n",
       ".xr-array-preview,\n",
       ".xr-array-data {\n",
       "  padding: 0 5px !important;\n",
       "  grid-column: 2;\n",
       "}\n",
       "\n",
       ".xr-array-data,\n",
       ".xr-array-in:checked ~ .xr-array-preview {\n",
       "  display: none;\n",
       "}\n",
       "\n",
       ".xr-array-in:checked ~ .xr-array-data,\n",
       ".xr-array-preview {\n",
       "  display: inline-block;\n",
       "}\n",
       "\n",
       ".xr-dim-list {\n",
       "  display: inline-block !important;\n",
       "  list-style: none;\n",
       "  padding: 0 !important;\n",
       "  margin: 0;\n",
       "}\n",
       "\n",
       ".xr-dim-list li {\n",
       "  display: inline-block;\n",
       "  padding: 0;\n",
       "  margin: 0;\n",
       "}\n",
       "\n",
       ".xr-dim-list:before {\n",
       "  content: '(';\n",
       "}\n",
       "\n",
       ".xr-dim-list:after {\n",
       "  content: ')';\n",
       "}\n",
       "\n",
       ".xr-dim-list li:not(:last-child):after {\n",
       "  content: ',';\n",
       "  padding-right: 5px;\n",
       "}\n",
       "\n",
       ".xr-has-index {\n",
       "  font-weight: bold;\n",
       "}\n",
       "\n",
       ".xr-var-list,\n",
       ".xr-var-item {\n",
       "  display: contents;\n",
       "}\n",
       "\n",
       ".xr-var-item > div,\n",
       ".xr-var-item label,\n",
       ".xr-var-item > .xr-var-name span {\n",
       "  background-color: var(--xr-background-color-row-even);\n",
       "  margin-bottom: 0;\n",
       "}\n",
       "\n",
       ".xr-var-item > .xr-var-name:hover span {\n",
       "  padding-right: 5px;\n",
       "}\n",
       "\n",
       ".xr-var-list > li:nth-child(odd) > div,\n",
       ".xr-var-list > li:nth-child(odd) > label,\n",
       ".xr-var-list > li:nth-child(odd) > .xr-var-name span {\n",
       "  background-color: var(--xr-background-color-row-odd);\n",
       "}\n",
       "\n",
       ".xr-var-name {\n",
       "  grid-column: 1;\n",
       "}\n",
       "\n",
       ".xr-var-dims {\n",
       "  grid-column: 2;\n",
       "}\n",
       "\n",
       ".xr-var-dtype {\n",
       "  grid-column: 3;\n",
       "  text-align: right;\n",
       "  color: var(--xr-font-color2);\n",
       "}\n",
       "\n",
       ".xr-var-preview {\n",
       "  grid-column: 4;\n",
       "}\n",
       "\n",
       ".xr-var-name,\n",
       ".xr-var-dims,\n",
       ".xr-var-dtype,\n",
       ".xr-preview,\n",
       ".xr-attrs dt {\n",
       "  white-space: nowrap;\n",
       "  overflow: hidden;\n",
       "  text-overflow: ellipsis;\n",
       "  padding-right: 10px;\n",
       "}\n",
       "\n",
       ".xr-var-name:hover,\n",
       ".xr-var-dims:hover,\n",
       ".xr-var-dtype:hover,\n",
       ".xr-attrs dt:hover {\n",
       "  overflow: visible;\n",
       "  width: auto;\n",
       "  z-index: 1;\n",
       "}\n",
       "\n",
       ".xr-var-attrs,\n",
       ".xr-var-data {\n",
       "  display: none;\n",
       "  background-color: var(--xr-background-color) !important;\n",
       "  padding-bottom: 5px !important;\n",
       "}\n",
       "\n",
       ".xr-var-attrs-in:checked ~ .xr-var-attrs,\n",
       ".xr-var-data-in:checked ~ .xr-var-data {\n",
       "  display: block;\n",
       "}\n",
       "\n",
       ".xr-var-data > table {\n",
       "  float: right;\n",
       "}\n",
       "\n",
       ".xr-var-name span,\n",
       ".xr-var-data,\n",
       ".xr-attrs {\n",
       "  padding-left: 25px !important;\n",
       "}\n",
       "\n",
       ".xr-attrs,\n",
       ".xr-var-attrs,\n",
       ".xr-var-data {\n",
       "  grid-column: 1 / -1;\n",
       "}\n",
       "\n",
       "dl.xr-attrs {\n",
       "  padding: 0;\n",
       "  margin: 0;\n",
       "  display: grid;\n",
       "  grid-template-columns: 125px auto;\n",
       "}\n",
       "\n",
       ".xr-attrs dt, dd {\n",
       "  padding: 0;\n",
       "  margin: 0;\n",
       "  float: left;\n",
       "  padding-right: 10px;\n",
       "  width: auto;\n",
       "}\n",
       "\n",
       ".xr-attrs dt {\n",
       "  font-weight: normal;\n",
       "  grid-column: 1;\n",
       "}\n",
       "\n",
       ".xr-attrs dt:hover span {\n",
       "  display: inline-block;\n",
       "  background: var(--xr-background-color);\n",
       "  padding-right: 10px;\n",
       "}\n",
       "\n",
       ".xr-attrs dd {\n",
       "  grid-column: 2;\n",
       "  white-space: pre-wrap;\n",
       "  word-break: break-all;\n",
       "}\n",
       "\n",
       ".xr-icon-database,\n",
       ".xr-icon-file-text2 {\n",
       "  display: inline-block;\n",
       "  vertical-align: middle;\n",
       "  width: 1em;\n",
       "  height: 1.5em !important;\n",
       "  stroke-width: 0;\n",
       "  stroke: currentColor;\n",
       "  fill: currentColor;\n",
       "}\n",
       "</style><div class='xr-wrap'><div class='xr-header'><div class='xr-obj-type'>xarray.DataArray</div><div class='xr-array-name'>'Temperature [C°]'</div><ul class='xr-dim-list'><li><span class='xr-has-index'>time</span>: 46009</li><li><span class='xr-has-index'>points</span>: 200</li></ul></div><ul class='xr-sections'><li class='xr-section-item'><div class='xr-array-wrap'><input id='section-6480ee51-c01d-482f-ac2c-01e103a8ab0d' class='xr-array-in' type='checkbox' ><label for='section-6480ee51-c01d-482f-ac2c-01e103a8ab0d' title='Show/hide data repr'><svg class='icon xr-icon-database'><use xlink:href='#icon-database'></use></svg></label><div class='xr-array-preview xr-preview'><span>-4.2307434 -14.59317 -2.26297 ... -3.1216736 -1.5180969 -1.7330933</span></div><pre class='xr-array-data'>array([[ -4.2307434 , -14.59317   ,  -2.26297   , ...,  -2.5500488 ,\n",
       "         -1.1437683 ,  -4.4457397 ],\n",
       "       [ -4.213043  , -14.806885  ,  -1.690094  , ...,  -2.4906006 ,\n",
       "         -1.6597595 ,  -4.369873  ],\n",
       "       [ -4.1118774 , -14.935883  ,  -1.399231  , ...,  -2.2832031 ,\n",
       "         -1.5117798 ,  -4.1422424 ],\n",
       "       ...,\n",
       "       [ -1.6825256 ,  -7.398651  ,  -2.71698   , ...,  -2.2642517 ,\n",
       "         -0.60250854,  -0.72265625],\n",
       "       [ -2.0328064 ,  -7.702179  ,  -2.9193115 , ...,  -2.8813782 ,\n",
       "         -1.0615845 ,  -1.2196655 ],\n",
       "       [ -2.1959534 ,  -7.993042  ,  -3.278473  , ...,  -3.1216736 ,\n",
       "         -1.5180969 ,  -1.7330933 ]], dtype=float32)</pre></div></li><li class='xr-section-item'><input id='section-694e0d77-b53d-4869-8bf7-a6987ca8ae42' class='xr-section-summary-in' type='checkbox'  checked><label for='section-694e0d77-b53d-4869-8bf7-a6987ca8ae42' class='xr-section-summary' >Coordinates: <span>(4)</span></label><div class='xr-section-inline-details'></div><div class='xr-section-details'><ul class='xr-var-list'><li class='xr-var-item'><div class='xr-var-name'><span>longitude</span></div><div class='xr-var-dims'>(points)</div><div class='xr-var-dtype'>float32</div><div class='xr-var-preview xr-preview'>15.5 10.0 16.0 ... 14.5 14.0 17.0</div><input id='attrs-b06dacd4-01b1-4b4e-aa03-8c1fa08bc526' class='xr-var-attrs-in' type='checkbox' ><label for='attrs-b06dacd4-01b1-4b4e-aa03-8c1fa08bc526' title='Show/Hide attributes'><svg class='icon xr-icon-file-text2'><use xlink:href='#icon-file-text2'></use></svg></label><input id='data-46e25a9c-79bb-410f-b303-1adc2670010d' class='xr-var-data-in' type='checkbox'><label for='data-46e25a9c-79bb-410f-b303-1adc2670010d' title='Show/Hide data repr'><svg class='icon xr-icon-database'><use xlink:href='#icon-database'></use></svg></label><div class='xr-var-attrs'><dl class='xr-attrs'><dt><span>units :</span></dt><dd>degrees_east</dd><dt><span>long_name :</span></dt><dd>longitude</dd></dl></div><pre class='xr-var-data'>array([15.5, 10. , 16. , 16.5, 12.5, 15.5, 11.5, 14. , 14. , 14. , 14.5, 14. ,\n",
       "       16. , 14.5, 14. , 13.5, 13.5, 14.5, 10.5, 15. , 13.5, 12.5, 12.5, 14.5,\n",
       "       13.5, 15. , 16. , 14.5, 16.5, 16.5, 16. , 14. , 14.5, 16. , 12.5, 13. ,\n",
       "       15.5, 10.5, 14.5, 15. , 15.5, 13. , 15.5, 13.5, 12. , 16.5, 16. , 16.5,\n",
       "       13.5, 15.5, 17. , 14. , 16. , 14.5, 13.5, 15.5, 14.5, 14.5, 10. , 10.5,\n",
       "       15.5, 13. , 13.5, 14. , 15.5, 11. , 16. , 16.5, 15.5, 14. , 16. , 12.5,\n",
       "       16.5, 10.5, 14.5, 15.5, 15. , 14. , 10. , 16. , 15. , 15. , 16. , 13. ,\n",
       "       14.5, 15. , 16.5, 14.5, 14. , 17. , 16.5, 13.5, 13.5, 12.5, 15. , 14.5,\n",
       "       15.5, 14. , 16.5, 16. , 13. , 16.5, 14.5, 13. , 12.5, 14. , 14.5, 14.5,\n",
       "       13.5, 16. , 13.5, 16. , 13.5, 15. , 13.5, 14.5, 15.5, 14. , 15. , 15. ,\n",
       "       15.5, 15.5, 15.5, 16. , 13. , 16. , 16. , 15.5, 14.5, 15. , 11.5, 15.5,\n",
       "       11.5, 14.5, 10.5, 14.5, 14. , 15.5, 16. , 10. , 14. , 15. , 11.5, 16. ,\n",
       "       13.5, 16.5, 13.5, 14.5, 15.5, 16.5, 16.5, 12. , 10.5, 14. , 16.5, 15. ,\n",
       "       15.5, 12.5, 15. , 16. , 15. , 14. , 14. , 15.5, 15.5, 16.5, 16. , 13. ,\n",
       "       14.5, 12.5, 14.5, 14.5, 16. , 11.5, 11.5, 14.5, 14. , 14.5, 15.5, 13.5,\n",
       "       14. , 14.5, 17. , 13.5, 13.5, 16.5, 14. , 14.5, 11.5, 12.5, 15. , 11.5,\n",
       "       13.5, 15.5, 11.5, 15.5, 11.5, 14.5, 14. , 17. ], dtype=float32)</pre></li><li class='xr-var-item'><div class='xr-var-name'><span>latitude</span></div><div class='xr-var-dims'>(points)</div><div class='xr-var-dtype'>float32</div><div class='xr-var-preview xr-preview'>47.0 47.0 48.0 ... 48.5 48.0 48.0</div><input id='attrs-138a19ed-3122-4a93-a1fd-407584bb32c3' class='xr-var-attrs-in' type='checkbox' ><label for='attrs-138a19ed-3122-4a93-a1fd-407584bb32c3' title='Show/Hide attributes'><svg class='icon xr-icon-file-text2'><use xlink:href='#icon-file-text2'></use></svg></label><input id='data-2e45b813-5019-4ab5-8b40-69be5807c5f6' class='xr-var-data-in' type='checkbox'><label for='data-2e45b813-5019-4ab5-8b40-69be5807c5f6' title='Show/Hide data repr'><svg class='icon xr-icon-database'><use xlink:href='#icon-database'></use></svg></label><div class='xr-var-attrs'><dl class='xr-attrs'><dt><span>units :</span></dt><dd>degrees_north</dd><dt><span>long_name :</span></dt><dd>latitude</dd></dl></div><pre class='xr-var-data'>array([47. , 47. , 48. , 48.5, 47.5, 47. , 47.5, 47.5, 48. , 48. , 47.5, 47. ,\n",
       "       47. , 47.5, 48.5, 47.5, 48.5, 47.5, 47. , 47. , 48.5, 47.5, 47. , 48. ,\n",
       "       47.5, 47.5, 47.5, 46.5, 47.5, 48. , 48. , 48.5, 47. , 48.5, 47.5, 48. ,\n",
       "       47. , 47.5, 48.5, 47.5, 48. , 48. , 47.5, 48.5, 47.5, 47.5, 48.5, 48.5,\n",
       "       47. , 48. , 48. , 47. , 47. , 48.5, 48.5, 48.5, 46.5, 48.5, 47. , 47.5,\n",
       "       47.5, 47. , 48. , 47. , 48. , 47. , 48. , 48.5, 48. , 47.5, 47. , 47.5,\n",
       "       48. , 47.5, 47.5, 47.5, 47.5, 46.5, 47. , 48. , 49. , 47.5, 48.5, 48. ,\n",
       "       47.5, 49. , 48.5, 47.5, 48. , 48. , 48.5, 47. , 47. , 47. , 48.5, 46.5,\n",
       "       47. , 46.5, 47.5, 48.5, 48. , 48.5, 48. , 47. , 47. , 47.5, 47.5, 47. ,\n",
       "       47. , 47. , 47.5, 47.5, 47. , 49. , 47. , 47. , 48. , 48.5, 49. , 48.5,\n",
       "       47.5, 48. , 47. , 47.5, 48. , 48. , 48. , 47.5, 46.5, 48. , 47. , 47. ,\n",
       "       47. , 48.5, 47. , 47. , 47.5, 47. , 48. , 47. , 47. , 48. , 47. , 48.5,\n",
       "       47.5, 47.5, 48.5, 46.5, 48.5, 47.5, 47.5, 47.5, 47. , 48. , 47.5, 47.5,\n",
       "       47. , 47. , 49. , 47.5, 48. , 46.5, 48.5, 47. , 48.5, 48.5, 47.5, 48. ,\n",
       "       47. , 47. , 46.5, 47.5, 48. , 47. , 47. , 47.5, 46.5, 48. , 47. , 48.5,\n",
       "       48.5, 47. , 48. , 48.5, 48.5, 47.5, 47.5, 47. , 47. , 47. , 49. , 47.5,\n",
       "       48.5, 47.5, 47. , 48.5, 47. , 48.5, 48. , 48. ], dtype=float32)</pre></li><li class='xr-var-item'><div class='xr-var-name'><span class='xr-has-index'>time</span></div><div class='xr-var-dims'>(time)</div><div class='xr-var-dtype'>datetime64[ns]</div><div class='xr-var-preview xr-preview'>2015-01-01 ... 2020-04-01</div><input id='attrs-1145691a-b5b5-4806-994d-da6a0576c03c' class='xr-var-attrs-in' type='checkbox' ><label for='attrs-1145691a-b5b5-4806-994d-da6a0576c03c' title='Show/Hide attributes'><svg class='icon xr-icon-file-text2'><use xlink:href='#icon-file-text2'></use></svg></label><input id='data-40aa55f6-ceba-47a5-aa33-091a53aeff5c' class='xr-var-data-in' type='checkbox'><label for='data-40aa55f6-ceba-47a5-aa33-091a53aeff5c' title='Show/Hide data repr'><svg class='icon xr-icon-database'><use xlink:href='#icon-database'></use></svg></label><div class='xr-var-attrs'><dl class='xr-attrs'><dt><span>long_name :</span></dt><dd>time</dd></dl></div><pre class='xr-var-data'>array([&#x27;2015-01-01T00:00:00.000000000&#x27;, &#x27;2015-01-01T01:00:00.000000000&#x27;,\n",
       "       &#x27;2015-01-01T02:00:00.000000000&#x27;, ..., &#x27;2020-03-31T22:00:00.000000000&#x27;,\n",
       "       &#x27;2020-03-31T23:00:00.000000000&#x27;, &#x27;2020-04-01T00:00:00.000000000&#x27;],\n",
       "      dtype=&#x27;datetime64[ns]&#x27;)</pre></li><li class='xr-var-item'><div class='xr-var-name'><span class='xr-has-index'>points</span></div><div class='xr-var-dims'>(points)</div><div class='xr-var-dtype'>int64</div><div class='xr-var-preview xr-preview'>0 1 2 3 4 5 ... 195 196 197 198 199</div><input id='attrs-25ced668-e803-481a-af4f-1a38baeebe30' class='xr-var-attrs-in' type='checkbox' disabled><label for='attrs-25ced668-e803-481a-af4f-1a38baeebe30' title='Show/Hide attributes'><svg class='icon xr-icon-file-text2'><use xlink:href='#icon-file-text2'></use></svg></label><input id='data-859ee2e3-4690-4828-a28e-48d4205db5bf' class='xr-var-data-in' type='checkbox'><label for='data-859ee2e3-4690-4828-a28e-48d4205db5bf' title='Show/Hide data repr'><svg class='icon xr-icon-database'><use xlink:href='#icon-database'></use></svg></label><div class='xr-var-attrs'><dl class='xr-attrs'></dl></div><pre class='xr-var-data'>array([  0,   1,   2,   3,   4,   5,   6,   7,   8,   9,  10,  11,  12,  13,\n",
       "        14,  15,  16,  17,  18,  19,  20,  21,  22,  23,  24,  25,  26,  27,\n",
       "        28,  29,  30,  31,  32,  33,  34,  35,  36,  37,  38,  39,  40,  41,\n",
       "        42,  43,  44,  45,  46,  47,  48,  49,  50,  51,  52,  53,  54,  55,\n",
       "        56,  57,  58,  59,  60,  61,  62,  63,  64,  65,  66,  67,  68,  69,\n",
       "        70,  71,  72,  73,  74,  75,  76,  77,  78,  79,  80,  81,  82,  83,\n",
       "        84,  85,  86,  87,  88,  89,  90,  91,  92,  93,  94,  95,  96,  97,\n",
       "        98,  99, 100, 101, 102, 103, 104, 105, 106, 107, 108, 109, 110, 111,\n",
       "       112, 113, 114, 115, 116, 117, 118, 119, 120, 121, 122, 123, 124, 125,\n",
       "       126, 127, 128, 129, 130, 131, 132, 133, 134, 135, 136, 137, 138, 139,\n",
       "       140, 141, 142, 143, 144, 145, 146, 147, 148, 149, 150, 151, 152, 153,\n",
       "       154, 155, 156, 157, 158, 159, 160, 161, 162, 163, 164, 165, 166, 167,\n",
       "       168, 169, 170, 171, 172, 173, 174, 175, 176, 177, 178, 179, 180, 181,\n",
       "       182, 183, 184, 185, 186, 187, 188, 189, 190, 191, 192, 193, 194, 195,\n",
       "       196, 197, 198, 199])</pre></li></ul></div></li><li class='xr-section-item'><input id='section-8538fb87-ba8f-4ccf-b942-e0723b9248f4' class='xr-section-summary-in' type='checkbox' disabled ><label for='section-8538fb87-ba8f-4ccf-b942-e0723b9248f4' class='xr-section-summary'  title='Expand/collapse section'>Attributes: <span>(0)</span></label><div class='xr-section-inline-details'></div><div class='xr-section-details'><dl class='xr-attrs'></dl></div></li></ul></div></div>"
      ],
      "text/plain": [
       "<xarray.DataArray 'Temperature [C°]' (time: 46009, points: 200)>\n",
       "array([[ -4.2307434 , -14.59317   ,  -2.26297   , ...,  -2.5500488 ,\n",
       "         -1.1437683 ,  -4.4457397 ],\n",
       "       [ -4.213043  , -14.806885  ,  -1.690094  , ...,  -2.4906006 ,\n",
       "         -1.6597595 ,  -4.369873  ],\n",
       "       [ -4.1118774 , -14.935883  ,  -1.399231  , ...,  -2.2832031 ,\n",
       "         -1.5117798 ,  -4.1422424 ],\n",
       "       ...,\n",
       "       [ -1.6825256 ,  -7.398651  ,  -2.71698   , ...,  -2.2642517 ,\n",
       "         -0.60250854,  -0.72265625],\n",
       "       [ -2.0328064 ,  -7.702179  ,  -2.9193115 , ...,  -2.8813782 ,\n",
       "         -1.0615845 ,  -1.2196655 ],\n",
       "       [ -2.1959534 ,  -7.993042  ,  -3.278473  , ...,  -3.1216736 ,\n",
       "         -1.5180969 ,  -1.7330933 ]], dtype=float32)\n",
       "Coordinates:\n",
       "    longitude  (points) float32 15.5 10.0 16.0 16.5 12.5 ... 11.5 14.5 14.0 17.0\n",
       "    latitude   (points) float32 47.0 47.0 48.0 48.5 47.5 ... 47.0 48.5 48.0 48.0\n",
       "  * time       (time) datetime64[ns] 2015-01-01 ... 2020-04-01\n",
       "  * points     (points) int64 0 1 2 3 4 5 6 7 ... 193 194 195 196 197 198 199"
      ]
     },
     "execution_count": 24,
     "metadata": {},
     "output_type": "execute_result"
    }
   ],
   "source": [
    "country_temperature"
   ]
  },
  {
   "cell_type": "code",
   "execution_count": 25,
   "metadata": {},
   "outputs": [],
   "source": [
    "def calc_country_temperature(country):\n",
    "    country_temperature = temperatures.sel(\n",
    "        longitude=xr.DataArray(country_points[f'{country}_longitude'], dims='points'),\n",
    "        latitude=xr.DataArray(country_points[f'{country}_latitude'], dims='points')).mean(dim='points')\n",
    "    return country_temperature"
   ]
  },
  {
   "cell_type": "code",
   "execution_count": 26,
   "metadata": {},
   "outputs": [],
   "source": [
    "temperature_at = calc_country_temperature('Austria')"
   ]
  },
  {
   "cell_type": "code",
   "execution_count": 27,
   "metadata": {},
   "outputs": [
    {
     "data": {
      "text/plain": [
       "[<matplotlib.lines.Line2D at 0x7fa7ef650f50>]"
      ]
     },
     "execution_count": 27,
     "metadata": {},
     "output_type": "execute_result"
    },
    {
     "data": {
      "image/png": "[encoded data removed]",
      "text/plain": [
       "<Figure size 720x576 with 1 Axes>"
      ]
     },
     "metadata": {
      "needs_background": "light"
     },
     "output_type": "display_data"
    }
   ],
   "source": [
    "temperature_at.plot()"
   ]
  },
  {
   "cell_type": "markdown",
   "metadata": {
    "slideshow": {
     "slide_type": "slide"
    }
   },
   "source": [
    "# Use mean temperature as feature for the load model\n",
    "\n",
    "Can we improve the prediction by using the mean temperature for the country for each hour?"
   ]
  },
  {
   "cell_type": "code",
   "execution_count": 28,
   "metadata": {},
   "outputs": [],
   "source": [
    "# let's use only non-Covid time series, anyway climate data is not yet available for March, April and May\n",
    "power_demand = power_demand[\"2015-01-01\":\"2019-12-31\"]"
   ]
  },
  {
   "cell_type": "code",
   "execution_count": 29,
   "metadata": {},
   "outputs": [],
   "source": [
    "def train_forest(power_demand, X):\n",
    "    Y = power_demand.values\n",
    "\n",
    "    X_train, X_test, Y_train, Y_test = train_test_split(X, Y, test_size=0.2, random_state=42)\n",
    "\n",
    "    forest = ensemble.RandomForestRegressor(n_estimators=300)\n",
    "    forest.fit(X_train, Y_train)\n",
    "\n",
    "    prediction_train = forest.predict(X_train)\n",
    "    prediction_test = forest.predict(X_test)\n",
    "       \n",
    "    print(\"R2 score training: \", r2_score(Y_train, prediction_train),\n",
    "          \" - R2 score test:\", r2_score(Y_test, prediction_test))\n",
    "    \n",
    "    return forest"
   ]
  },
  {
   "cell_type": "code",
   "execution_count": 30,
   "metadata": {
    "slideshow": {
     "slide_type": "fragment"
    }
   },
   "outputs": [
    {
     "name": "stdout",
     "output_type": "stream",
     "text": [
      "R2 score training:  0.9922383930371937  - R2 score test: 0.943053040584257\n"
     ]
    }
   ],
   "source": [
    "country = 'Austria'\n",
    "power_demand_country = power_demand[country]\n",
    "\n",
    "X = np.array([power_demand_country.index.dayofyear.values,\n",
    "              power_demand_country.index.weekday.values,\n",
    "              power_demand_country.index.hour.values]).T\n",
    "\n",
    "forest = train_forest(power_demand_country, X)"
   ]
  },
  {
   "cell_type": "code",
   "execution_count": 31,
   "metadata": {},
   "outputs": [],
   "source": [
    "country_temperature = calc_country_temperature(country)"
   ]
  },
  {
   "cell_type": "code",
   "execution_count": 32,
   "metadata": {},
   "outputs": [
    {
     "name": "stdout",
     "output_type": "stream",
     "text": [
      "R2 score training:  0.9928288109977679  - R2 score test: 0.9430408141795724\n"
     ]
    }
   ],
   "source": [
    "X = np.array([power_demand_country.index.dayofyear.values,\n",
    "              power_demand_country.index.weekday.values,\n",
    "              power_demand_country.index.hour.values,\n",
    "              country_temperature.interp(time=power_demand_country.index),\n",
    "             ]).T\n",
    "\n",
    "forest = train_forest(power_demand_country, X)"
   ]
  },
  {
   "cell_type": "code",
   "execution_count": 33,
   "metadata": {
    "collapsed": true,
    "slideshow": {
     "slide_type": "slide"
    }
   },
   "outputs": [
    {
     "name": "stdout",
     "output_type": "stream",
     "text": [
      "Austria\n",
      "R2 score training:  0.9922329158585201  - R2 score test: 0.9434055450911697\n",
      "R2 score training:  0.9928255371801671  - R2 score test: 0.9437465527001472\n",
      "Germany\n",
      "R2 score training:  0.9936854619530001  - R2 score test: 0.9550036362503029\n"
     ]
    },
    {
     "ename": "KeyboardInterrupt",
     "evalue": "",
     "output_type": "error",
     "traceback": [
      "\u001b[0;31m---------------------------------------------------------------------------\u001b[0m",
      "\u001b[0;31mKeyboardInterrupt\u001b[0m                         Traceback (most recent call last)",
      "\u001b[0;32m<ipython-input-33-752e091385ff>\u001b[0m in \u001b[0;36m<module>\u001b[0;34m\u001b[0m\n\u001b[1;32m     17\u001b[0m                  ]).T\n\u001b[1;32m     18\u001b[0m \u001b[0;34m\u001b[0m\u001b[0m\n\u001b[0;32m---> 19\u001b[0;31m     \u001b[0mforest\u001b[0m \u001b[0;34m=\u001b[0m \u001b[0mtrain_forest\u001b[0m\u001b[0;34m(\u001b[0m\u001b[0mpower_demand_country\u001b[0m\u001b[0;34m,\u001b[0m \u001b[0mX\u001b[0m\u001b[0;34m)\u001b[0m\u001b[0;34m\u001b[0m\u001b[0;34m\u001b[0m\u001b[0m\n\u001b[0m",
      "\u001b[0;32m<ipython-input-29-201624148a75>\u001b[0m in \u001b[0;36mtrain_forest\u001b[0;34m(power_demand, X)\u001b[0m\n\u001b[1;32m      5\u001b[0m \u001b[0;34m\u001b[0m\u001b[0m\n\u001b[1;32m      6\u001b[0m     \u001b[0mforest\u001b[0m \u001b[0;34m=\u001b[0m \u001b[0mensemble\u001b[0m\u001b[0;34m.\u001b[0m\u001b[0mRandomForestRegressor\u001b[0m\u001b[0;34m(\u001b[0m\u001b[0mn_estimators\u001b[0m\u001b[0;34m=\u001b[0m\u001b[0;36m300\u001b[0m\u001b[0;34m)\u001b[0m\u001b[0;34m\u001b[0m\u001b[0;34m\u001b[0m\u001b[0m\n\u001b[0;32m----> 7\u001b[0;31m     \u001b[0mforest\u001b[0m\u001b[0;34m.\u001b[0m\u001b[0mfit\u001b[0m\u001b[0;34m(\u001b[0m\u001b[0mX_train\u001b[0m\u001b[0;34m,\u001b[0m \u001b[0mY_train\u001b[0m\u001b[0;34m)\u001b[0m\u001b[0;34m\u001b[0m\u001b[0;34m\u001b[0m\u001b[0m\n\u001b[0m\u001b[1;32m      8\u001b[0m \u001b[0;34m\u001b[0m\u001b[0m\n\u001b[1;32m      9\u001b[0m     \u001b[0mprediction_train\u001b[0m \u001b[0;34m=\u001b[0m \u001b[0mforest\u001b[0m\u001b[0;34m.\u001b[0m\u001b[0mpredict\u001b[0m\u001b[0;34m(\u001b[0m\u001b[0mX_train\u001b[0m\u001b[0;34m)\u001b[0m\u001b[0;34m\u001b[0m\u001b[0;34m\u001b[0m\u001b[0m\n",
      "\u001b[0;32m/opt/miniconda3/envs/scientific-computing/lib/python3.7/site-packages/sklearn/ensemble/_forest.py\u001b[0m in \u001b[0;36mfit\u001b[0;34m(self, X, y, sample_weight)\u001b[0m\n\u001b[1;32m    381\u001b[0m                     \u001b[0mverbose\u001b[0m\u001b[0;34m=\u001b[0m\u001b[0mself\u001b[0m\u001b[0;34m.\u001b[0m\u001b[0mverbose\u001b[0m\u001b[0;34m,\u001b[0m \u001b[0mclass_weight\u001b[0m\u001b[0;34m=\u001b[0m\u001b[0mself\u001b[0m\u001b[0;34m.\u001b[0m\u001b[0mclass_weight\u001b[0m\u001b[0;34m,\u001b[0m\u001b[0;34m\u001b[0m\u001b[0;34m\u001b[0m\u001b[0m\n\u001b[1;32m    382\u001b[0m                     n_samples_bootstrap=n_samples_bootstrap)\n\u001b[0;32m--> 383\u001b[0;31m                 for i, t in enumerate(trees))\n\u001b[0m\u001b[1;32m    384\u001b[0m \u001b[0;34m\u001b[0m\u001b[0m\n\u001b[1;32m    385\u001b[0m             \u001b[0;31m# Collect newly grown trees\u001b[0m\u001b[0;34m\u001b[0m\u001b[0;34m\u001b[0m\u001b[0;34m\u001b[0m\u001b[0m\n",
      "\u001b[0;32m/opt/miniconda3/envs/scientific-computing/lib/python3.7/site-packages/joblib/parallel.py\u001b[0m in \u001b[0;36m__call__\u001b[0;34m(self, iterable)\u001b[0m\n\u001b[1;32m   1005\u001b[0m                 \u001b[0mself\u001b[0m\u001b[0;34m.\u001b[0m\u001b[0m_iterating\u001b[0m \u001b[0;34m=\u001b[0m \u001b[0mself\u001b[0m\u001b[0;34m.\u001b[0m\u001b[0m_original_iterator\u001b[0m \u001b[0;32mis\u001b[0m \u001b[0;32mnot\u001b[0m \u001b[0;32mNone\u001b[0m\u001b[0;34m\u001b[0m\u001b[0;34m\u001b[0m\u001b[0m\n\u001b[1;32m   1006\u001b[0m \u001b[0;34m\u001b[0m\u001b[0m\n\u001b[0;32m-> 1007\u001b[0;31m             \u001b[0;32mwhile\u001b[0m \u001b[0mself\u001b[0m\u001b[0;34m.\u001b[0m\u001b[0mdispatch_one_batch\u001b[0m\u001b[0;34m(\u001b[0m\u001b[0miterator\u001b[0m\u001b[0;34m)\u001b[0m\u001b[0;34m:\u001b[0m\u001b[0;34m\u001b[0m\u001b[0;34m\u001b[0m\u001b[0m\n\u001b[0m\u001b[1;32m   1008\u001b[0m                 \u001b[0;32mpass\u001b[0m\u001b[0;34m\u001b[0m\u001b[0;34m\u001b[0m\u001b[0m\n\u001b[1;32m   1009\u001b[0m \u001b[0;34m\u001b[0m\u001b[0m\n",
      "\u001b[0;32m/opt/miniconda3/envs/scientific-computing/lib/python3.7/site-packages/joblib/parallel.py\u001b[0m in \u001b[0;36mdispatch_one_batch\u001b[0;34m(self, iterator)\u001b[0m\n\u001b[1;32m    833\u001b[0m                 \u001b[0;32mreturn\u001b[0m \u001b[0;32mFalse\u001b[0m\u001b[0;34m\u001b[0m\u001b[0;34m\u001b[0m\u001b[0m\n\u001b[1;32m    834\u001b[0m             \u001b[0;32melse\u001b[0m\u001b[0;34m:\u001b[0m\u001b[0;34m\u001b[0m\u001b[0;34m\u001b[0m\u001b[0m\n\u001b[0;32m--> 835\u001b[0;31m                 \u001b[0mself\u001b[0m\u001b[0;34m.\u001b[0m\u001b[0m_dispatch\u001b[0m\u001b[0;34m(\u001b[0m\u001b[0mtasks\u001b[0m\u001b[0;34m)\u001b[0m\u001b[0;34m\u001b[0m\u001b[0;34m\u001b[0m\u001b[0m\n\u001b[0m\u001b[1;32m    836\u001b[0m                 \u001b[0;32mreturn\u001b[0m \u001b[0;32mTrue\u001b[0m\u001b[0;34m\u001b[0m\u001b[0;34m\u001b[0m\u001b[0m\n\u001b[1;32m    837\u001b[0m \u001b[0;34m\u001b[0m\u001b[0m\n",
      "\u001b[0;32m/opt/miniconda3/envs/scientific-computing/lib/python3.7/site-packages/joblib/parallel.py\u001b[0m in \u001b[0;36m_dispatch\u001b[0;34m(self, batch)\u001b[0m\n\u001b[1;32m    752\u001b[0m         \u001b[0;32mwith\u001b[0m \u001b[0mself\u001b[0m\u001b[0;34m.\u001b[0m\u001b[0m_lock\u001b[0m\u001b[0;34m:\u001b[0m\u001b[0;34m\u001b[0m\u001b[0;34m\u001b[0m\u001b[0m\n\u001b[1;32m    753\u001b[0m             \u001b[0mjob_idx\u001b[0m \u001b[0;34m=\u001b[0m \u001b[0mlen\u001b[0m\u001b[0;34m(\u001b[0m\u001b[0mself\u001b[0m\u001b[0;34m.\u001b[0m\u001b[0m_jobs\u001b[0m\u001b[0;34m)\u001b[0m\u001b[0;34m\u001b[0m\u001b[0;34m\u001b[0m\u001b[0m\n\u001b[0;32m--> 754\u001b[0;31m             \u001b[0mjob\u001b[0m \u001b[0;34m=\u001b[0m \u001b[0mself\u001b[0m\u001b[0;34m.\u001b[0m\u001b[0m_backend\u001b[0m\u001b[0;34m.\u001b[0m\u001b[0mapply_async\u001b[0m\u001b[0;34m(\u001b[0m\u001b[0mbatch\u001b[0m\u001b[0;34m,\u001b[0m \u001b[0mcallback\u001b[0m\u001b[0;34m=\u001b[0m\u001b[0mcb\u001b[0m\u001b[0;34m)\u001b[0m\u001b[0;34m\u001b[0m\u001b[0;34m\u001b[0m\u001b[0m\n\u001b[0m\u001b[1;32m    755\u001b[0m             \u001b[0;31m# A job can complete so quickly than its callback is\u001b[0m\u001b[0;34m\u001b[0m\u001b[0;34m\u001b[0m\u001b[0;34m\u001b[0m\u001b[0m\n\u001b[1;32m    756\u001b[0m             \u001b[0;31m# called before we get here, causing self._jobs to\u001b[0m\u001b[0;34m\u001b[0m\u001b[0;34m\u001b[0m\u001b[0;34m\u001b[0m\u001b[0m\n",
      "\u001b[0;32m/opt/miniconda3/envs/scientific-computing/lib/python3.7/site-packages/joblib/_parallel_backends.py\u001b[0m in \u001b[0;36mapply_async\u001b[0;34m(self, func, callback)\u001b[0m\n\u001b[1;32m    207\u001b[0m     \u001b[0;32mdef\u001b[0m \u001b[0mapply_async\u001b[0m\u001b[0;34m(\u001b[0m\u001b[0mself\u001b[0m\u001b[0;34m,\u001b[0m \u001b[0mfunc\u001b[0m\u001b[0;34m,\u001b[0m \u001b[0mcallback\u001b[0m\u001b[0;34m=\u001b[0m\u001b[0;32mNone\u001b[0m\u001b[0;34m)\u001b[0m\u001b[0;34m:\u001b[0m\u001b[0;34m\u001b[0m\u001b[0;34m\u001b[0m\u001b[0m\n\u001b[1;32m    208\u001b[0m         \u001b[0;34m\"\"\"Schedule a func to be run\"\"\"\u001b[0m\u001b[0;34m\u001b[0m\u001b[0;34m\u001b[0m\u001b[0m\n\u001b[0;32m--> 209\u001b[0;31m         \u001b[0mresult\u001b[0m \u001b[0;34m=\u001b[0m \u001b[0mImmediateResult\u001b[0m\u001b[0;34m(\u001b[0m\u001b[0mfunc\u001b[0m\u001b[0;34m)\u001b[0m\u001b[0;34m\u001b[0m\u001b[0;34m\u001b[0m\u001b[0m\n\u001b[0m\u001b[1;32m    210\u001b[0m         \u001b[0;32mif\u001b[0m \u001b[0mcallback\u001b[0m\u001b[0;34m:\u001b[0m\u001b[0;34m\u001b[0m\u001b[0;34m\u001b[0m\u001b[0m\n\u001b[1;32m    211\u001b[0m             \u001b[0mcallback\u001b[0m\u001b[0;34m(\u001b[0m\u001b[0mresult\u001b[0m\u001b[0;34m)\u001b[0m\u001b[0;34m\u001b[0m\u001b[0;34m\u001b[0m\u001b[0m\n",
      "\u001b[0;32m/opt/miniconda3/envs/scientific-computing/lib/python3.7/site-packages/joblib/_parallel_backends.py\u001b[0m in \u001b[0;36m__init__\u001b[0;34m(self, batch)\u001b[0m\n\u001b[1;32m    588\u001b[0m         \u001b[0;31m# Don't delay the application, to avoid keeping the input\u001b[0m\u001b[0;34m\u001b[0m\u001b[0;34m\u001b[0m\u001b[0;34m\u001b[0m\u001b[0m\n\u001b[1;32m    589\u001b[0m         \u001b[0;31m# arguments in memory\u001b[0m\u001b[0;34m\u001b[0m\u001b[0;34m\u001b[0m\u001b[0;34m\u001b[0m\u001b[0m\n\u001b[0;32m--> 590\u001b[0;31m         \u001b[0mself\u001b[0m\u001b[0;34m.\u001b[0m\u001b[0mresults\u001b[0m \u001b[0;34m=\u001b[0m \u001b[0mbatch\u001b[0m\u001b[0;34m(\u001b[0m\u001b[0;34m)\u001b[0m\u001b[0;34m\u001b[0m\u001b[0;34m\u001b[0m\u001b[0m\n\u001b[0m\u001b[1;32m    591\u001b[0m \u001b[0;34m\u001b[0m\u001b[0m\n\u001b[1;32m    592\u001b[0m     \u001b[0;32mdef\u001b[0m \u001b[0mget\u001b[0m\u001b[0;34m(\u001b[0m\u001b[0mself\u001b[0m\u001b[0;34m)\u001b[0m\u001b[0;34m:\u001b[0m\u001b[0;34m\u001b[0m\u001b[0;34m\u001b[0m\u001b[0m\n",
      "\u001b[0;32m/opt/miniconda3/envs/scientific-computing/lib/python3.7/site-packages/joblib/parallel.py\u001b[0m in \u001b[0;36m__call__\u001b[0;34m(self)\u001b[0m\n\u001b[1;32m    254\u001b[0m         \u001b[0;32mwith\u001b[0m \u001b[0mparallel_backend\u001b[0m\u001b[0;34m(\u001b[0m\u001b[0mself\u001b[0m\u001b[0;34m.\u001b[0m\u001b[0m_backend\u001b[0m\u001b[0;34m,\u001b[0m \u001b[0mn_jobs\u001b[0m\u001b[0;34m=\u001b[0m\u001b[0mself\u001b[0m\u001b[0;34m.\u001b[0m\u001b[0m_n_jobs\u001b[0m\u001b[0;34m)\u001b[0m\u001b[0;34m:\u001b[0m\u001b[0;34m\u001b[0m\u001b[0;34m\u001b[0m\u001b[0m\n\u001b[1;32m    255\u001b[0m             return [func(*args, **kwargs)\n\u001b[0;32m--> 256\u001b[0;31m                     for func, args, kwargs in self.items]\n\u001b[0m\u001b[1;32m    257\u001b[0m \u001b[0;34m\u001b[0m\u001b[0m\n\u001b[1;32m    258\u001b[0m     \u001b[0;32mdef\u001b[0m \u001b[0m__len__\u001b[0m\u001b[0;34m(\u001b[0m\u001b[0mself\u001b[0m\u001b[0;34m)\u001b[0m\u001b[0;34m:\u001b[0m\u001b[0;34m\u001b[0m\u001b[0;34m\u001b[0m\u001b[0m\n",
      "\u001b[0;32m/opt/miniconda3/envs/scientific-computing/lib/python3.7/site-packages/joblib/parallel.py\u001b[0m in \u001b[0;36m<listcomp>\u001b[0;34m(.0)\u001b[0m\n\u001b[1;32m    254\u001b[0m         \u001b[0;32mwith\u001b[0m \u001b[0mparallel_backend\u001b[0m\u001b[0;34m(\u001b[0m\u001b[0mself\u001b[0m\u001b[0;34m.\u001b[0m\u001b[0m_backend\u001b[0m\u001b[0;34m,\u001b[0m \u001b[0mn_jobs\u001b[0m\u001b[0;34m=\u001b[0m\u001b[0mself\u001b[0m\u001b[0;34m.\u001b[0m\u001b[0m_n_jobs\u001b[0m\u001b[0;34m)\u001b[0m\u001b[0;34m:\u001b[0m\u001b[0;34m\u001b[0m\u001b[0;34m\u001b[0m\u001b[0m\n\u001b[1;32m    255\u001b[0m             return [func(*args, **kwargs)\n\u001b[0;32m--> 256\u001b[0;31m                     for func, args, kwargs in self.items]\n\u001b[0m\u001b[1;32m    257\u001b[0m \u001b[0;34m\u001b[0m\u001b[0m\n\u001b[1;32m    258\u001b[0m     \u001b[0;32mdef\u001b[0m \u001b[0m__len__\u001b[0m\u001b[0;34m(\u001b[0m\u001b[0mself\u001b[0m\u001b[0;34m)\u001b[0m\u001b[0;34m:\u001b[0m\u001b[0;34m\u001b[0m\u001b[0;34m\u001b[0m\u001b[0m\n",
      "\u001b[0;32m/opt/miniconda3/envs/scientific-computing/lib/python3.7/site-packages/sklearn/ensemble/_forest.py\u001b[0m in \u001b[0;36m_parallel_build_trees\u001b[0;34m(tree, forest, X, y, sample_weight, tree_idx, n_trees, verbose, class_weight, n_samples_bootstrap)\u001b[0m\n\u001b[1;32m    163\u001b[0m             \u001b[0mcurr_sample_weight\u001b[0m \u001b[0;34m*=\u001b[0m \u001b[0mcompute_sample_weight\u001b[0m\u001b[0;34m(\u001b[0m\u001b[0;34m'balanced'\u001b[0m\u001b[0;34m,\u001b[0m \u001b[0my\u001b[0m\u001b[0;34m,\u001b[0m \u001b[0mindices\u001b[0m\u001b[0;34m)\u001b[0m\u001b[0;34m\u001b[0m\u001b[0;34m\u001b[0m\u001b[0m\n\u001b[1;32m    164\u001b[0m \u001b[0;34m\u001b[0m\u001b[0m\n\u001b[0;32m--> 165\u001b[0;31m         \u001b[0mtree\u001b[0m\u001b[0;34m.\u001b[0m\u001b[0mfit\u001b[0m\u001b[0;34m(\u001b[0m\u001b[0mX\u001b[0m\u001b[0;34m,\u001b[0m \u001b[0my\u001b[0m\u001b[0;34m,\u001b[0m \u001b[0msample_weight\u001b[0m\u001b[0;34m=\u001b[0m\u001b[0mcurr_sample_weight\u001b[0m\u001b[0;34m,\u001b[0m \u001b[0mcheck_input\u001b[0m\u001b[0;34m=\u001b[0m\u001b[0;32mFalse\u001b[0m\u001b[0;34m)\u001b[0m\u001b[0;34m\u001b[0m\u001b[0;34m\u001b[0m\u001b[0m\n\u001b[0m\u001b[1;32m    166\u001b[0m     \u001b[0;32melse\u001b[0m\u001b[0;34m:\u001b[0m\u001b[0;34m\u001b[0m\u001b[0;34m\u001b[0m\u001b[0m\n\u001b[1;32m    167\u001b[0m         \u001b[0mtree\u001b[0m\u001b[0;34m.\u001b[0m\u001b[0mfit\u001b[0m\u001b[0;34m(\u001b[0m\u001b[0mX\u001b[0m\u001b[0;34m,\u001b[0m \u001b[0my\u001b[0m\u001b[0;34m,\u001b[0m \u001b[0msample_weight\u001b[0m\u001b[0;34m=\u001b[0m\u001b[0msample_weight\u001b[0m\u001b[0;34m,\u001b[0m \u001b[0mcheck_input\u001b[0m\u001b[0;34m=\u001b[0m\u001b[0;32mFalse\u001b[0m\u001b[0;34m)\u001b[0m\u001b[0;34m\u001b[0m\u001b[0;34m\u001b[0m\u001b[0m\n",
      "\u001b[0;32m/opt/miniconda3/envs/scientific-computing/lib/python3.7/site-packages/sklearn/tree/_classes.py\u001b[0m in \u001b[0;36mfit\u001b[0;34m(self, X, y, sample_weight, check_input, X_idx_sorted)\u001b[0m\n\u001b[1;32m   1223\u001b[0m             \u001b[0msample_weight\u001b[0m\u001b[0;34m=\u001b[0m\u001b[0msample_weight\u001b[0m\u001b[0;34m,\u001b[0m\u001b[0;34m\u001b[0m\u001b[0;34m\u001b[0m\u001b[0m\n\u001b[1;32m   1224\u001b[0m             \u001b[0mcheck_input\u001b[0m\u001b[0;34m=\u001b[0m\u001b[0mcheck_input\u001b[0m\u001b[0;34m,\u001b[0m\u001b[0;34m\u001b[0m\u001b[0;34m\u001b[0m\u001b[0m\n\u001b[0;32m-> 1225\u001b[0;31m             X_idx_sorted=X_idx_sorted)\n\u001b[0m\u001b[1;32m   1226\u001b[0m         \u001b[0;32mreturn\u001b[0m \u001b[0mself\u001b[0m\u001b[0;34m\u001b[0m\u001b[0;34m\u001b[0m\u001b[0m\n\u001b[1;32m   1227\u001b[0m \u001b[0;34m\u001b[0m\u001b[0m\n",
      "\u001b[0;32m/opt/miniconda3/envs/scientific-computing/lib/python3.7/site-packages/sklearn/tree/_classes.py\u001b[0m in \u001b[0;36mfit\u001b[0;34m(self, X, y, sample_weight, check_input, X_idx_sorted)\u001b[0m\n\u001b[1;32m    365\u001b[0m                                            min_impurity_split)\n\u001b[1;32m    366\u001b[0m \u001b[0;34m\u001b[0m\u001b[0m\n\u001b[0;32m--> 367\u001b[0;31m         \u001b[0mbuilder\u001b[0m\u001b[0;34m.\u001b[0m\u001b[0mbuild\u001b[0m\u001b[0;34m(\u001b[0m\u001b[0mself\u001b[0m\u001b[0;34m.\u001b[0m\u001b[0mtree_\u001b[0m\u001b[0;34m,\u001b[0m \u001b[0mX\u001b[0m\u001b[0;34m,\u001b[0m \u001b[0my\u001b[0m\u001b[0;34m,\u001b[0m \u001b[0msample_weight\u001b[0m\u001b[0;34m,\u001b[0m \u001b[0mX_idx_sorted\u001b[0m\u001b[0;34m)\u001b[0m\u001b[0;34m\u001b[0m\u001b[0;34m\u001b[0m\u001b[0m\n\u001b[0m\u001b[1;32m    368\u001b[0m \u001b[0;34m\u001b[0m\u001b[0m\n\u001b[1;32m    369\u001b[0m         \u001b[0;32mif\u001b[0m \u001b[0mself\u001b[0m\u001b[0;34m.\u001b[0m\u001b[0mn_outputs_\u001b[0m \u001b[0;34m==\u001b[0m \u001b[0;36m1\u001b[0m \u001b[0;32mand\u001b[0m \u001b[0mis_classifier\u001b[0m\u001b[0;34m(\u001b[0m\u001b[0mself\u001b[0m\u001b[0;34m)\u001b[0m\u001b[0;34m:\u001b[0m\u001b[0;34m\u001b[0m\u001b[0;34m\u001b[0m\u001b[0m\n",
      "\u001b[0;31mKeyboardInterrupt\u001b[0m: "
     ]
    }
   ],
   "source": [
    "for country in COUNTRIES:\n",
    "    power_demand_country = power_demand[country]\n",
    "\n",
    "    X = np.array([power_demand_country.index.dayofyear.values,\n",
    "                  power_demand_country.index.weekday.values,\n",
    "                  power_demand_country.index.hour.values]).T\n",
    "\n",
    "    print(country)\n",
    "    forest = train_forest(power_demand_country, X)\n",
    "\n",
    "    country_temperature = calc_country_temperature(country)\n",
    "\n",
    "    X = np.array([power_demand_country.index.dayofyear.values,\n",
    "                  power_demand_country.index.weekday.values,\n",
    "                  power_demand_country.index.hour.values,\n",
    "                  country_temperature.sel(time=power_demand_country.index),\n",
    "                 ]).T\n",
    "\n",
    "    forest = train_forest(power_demand_country, X)"
   ]
  },
  {
   "cell_type": "markdown",
   "metadata": {
    "slideshow": {
     "slide_type": "slide"
    }
   },
   "source": [
    "Result of the previous cell, if you don't want to wait for the computation...\n",
    "\n",
    "<pre>Austria:\n",
    "R2 score training:  0.9919011002720224  - R2 score test: 0.9430536865173593\n",
    "R2 score training:  0.9928279087919563  - R2 score test: 0.9468364351058121\n",
    "\n",
    "Germany:\n",
    "R2 score training:  0.9933880571246583  - R2 score test: 0.9539841834855078\n",
    "R2 score training:  0.9940009620976278  - R2 score test: 0.9560062602203074\n",
    "\n",
    "Switzerland:\n",
    "R2 score training:  0.9820738570674996  - R2 score test: 0.8818901179398776\n",
    "R2 score training:  0.9819570886785727  - R2 score test: 0.8761312194956354\n",
    "\n",
    "Italy:\n",
    "R2 score training:  0.9961309164992136  - R2 score test: 0.9719904696653652\n",
    "R2 score training:  0.9968348107929302  - R2 score test: 0.9759603596729277\n",
    "\n",
    "Spain:\n",
    "R2 score training:  0.9925356928133622  - R2 score test: 0.9468729711079595\n",
    "R2 score training:  0.9951085475093822  - R2 score test: 0.9657767736692645\n",
    "\n",
    "Sweden:\n",
    "R2 score training:  0.9925511329897733  - R2 score test: 0.9413298526456573\n",
    "R2 score training:  0.9948624569922019  - R2 score test: 0.9577132123193586\n",
    "\n",
    "United Kingdom:\n",
    "R2 score training:  0.9785190262375633  - R2 score test: 0.8367647702186678\n",
    "R2 score training:  0.9808087684803176  - R2 score test: 0.855098212274145\n",
    "</pre>"
   ]
  },
  {
   "cell_type": "markdown",
   "metadata": {
    "slideshow": {
     "slide_type": "slide"
    }
   },
   "source": [
    "# Who likes to have it warm?"
   ]
  },
  {
   "cell_type": "code",
   "execution_count": 34,
   "metadata": {},
   "outputs": [
    {
     "data": {
      "image/png": "[encoded data removed]",
      "text/plain": [
       "<Figure size 720x576 with 1 Axes>"
      ]
     },
     "metadata": {
      "needs_background": "light"
     },
     "output_type": "display_data"
    }
   ],
   "source": [
    "plt.plot(temperature_at.interp(time=power_demand.Austria.index),\n",
    "         power_demand.Austria, 'o')\n",
    "plt.xlabel('Temperature [°C]')\n",
    "plt.ylabel('Load [MW]');"
   ]
  },
  {
   "cell_type": "code",
   "execution_count": 35,
   "metadata": {
    "slideshow": {
     "slide_type": "slide"
    }
   },
   "outputs": [],
   "source": [
    "idcs = (power_demand_country.index.weekday == 2) & (power_demand_country.index.hour == 9)"
   ]
  },
  {
   "cell_type": "code",
   "execution_count": 36,
   "metadata": {
    "slideshow": {
     "slide_type": "fragment"
    }
   },
   "outputs": [
    {
     "data": {
      "image/png": "[encoded data removed]",
      "text/plain": [
       "<Figure size 720x576 with 1 Axes>"
      ]
     },
     "metadata": {
      "needs_background": "light"
     },
     "output_type": "display_data"
    }
   ],
   "source": [
    "plt.plot(temperature_at.interp(time=power_demand.Austria.index[idcs]),\n",
    "         power_demand.Austria[idcs], 'o')\n",
    "plt.ylim(6_000, 11_000)\n",
    "plt.xlabel('Temperature [°C]')\n",
    "plt.ylabel('Load [MW]')\n",
    "plt.title(\"Load vs Temperature (Wednesdays 9:00am)\");"
   ]
  },
  {
   "cell_type": "code",
   "execution_count": 37,
   "metadata": {
    "slideshow": {
     "slide_type": "slide"
    }
   },
   "outputs": [],
   "source": [
    "from scipy.ndimage import median_filter"
   ]
  },
  {
   "cell_type": "code",
   "execution_count": 44,
   "metadata": {
    "slideshow": {
     "slide_type": "fragment"
    }
   },
   "outputs": [
    {
     "data": {
      "image/png": "[encoded data removed]",
      "text/plain": [
       "<Figure size 720x576 with 1 Axes>"
      ]
     },
     "metadata": {
      "needs_background": "light"
     },
     "output_type": "display_data"
    }
   ],
   "source": [
    "power_temperature = pd.DataFrame()\n",
    "power_temperature['TotalLoadValue'] = power_demand.Austria[idcs]\n",
    "power_temperature['Temperature'] = temperature_at.interp(time=power_demand.Austria.index[idcs])\n",
    "\n",
    "power_temperature = power_temperature.sort_values('Temperature')\n",
    "\n",
    "power_temperature.TotalLoadValue = median_filter(power_temperature.TotalLoadValue, size=50)\n",
    "\n",
    "plt.plot(power_temperature.Temperature,\n",
    "         power_temperature.TotalLoadValue, '-')\n",
    "\n",
    "plt.ylim(6_000, 11_000)\n",
    "plt.xlabel('Temperature [°C]')\n",
    "plt.ylabel('Load [MW]')\n",
    "plt.title(\"Load vs Temperature (Wednesdays 9:00am)\");"
   ]
  },
  {
   "cell_type": "code",
   "execution_count": 39,
   "metadata": {},
   "outputs": [
    {
     "data": {
      "image/png": "[encoded data removed]",
      "text/plain": [
       "<Figure size 720x576 with 1 Axes>"
      ]
     },
     "metadata": {
      "needs_background": "light"
     },
     "output_type": "display_data"
    }
   ],
   "source": [
    "for country in COUNTRIES:\n",
    "    power_demand_country = power_demand[country]\n",
    "\n",
    "    country_temperature = calc_country_temperature(country)\n",
    "\n",
    "    # select observations from Wednesdays 9:00am\n",
    "    idcs = (power_demand_country.index.weekday == 2) & (power_demand_country.index.hour == 9)\n",
    "\n",
    "    power_temperature = pd.DataFrame()\n",
    "\n",
    "    power_temperature['TotalLoadValue'] = power_demand_country[idcs]\n",
    "    power_temperature['Temperature'] = country_temperature.interp(time=power_demand_country.index[idcs])\n",
    "    power_temperature = power_temperature.sort_values('Temperature')\n",
    "\n",
    "    normalized_load = power_temperature.TotalLoadValue / power_temperature.TotalLoadValue.mean()\n",
    "    normalized_load_filtered =  median_filter(normalized_load, size=50)\n",
    "    \n",
    "    plt.plot(power_temperature.Temperature, normalized_load_filtered, '-', label=country)\n",
    "\n",
    "plt.legend();"
   ]
  }
 ],
 "metadata": {
  "celltoolbar": "Slideshow",
  "kernelspec": {
   "display_name": "Python 3",
   "language": "python",
   "name": "python3"
  },
  "language_info": {
   "codemirror_mode": {
    "name": "ipython",
    "version": 3
   },
   "file_extension": ".py",
   "mimetype": "text/x-python",
   "name": "python",
   "nbconvert_exporter": "python",
   "pygments_lexer": "ipython3",
   "version": "3.7.7"
  },
  "rise": {
   "auto_select": "code",
   "auto_select_fragment": true,
   "center": false,
   "controls": false,
   "scroll": true,
   "slideNumber": "c/t",
   "theme": "serif",
   "transition": "none"
  }
 },
 "nbformat": 4,
 "nbformat_minor": 4
}
