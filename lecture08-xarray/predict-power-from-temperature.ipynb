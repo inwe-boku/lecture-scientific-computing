{
 "cells": [
  {
   "cell_type": "code",
   "execution_count": 7,
   "metadata": {
    "slideshow": {
     "slide_type": "skip"
    }
   },
   "outputs": [],
   "source": [
    "import glob\n",
    "import os.path\n",
    "\n",
    "from pathlib import Path\n",
    "\n",
    "import numpy as np\n",
    "import pandas as pd\n",
    "import xarray as xr\n",
    "\n",
    "import matplotlib\n",
    "import matplotlib.pyplot as plt\n",
    "\n",
    "from sklearn import ensemble, neural_network\n",
    "from sklearn.metrics import r2_score\n",
    "from sklearn.linear_model import LinearRegression"
   ]
  },
  {
   "cell_type": "markdown",
   "metadata": {},
   "source": [
    "# Predict power load using temperature"
   ]
  },
  {
   "cell_type": "code",
   "execution_count": 2,
   "metadata": {
    "slideshow": {
     "slide_type": "skip"
    }
   },
   "outputs": [],
   "source": [
    "# Use this for larger plots:\n",
    "#matplotlib.rc('figure', figsize=(15, 10))\n",
    "matplotlib.rc('figure', figsize=(10, 8))"
   ]
  },
  {
   "cell_type": "code",
   "execution_count": 3,
   "metadata": {
    "slideshow": {
     "slide_type": "skip"
    }
   },
   "outputs": [],
   "source": [
    "COUNTRIES = 'Austria', 'Germany', 'Switzerland', 'Italy', 'Spain', 'Sweden', 'United Kingdom'"
   ]
  },
  {
   "cell_type": "code",
   "execution_count": 4,
   "metadata": {
    "slideshow": {
     "slide_type": "skip"
    }
   },
   "outputs": [],
   "source": [
    "CONFIG_FILE = '../entsoe-data.config'\n",
    "\n",
    "if not os.path.exists(CONFIG_FILE):\n",
    "    download_dir = input('Path to ENTSO-E data folder: ')\n",
    "    if not os.path.isdir(download_dir):\n",
    "        raise RuntimeError(f'Invalid download_dir, please run cell again: {download_dir}')\n",
    "    with open(CONFIG_FILE, 'w') as f:\n",
    "        f.write(download_dir)\n",
    "else:\n",
    "    with open(CONFIG_FILE) as f:\n",
    "        download_dir = f.read()\n",
    "        \n",
    "# Clear the output after this cell if you want to aovid having your path in the notebook (or execute it twice)!"
   ]
  },
  {
   "cell_type": "code",
   "execution_count": 5,
   "metadata": {
    "slideshow": {
     "slide_type": "skip"
    }
   },
   "outputs": [
    {
     "name": "stdout",
     "output_type": "stream",
     "text": [
      "Concatenating 69 csv files...\n",
      "Files read, concatenating to dataframe...\n",
      "Sorting and indexing...\n",
      "Resampling...\n",
      "Reshaping dataframe...\n",
      "Loading done.\n"
     ]
    }
   ],
   "source": [
    "def read_single_csv_entso_e(file):\n",
    "    return pd.read_csv(file, sep='\\t', encoding='utf-16', parse_dates=[\"DateTime\"])\n",
    "\n",
    "\n",
    "def load_complete_entso_e_data(directory):\n",
    "    pattern = Path(directory) / '*.csv'\n",
    "    files = glob.glob(str(pattern))\n",
    "\n",
    "    if not files:\n",
    "        raise ValueError(f\"No files found when searching in {pattern}, wrong directory?\")\n",
    "    \n",
    "    print(f'Concatenating {len(files)} csv files...')\n",
    "\n",
    "    each_csv_file = [read_single_csv_entso_e(file) for file in files]\n",
    "    \n",
    "    print(\"Files read, concatenating to dataframe...\")\n",
    "    data = pd.concat(each_csv_file, ignore_index=True)\n",
    "    \n",
    "    print(\"Sorting and indexing...\")\n",
    "    data = data.set_index(\"DateTime\")\n",
    "    data.sort_index(inplace=True)\n",
    "    \n",
    "    # filter only for countries under consideration to make things faster and consume less RAM...\n",
    "    data_ = data[data.AreaName.isin(COUNTRIES)].copy()\n",
    "    del data\n",
    "    data = data_\n",
    "    \n",
    "    print(\"Resampling...\")\n",
    "    data = data.groupby('AreaName').resample(\"1h\").mean()\n",
    "    \n",
    "    # we should end up with a dataframe with DateTime as index, AreaName as columns\n",
    "    # and Total load as entries...\n",
    "    print(\"Reshaping dataframe...\")\n",
    "    data = data.TotalLoadValue.unstack(level=0).interpolate()\n",
    "    \n",
    "    print(\"Loading done.\")\n",
    "\n",
    "    return data\n",
    "\n",
    "\n",
    "# note: this might require 3GB of RAM\n",
    "\n",
    "power_demand = load_complete_entso_e_data(download_dir)"
   ]
  },
  {
   "cell_type": "code",
   "execution_count": 53,
   "metadata": {},
   "outputs": [],
   "source": [
    "power_train = power_demand.Austria['2016-01-01':'2018-12-31']\n",
    "power_test  = power_demand.Austria['2019-01-01':'2019-12-31']"
   ]
  },
  {
   "cell_type": "markdown",
   "metadata": {},
   "source": [
    "### Random forests with features dayofyear/hour/weekday"
   ]
  },
  {
   "cell_type": "code",
   "execution_count": 54,
   "metadata": {},
   "outputs": [],
   "source": [
    "def get_fetures(data):\n",
    "    dayofyear = data.index.dayofyear.values[:, np.newaxis]\n",
    "    hour = data.index.hour.values[:, np.newaxis]\n",
    "    weekday = data.index.weekday.values[:, np.newaxis]\n",
    "    return np.concatenate((dayofyear, hour, weekday), axis=1)"
   ]
  },
  {
   "cell_type": "code",
   "execution_count": 55,
   "metadata": {},
   "outputs": [],
   "source": [
    "X_train = get_fetures(power_train)\n",
    "X_test = get_fetures(power_test)\n",
    "Y_train = power_train.values\n",
    "Y_test = power_test.values"
   ]
  },
  {
   "cell_type": "code",
   "execution_count": 56,
   "metadata": {},
   "outputs": [
    {
     "data": {
      "text/plain": [
       "RandomForestRegressor(bootstrap=True, ccp_alpha=0.0, criterion='mse',\n",
       "                      max_depth=None, max_features='auto', max_leaf_nodes=None,\n",
       "                      max_samples=None, min_impurity_decrease=0.0,\n",
       "                      min_impurity_split=None, min_samples_leaf=1,\n",
       "                      min_samples_split=2, min_weight_fraction_leaf=0.0,\n",
       "                      n_estimators=100, n_jobs=None, oob_score=False,\n",
       "                      random_state=None, verbose=0, warm_start=False)"
      ]
     },
     "execution_count": 56,
     "metadata": {},
     "output_type": "execute_result"
    }
   ],
   "source": [
    "forest = ensemble.RandomForestRegressor()\n",
    "forest.fit(X_train, Y_train)"
   ]
  },
  {
   "cell_type": "code",
   "execution_count": 57,
   "metadata": {},
   "outputs": [
    {
     "data": {
      "text/plain": [
       "0.8931721824234694"
      ]
     },
     "execution_count": 57,
     "metadata": {},
     "output_type": "execute_result"
    }
   ],
   "source": [
    "forest.score(X_test, Y_test)"
   ]
  },
  {
   "cell_type": "markdown",
   "metadata": {},
   "source": [
    "### Can we improve residuals with using temperature?"
   ]
  },
  {
   "cell_type": "code",
   "execution_count": 58,
   "metadata": {},
   "outputs": [],
   "source": [
    "temperature = xr.load_dataset(\"../data/temperatures_era5.nc\").t2m.sel(longitude=16.5, latitude=48)"
   ]
  },
  {
   "cell_type": "code",
   "execution_count": 59,
   "metadata": {},
   "outputs": [],
   "source": [
    "def mean_temperature_dayofyear(temperature, time):\n",
    "    temperature_interpolated = temperature.interp(time=time)\n",
    "    return temperature_interpolated.groupby(temperature_interpolated.time.dt.dayofyear).mean()"
   ]
  },
  {
   "cell_type": "code",
   "execution_count": 60,
   "metadata": {},
   "outputs": [],
   "source": [
    "temperature_train = mean_temperature_dayofyear(temperature=temperature, time=power_training.index)\n",
    "temperature_test = mean_temperature_dayofyear(temperature=temperature, time=power_test.index)"
   ]
  },
  {
   "cell_type": "code",
   "execution_count": 61,
   "metadata": {},
   "outputs": [],
   "source": [
    "residuals = pd.Series(Y_test - forest.predict(X_test), index=power_test.index)"
   ]
  },
  {
   "cell_type": "code",
   "execution_count": 62,
   "metadata": {},
   "outputs": [
    {
     "data": {
      "text/plain": [
       "<matplotlib.legend.Legend at 0x7f6163f6f1d0>"
      ]
     },
     "execution_count": 62,
     "metadata": {},
     "output_type": "execute_result"
    },
    {
     "data": {
      "image/png": "[encoded data removed]",
      "text/plain": [
       "<Figure size 720x576 with 2 Axes>"
      ]
     },
     "metadata": {
      "needs_background": "light"
     },
     "output_type": "display_data"
    }
   ],
   "source": [
    "(temperature_train - temperature_test).plot.line(label='Mean temperature deviation')\n",
    "plt.legend(loc='upper left')\n",
    "plt.ylabel('Temperature deviation [C°]')\n",
    "ax2 = plt.gca().twinx()\n",
    "ax2.plot(power_test.index.dayofyear, residuals, 'r-', label='Load residuals')\n",
    "plt.ylabel('Power load residuals [MW]')\n",
    "plt.legend()"
   ]
  },
  {
   "cell_type": "code",
   "execution_count": 63,
   "metadata": {},
   "outputs": [
    {
     "data": {
      "text/plain": [
       "Text(0.5, 0, 'Temperature deviation [C°]')"
      ]
     },
     "execution_count": 63,
     "metadata": {},
     "output_type": "execute_result"
    },
    {
     "data": {
      "image/png": "[encoded data removed]",
      "text/plain": [
       "<Figure size 720x576 with 1 Axes>"
      ]
     },
     "metadata": {
      "needs_background": "light"
     },
     "output_type": "display_data"
    }
   ],
   "source": [
    "plt.plot(temperature_train - temperature_test,\n",
    "         residuals.groupby(residuals.index.dayofyear).mean(), 'o', markersize=3)\n",
    "plt.ylabel('Power load residuals [MW]')\n",
    "plt.xlabel('Temperature deviation [C°]')"
   ]
  },
  {
   "cell_type": "markdown",
   "metadata": {},
   "source": [
    "Okay, not sure if there is a lot of dependence here. Let's try it out!"
   ]
  },
  {
   "cell_type": "code",
   "execution_count": 92,
   "metadata": {},
   "outputs": [],
   "source": [
    "def get_fetures(data, temperature):\n",
    "    dayofyear = data.index.dayofyear.values[:, np.newaxis]\n",
    "    week = data.index.week.values[:, np.newaxis]\n",
    "    hour = data.index.hour.values[:, np.newaxis]\n",
    "    weekday = data.index.weekday.values[:, np.newaxis]\n",
    "    return np.concatenate((dayofyear, week, hour, weekday, temperature.values[:, np.newaxis]), axis=1)"
   ]
  },
  {
   "cell_type": "code",
   "execution_count": 93,
   "metadata": {},
   "outputs": [],
   "source": [
    "X_train = get_fetures(power_train, temperature.interp(time=power_train.index))\n",
    "X_test = get_fetures(power_test, temperature.interp(time=power_test.index))\n",
    "Y_train = power_train.values\n",
    "Y_test = power_test.values"
   ]
  },
  {
   "cell_type": "code",
   "execution_count": 94,
   "metadata": {},
   "outputs": [
    {
     "data": {
      "text/plain": [
       "RandomForestRegressor(bootstrap=True, ccp_alpha=0.0, criterion='mse',\n",
       "                      max_depth=None, max_features='auto', max_leaf_nodes=None,\n",
       "                      max_samples=None, min_impurity_decrease=0.0,\n",
       "                      min_impurity_split=None, min_samples_leaf=1,\n",
       "                      min_samples_split=2, min_weight_fraction_leaf=0.0,\n",
       "                      n_estimators=100, n_jobs=None, oob_score=False,\n",
       "                      random_state=None, verbose=0, warm_start=False)"
      ]
     },
     "execution_count": 94,
     "metadata": {},
     "output_type": "execute_result"
    }
   ],
   "source": [
    "forest = ensemble.RandomForestRegressor()\n",
    "forest.fit(X_train, Y_train)"
   ]
  },
  {
   "cell_type": "code",
   "execution_count": 95,
   "metadata": {},
   "outputs": [
    {
     "data": {
      "text/plain": [
       "0.9345877221132488"
      ]
     },
     "execution_count": 95,
     "metadata": {},
     "output_type": "execute_result"
    }
   ],
   "source": [
    "forest.score(X_test, Y_test)"
   ]
  },
  {
   "cell_type": "markdown",
   "metadata": {},
   "source": [
    "### Random forests with features week of year/hour/weekday"
   ]
  },
  {
   "cell_type": "code",
   "execution_count": 96,
   "metadata": {},
   "outputs": [],
   "source": [
    "def get_fetures(data):\n",
    "    week = data.index.week.values[:, np.newaxis]\n",
    "    hour = data.index.hour.values[:, np.newaxis]\n",
    "    weekday = data.index.weekday.values[:, np.newaxis]\n",
    "    return np.concatenate((week, hour, weekday), axis=1)"
   ]
  },
  {
   "cell_type": "code",
   "execution_count": 97,
   "metadata": {},
   "outputs": [],
   "source": [
    "X_train = get_fetures(power_train)\n",
    "X_test = get_fetures(power_test)\n",
    "Y_train = power_train.values\n",
    "Y_test = power_test.values"
   ]
  },
  {
   "cell_type": "code",
   "execution_count": 98,
   "metadata": {},
   "outputs": [
    {
     "data": {
      "text/plain": [
       "RandomForestRegressor(bootstrap=True, ccp_alpha=0.0, criterion='mse',\n",
       "                      max_depth=None, max_features='auto', max_leaf_nodes=None,\n",
       "                      max_samples=None, min_impurity_decrease=0.0,\n",
       "                      min_impurity_split=None, min_samples_leaf=1,\n",
       "                      min_samples_split=2, min_weight_fraction_leaf=0.0,\n",
       "                      n_estimators=100, n_jobs=None, oob_score=False,\n",
       "                      random_state=None, verbose=0, warm_start=False)"
      ]
     },
     "execution_count": 98,
     "metadata": {},
     "output_type": "execute_result"
    }
   ],
   "source": [
    "forest = ensemble.RandomForestRegressor()\n",
    "forest.fit(X_train, Y_train)"
   ]
  },
  {
   "cell_type": "code",
   "execution_count": 99,
   "metadata": {},
   "outputs": [
    {
     "data": {
      "text/plain": [
       "0.8995341051227149"
      ]
     },
     "execution_count": 99,
     "metadata": {},
     "output_type": "execute_result"
    }
   ],
   "source": [
    "forest.score(X_test, Y_test)"
   ]
  },
  {
   "cell_type": "markdown",
   "metadata": {},
   "source": [
    "### Linear regression with dummies with features dayofyear/hour/weekday"
   ]
  },
  {
   "cell_type": "code",
   "execution_count": 104,
   "metadata": {},
   "outputs": [],
   "source": [
    "def get_dummies(data):\n",
    "    dayofyear = pd.get_dummies(pd.Categorical(data.index.dayofyear, categories=np.arange(1,367)))\n",
    "    hour = pd.get_dummies(data.index.hour)\n",
    "    weekday = pd.get_dummies(data.index.weekday)\n",
    "    return np.concatenate((dayofyear, hour, weekday), axis=1)"
   ]
  },
  {
   "cell_type": "code",
   "execution_count": 105,
   "metadata": {},
   "outputs": [],
   "source": [
    "X_train = get_dummies(power_train)\n",
    "X_test = get_dummies(power_test)\n",
    "Y_train = power_train.values\n",
    "Y_test = power_test.values"
   ]
  },
  {
   "cell_type": "code",
   "execution_count": 106,
   "metadata": {},
   "outputs": [
    {
     "data": {
      "text/plain": [
       "LinearRegression(copy_X=True, fit_intercept=True, n_jobs=None, normalize=False)"
      ]
     },
     "execution_count": 106,
     "metadata": {},
     "output_type": "execute_result"
    }
   ],
   "source": [
    "forest = LinearRegression()\n",
    "forest.fit(X_train, Y_train)"
   ]
  },
  {
   "cell_type": "code",
   "execution_count": 107,
   "metadata": {},
   "outputs": [
    {
     "data": {
      "text/plain": [
       "0.8580713500177406"
      ]
     },
     "execution_count": 107,
     "metadata": {},
     "output_type": "execute_result"
    }
   ],
   "source": [
    "forest.score(X_test, Y_test)"
   ]
  },
  {
   "cell_type": "markdown",
   "metadata": {},
   "source": [
    "### Linear regression with dummies with features month/hour/weekday"
   ]
  },
  {
   "cell_type": "code",
   "execution_count": 108,
   "metadata": {},
   "outputs": [],
   "source": [
    "def get_dummies(data):\n",
    "    month = pd.get_dummies(data.index.month)\n",
    "    hour = pd.get_dummies(data.index.hour)\n",
    "    weekday = pd.get_dummies(data.index.weekday)\n",
    "    return np.concatenate((month, hour, weekday), axis=1)"
   ]
  },
  {
   "cell_type": "code",
   "execution_count": 109,
   "metadata": {},
   "outputs": [],
   "source": [
    "X_train = get_dummies(power_train)\n",
    "X_test = get_dummies(power_test)\n",
    "Y_train = power_train.values\n",
    "Y_test = power_test.values"
   ]
  },
  {
   "cell_type": "code",
   "execution_count": 110,
   "metadata": {},
   "outputs": [
    {
     "data": {
      "text/plain": [
       "LinearRegression(copy_X=True, fit_intercept=True, n_jobs=None, normalize=False)"
      ]
     },
     "execution_count": 110,
     "metadata": {},
     "output_type": "execute_result"
    }
   ],
   "source": [
    "forest = LinearRegression()\n",
    "forest.fit(X_train, Y_train)"
   ]
  },
  {
   "cell_type": "code",
   "execution_count": 111,
   "metadata": {},
   "outputs": [
    {
     "data": {
      "text/plain": [
       "0.8253180803001711"
      ]
     },
     "execution_count": 111,
     "metadata": {},
     "output_type": "execute_result"
    }
   ],
   "source": [
    "forest.score(X_test, Y_test)"
   ]
  },
  {
   "cell_type": "markdown",
   "metadata": {},
   "source": [
    "### Random forests with features month/hour/weekday"
   ]
  },
  {
   "cell_type": "code",
   "execution_count": 112,
   "metadata": {},
   "outputs": [],
   "source": [
    "def get_fetures(data):\n",
    "    month = data.index.month.values[:, np.newaxis]\n",
    "    hour = data.index.hour.values[:, np.newaxis]\n",
    "    weekday = data.index.weekday.values[:, np.newaxis]\n",
    "    return np.concatenate((month, hour, weekday), axis=1)"
   ]
  },
  {
   "cell_type": "code",
   "execution_count": 113,
   "metadata": {},
   "outputs": [],
   "source": [
    "X_train = get_fetures(power_training)\n",
    "X_test = get_fetures(power_test)\n",
    "Y_train = power_training.values\n",
    "Y_test = power_test.values"
   ]
  },
  {
   "cell_type": "code",
   "execution_count": 114,
   "metadata": {},
   "outputs": [
    {
     "data": {
      "text/plain": [
       "RandomForestRegressor(bootstrap=True, ccp_alpha=0.0, criterion='mse',\n",
       "                      max_depth=None, max_features='auto', max_leaf_nodes=None,\n",
       "                      max_samples=None, min_impurity_decrease=0.0,\n",
       "                      min_impurity_split=None, min_samples_leaf=1,\n",
       "                      min_samples_split=2, min_weight_fraction_leaf=0.0,\n",
       "                      n_estimators=100, n_jobs=None, oob_score=False,\n",
       "                      random_state=None, verbose=0, warm_start=False)"
      ]
     },
     "execution_count": 114,
     "metadata": {},
     "output_type": "execute_result"
    }
   ],
   "source": [
    "forest = ensemble.RandomForestRegressor()\n",
    "forest.fit(X_train, Y_train)"
   ]
  },
  {
   "cell_type": "code",
   "execution_count": 115,
   "metadata": {},
   "outputs": [
    {
     "data": {
      "text/plain": [
       "0.8780951045930208"
      ]
     },
     "execution_count": 115,
     "metadata": {},
     "output_type": "execute_result"
    }
   ],
   "source": [
    "forest.score(X_test, Y_test)"
   ]
  },
  {
   "cell_type": "markdown",
   "metadata": {},
   "source": [
    "### Can we increase R2 score by reducing size feature space?\n",
    "\n",
    "Let's do something in between week of year and day of year, by putting consecutive days into bins of a certain size. `binsize=1` would be equivalent to dayofyear and 7 would be very similar to week of year (except first and last week of the year)."
   ]
  },
  {
   "cell_type": "code",
   "execution_count": 116,
   "metadata": {},
   "outputs": [],
   "source": [
    "def get_fetures(data, binsize=1):\n",
    "    bin_ = data.index.dayofyear.values[:, np.newaxis]\n",
    "    bin_ = np.floor(bin_ / binsize).astype(np.int)\n",
    "    \n",
    "    hour = data.index.hour.values[:, np.newaxis]\n",
    "    weekday = data.index.weekday.values[:, np.newaxis]\n",
    "    return np.concatenate((bin_, hour, weekday), axis=1)"
   ]
  },
  {
   "cell_type": "code",
   "execution_count": 117,
   "metadata": {},
   "outputs": [
    {
     "name": "stdout",
     "output_type": "stream",
     "text": [
      "1 0.8938585672149643\n",
      "2 0.8827850406102421\n",
      "3 0.8960074853355353\n",
      "4 0.8758577094636553\n",
      "5 0.8773677992397767\n",
      "6 0.8865107280903246\n",
      "7 0.9006798535995849\n",
      "8 0.8896045848799539\n",
      "9 0.8959001720695959\n",
      "10 0.8893150859882724\n",
      "11 0.9006708772846955\n",
      "12 0.8866319164080441\n",
      "13 0.899022431764373\n",
      "14 0.8964931824218723\n",
      "15 0.8929483890083583\n",
      "16 0.8997019069850445\n",
      "17 0.9043624007457831\n",
      "18 0.8912058479920943\n",
      "19 0.8859715372912139\n",
      "20 0.8850844554008048\n",
      "21 0.9058347268813224\n",
      "22 0.9036787644064094\n",
      "23 0.888067561947015\n",
      "24 0.8855625809533022\n",
      "25 0.8920234591700857\n",
      "26 0.8893276736513414\n",
      "27 0.8980301469195774\n",
      "28 0.8865924984810903\n",
      "29 0.8927235628162242\n",
      "30 0.8865325934103234\n",
      "31 0.882264250735675\n",
      "32 0.8892135129920314\n",
      "33 0.8836242558639054\n",
      "34 0.8797509822011946\n",
      "35 0.8930231082480843\n",
      "36 0.8810916282375255\n",
      "37 0.874928620765455\n",
      "38 0.8794609988281918\n",
      "39 0.8944541651980017\n",
      "40 0.8778526448101804\n",
      "41 0.8707492247656812\n",
      "42 0.8708609787410302\n",
      "43 0.883244552850012\n",
      "44 0.9011842654914817\n",
      "45 0.8928207735730318\n",
      "46 0.882972448477997\n",
      "47 0.8785023390684831\n",
      "48 0.8747497077257433\n",
      "49 0.8731862215924594\n",
      "50 0.8843431795976187\n",
      "51 0.8964011660528238\n",
      "52 0.8805060511612317\n",
      "53 0.8696909796905623\n",
      "54 0.8668492007599581\n",
      "55 0.865424794513349\n",
      "56 0.8610688295924602\n",
      "57 0.8558183229392664\n",
      "58 0.8601472387148933\n",
      "59 0.8721493558614813\n",
      "60 0.8711707298253296\n",
      "61 0.8618462422550739\n",
      "62 0.8649534463467405\n",
      "63 0.862909543695231\n",
      "64 0.8580753944201378\n",
      "65 0.8572555840392166\n",
      "66 0.8573212203157943\n",
      "67 0.8565011566452312\n",
      "68 0.8524471378735385\n",
      "69 0.8530735627004367\n",
      "70 0.8559872016853453\n",
      "71 0.8635936959504189\n",
      "72 0.8631539055320012\n",
      "73 0.8637943007064584\n",
      "74 0.8661509697605453\n",
      "75 0.8724179859088514\n",
      "76 0.872787390816647\n",
      "77 0.875004279284405\n",
      "78 0.8755366456630109\n",
      "79 0.8719716186615759\n",
      "80 0.8650975850893817\n",
      "81 0.8634725254126443\n",
      "82 0.8606219528794836\n",
      "83 0.8588537166327408\n",
      "84 0.8537885508641684\n",
      "85 0.8508484374557801\n",
      "86 0.8502556442219656\n",
      "87 0.8514176758777208\n",
      "88 0.8572885427815717\n",
      "89 0.8649309065742867\n",
      "90 0.8588280085191049\n",
      "91 0.8568356906924897\n",
      "92 0.8544012548670431\n",
      "93 0.8529815166276132\n",
      "94 0.8508737272886211\n",
      "95 0.8492170671542472\n",
      "96 0.8500064883990948\n",
      "97 0.8501047059989661\n",
      "98 0.8505548644651109\n",
      "99 0.8516181480610852\n",
      "100 0.8538145875400337\n",
      "101 0.8518602634833279\n",
      "102 0.8512446126206248\n",
      "103 0.8501436804013232\n",
      "104 0.8469061813635708\n",
      "105 0.8427766284099953\n",
      "106 0.8349127869241442\n",
      "107 0.8305210336311225\n",
      "108 0.8267874554489351\n",
      "109 0.8231684408792185\n",
      "110 0.8199797260609025\n",
      "111 0.8162926366980585\n",
      "112 0.8100660356022561\n",
      "113 0.7978106760573827\n",
      "114 0.7959486315471282\n",
      "115 0.7914306950491029\n",
      "116 0.7866695164911648\n",
      "117 0.7863405474908113\n",
      "118 0.7890569506178138\n",
      "119 0.7923887749472163\n",
      "120 0.7871218063670229\n",
      "121 0.7840444261735511\n",
      "122 0.7772649829501976\n",
      "123 0.7757208162443494\n",
      "124 0.7770738115027481\n",
      "125 0.7771816861906465\n",
      "126 0.7782448908662374\n",
      "127 0.7800648965842879\n",
      "128 0.7807479914957448\n",
      "129 0.7812079212409955\n",
      "130 0.7829341216339004\n",
      "131 0.7845380536942765\n",
      "132 0.7853962068669241\n",
      "133 0.7871361967353856\n",
      "134 0.7876582034193835\n",
      "135 0.7876964944056685\n",
      "136 0.78915546419149\n",
      "137 0.7909560903697012\n",
      "138 0.7908593210659872\n",
      "139 0.7899629610951598\n",
      "140 0.7893660204509574\n",
      "141 0.7888439271981235\n",
      "142 0.7880996792217361\n",
      "143 0.7891183667201617\n",
      "144 0.7896438964950335\n",
      "145 0.7893396799653742\n",
      "146 0.7891857029418536\n",
      "147 0.789467593531058\n",
      "148 0.7901186414150819\n",
      "149 0.7907471560259056\n",
      "150 0.7934069500252461\n",
      "151 0.7905427158378766\n",
      "152 0.7865119781233804\n",
      "153 0.786916763342347\n",
      "154 0.7851937819411967\n",
      "155 0.7835283813114731\n",
      "156 0.7813297432620905\n",
      "157 0.7781990930263691\n",
      "158 0.7744938204506465\n",
      "159 0.767375409112681\n",
      "160 0.763354961994924\n",
      "161 0.7606255012071443\n",
      "162 0.7567535994709412\n",
      "163 0.7538802278910447\n",
      "164 0.7515406878134531\n",
      "165 0.7494340080529514\n",
      "166 0.7468238616252254\n",
      "167 0.7444340522809128\n",
      "168 0.7390281722453961\n",
      "169 0.7322727437271968\n",
      "170 0.7267887046654053\n",
      "171 0.7219816124368716\n",
      "172 0.7173979021540542\n",
      "173 0.7114196590561606\n",
      "174 0.707101594790701\n",
      "175 0.7051790701619658\n",
      "176 0.7049351769517941\n",
      "177 0.7071440337136374\n",
      "178 0.7093741801224503\n",
      "179 0.7112408927424599\n",
      "180 0.7071713768208427\n",
      "181 0.7058322312206634\n",
      "182 0.7036971926083312\n",
      "183 0.7026190367623866\n",
      "184 0.702072545534177\n",
      "185 0.7015250201299157\n",
      "186 0.7010460722832921\n",
      "187 0.7006057444761953\n",
      "188 0.7001320366798274\n",
      "189 0.6998879867530319\n",
      "190 0.6995341682681032\n",
      "191 0.6989603652947494\n",
      "192 0.6982907192737237\n",
      "193 0.6978184022753438\n",
      "194 0.697374306843147\n",
      "195 0.6969655207734982\n",
      "196 0.6966020658137935\n",
      "197 0.6963617573152192\n",
      "198 0.6956001310178649\n",
      "199 0.6950079390086746\n",
      "200 0.694696741185369\n",
      "201 0.6943477491409922\n",
      "202 0.6939052265247205\n",
      "203 0.6937243644777713\n",
      "204 0.6936131717339463\n",
      "205 0.6929824414958806\n",
      "206 0.6926308691703043\n",
      "207 0.6921626581650921\n",
      "208 0.6919823037400034\n",
      "209 0.6915282953702115\n",
      "210 0.6911322427717077\n",
      "211 0.6910646063042605\n",
      "212 0.6906020171434208\n",
      "213 0.690020751382633\n",
      "214 0.689894674570172\n",
      "215 0.6897824313563612\n",
      "216 0.6894850483523158\n",
      "217 0.6895220878813664\n",
      "218 0.6896218754689529\n",
      "219 0.6894518280924815\n",
      "220 0.6892081083625103\n",
      "221 0.6891938118756535\n",
      "222 0.6891879811659496\n",
      "223 0.6888463108123499\n",
      "224 0.689015476631067\n",
      "225 0.6888270113255137\n",
      "226 0.6888194848869142\n",
      "227 0.688698687436224\n",
      "228 0.6891666451969165\n",
      "229 0.6891610674701569\n",
      "230 0.6892641594003387\n",
      "231 0.6893080271849414\n",
      "232 0.689520116593604\n",
      "233 0.6894409973723967\n",
      "234 0.6893140993212719\n",
      "235 0.6893932896758561\n",
      "236 0.6894131464865663\n",
      "237 0.6894099111452622\n",
      "238 0.6895558293266789\n",
      "239 0.6898275466237652\n",
      "240 0.6898428772442233\n",
      "241 0.6898192901222262\n",
      "242 0.6895653029819184\n",
      "243 0.6897110622473799\n",
      "244 0.6897392090890055\n",
      "245 0.6899698930473903\n",
      "246 0.6901594944696768\n",
      "247 0.690529389706273\n",
      "248 0.6907476684216481\n",
      "249 0.6907460130359024\n",
      "250 0.6910090109844359\n",
      "251 0.6911201329695166\n",
      "252 0.6912550906754698\n",
      "253 0.691717545054625\n",
      "254 0.6921498917625779\n",
      "255 0.6924978196686934\n",
      "256 0.6928700317890847\n",
      "257 0.6931859920707373\n",
      "258 0.6936733319249149\n",
      "259 0.6944905584265093\n",
      "260 0.6950797206222593\n",
      "261 0.6957243973461189\n",
      "262 0.6961679835948236\n",
      "263 0.6966734145598551\n",
      "264 0.6972787699457741\n",
      "265 0.6977711219310279\n",
      "266 0.6985200167490706\n",
      "267 0.6987880417451753\n",
      "268 0.6989970089348834\n",
      "269 0.6991012476377712\n",
      "270 0.6993282803035735\n",
      "271 0.6996402872268868\n",
      "272 0.7000218637681974\n",
      "273 0.7008676087634318\n",
      "274 0.7016044179499981\n",
      "275 0.7021932074525863\n",
      "276 0.7022888988949756\n",
      "277 0.7024132488436861\n",
      "278 0.7028234008920848\n",
      "279 0.7031556463615529\n",
      "280 0.7036192788686937\n",
      "281 0.7036977660573929\n",
      "282 0.7039081351846064\n",
      "283 0.7041257098706759\n",
      "284 0.7042718920388644\n",
      "285 0.7046513473777574\n",
      "286 0.705672968557782\n",
      "287 0.706435426895037\n",
      "288 0.7070039900904007\n",
      "289 0.7076342121021375\n",
      "290 0.708078390062279\n",
      "291 0.7086895482822564\n",
      "292 0.7094953458760598\n",
      "293 0.7100486361874576\n",
      "294 0.7109727383091365\n",
      "295 0.7118241658697279\n",
      "296 0.712703005617751\n",
      "297 0.7134094421036973\n",
      "298 0.7140226763643993\n",
      "299 0.7149970543593374\n",
      "300 0.7165747208425777\n",
      "301 0.717615016279872\n",
      "302 0.7176004072185516\n",
      "303 0.7174963702292345\n",
      "304 0.717232989122818\n",
      "305 0.717003839066608\n",
      "306 0.7190435355497289\n",
      "307 0.7190080447190796\n",
      "308 0.7193950578759108\n",
      "309 0.7198862458238394\n"
     ]
    },
    {
     "ename": "KeyboardInterrupt",
     "evalue": "",
     "output_type": "error",
     "traceback": [
      "\u001b[0;31m---------------------------------------------------------------------------\u001b[0m",
      "\u001b[0;31mKeyboardInterrupt\u001b[0m                         Traceback (most recent call last)",
      "\u001b[0;32m<ipython-input-117-d06b1b7c3121>\u001b[0m in \u001b[0;36m<module>\u001b[0;34m\u001b[0m\n\u001b[1;32m      8\u001b[0m \u001b[0;34m\u001b[0m\u001b[0m\n\u001b[1;32m      9\u001b[0m     \u001b[0mforest\u001b[0m \u001b[0;34m=\u001b[0m \u001b[0mensemble\u001b[0m\u001b[0;34m.\u001b[0m\u001b[0mRandomForestRegressor\u001b[0m\u001b[0;34m(\u001b[0m\u001b[0;34m)\u001b[0m\u001b[0;34m\u001b[0m\u001b[0;34m\u001b[0m\u001b[0m\n\u001b[0;32m---> 10\u001b[0;31m     \u001b[0mforest\u001b[0m\u001b[0;34m.\u001b[0m\u001b[0mfit\u001b[0m\u001b[0;34m(\u001b[0m\u001b[0mX_train\u001b[0m\u001b[0;34m,\u001b[0m \u001b[0mY_train\u001b[0m\u001b[0;34m)\u001b[0m\u001b[0;34m\u001b[0m\u001b[0;34m\u001b[0m\u001b[0m\n\u001b[0m\u001b[1;32m     11\u001b[0m \u001b[0;34m\u001b[0m\u001b[0m\n\u001b[1;32m     12\u001b[0m     \u001b[0mscores\u001b[0m\u001b[0;34m.\u001b[0m\u001b[0mappend\u001b[0m\u001b[0;34m(\u001b[0m\u001b[0mforest\u001b[0m\u001b[0;34m.\u001b[0m\u001b[0mscore\u001b[0m\u001b[0;34m(\u001b[0m\u001b[0mX_test\u001b[0m\u001b[0;34m,\u001b[0m \u001b[0mY_test\u001b[0m\u001b[0;34m)\u001b[0m\u001b[0;34m)\u001b[0m\u001b[0;34m\u001b[0m\u001b[0;34m\u001b[0m\u001b[0m\n",
      "\u001b[0;32m/opt/miniconda3/envs/scientific-computing/lib/python3.7/site-packages/sklearn/ensemble/_forest.py\u001b[0m in \u001b[0;36mfit\u001b[0;34m(self, X, y, sample_weight)\u001b[0m\n\u001b[1;32m    381\u001b[0m                     \u001b[0mverbose\u001b[0m\u001b[0;34m=\u001b[0m\u001b[0mself\u001b[0m\u001b[0;34m.\u001b[0m\u001b[0mverbose\u001b[0m\u001b[0;34m,\u001b[0m \u001b[0mclass_weight\u001b[0m\u001b[0;34m=\u001b[0m\u001b[0mself\u001b[0m\u001b[0;34m.\u001b[0m\u001b[0mclass_weight\u001b[0m\u001b[0;34m,\u001b[0m\u001b[0;34m\u001b[0m\u001b[0;34m\u001b[0m\u001b[0m\n\u001b[1;32m    382\u001b[0m                     n_samples_bootstrap=n_samples_bootstrap)\n\u001b[0;32m--> 383\u001b[0;31m                 for i, t in enumerate(trees))\n\u001b[0m\u001b[1;32m    384\u001b[0m \u001b[0;34m\u001b[0m\u001b[0m\n\u001b[1;32m    385\u001b[0m             \u001b[0;31m# Collect newly grown trees\u001b[0m\u001b[0;34m\u001b[0m\u001b[0;34m\u001b[0m\u001b[0;34m\u001b[0m\u001b[0m\n",
      "\u001b[0;32m/opt/miniconda3/envs/scientific-computing/lib/python3.7/site-packages/joblib/parallel.py\u001b[0m in \u001b[0;36m__call__\u001b[0;34m(self, iterable)\u001b[0m\n\u001b[1;32m   1005\u001b[0m                 \u001b[0mself\u001b[0m\u001b[0;34m.\u001b[0m\u001b[0m_iterating\u001b[0m \u001b[0;34m=\u001b[0m \u001b[0mself\u001b[0m\u001b[0;34m.\u001b[0m\u001b[0m_original_iterator\u001b[0m \u001b[0;32mis\u001b[0m \u001b[0;32mnot\u001b[0m \u001b[0;32mNone\u001b[0m\u001b[0;34m\u001b[0m\u001b[0;34m\u001b[0m\u001b[0m\n\u001b[1;32m   1006\u001b[0m \u001b[0;34m\u001b[0m\u001b[0m\n\u001b[0;32m-> 1007\u001b[0;31m             \u001b[0;32mwhile\u001b[0m \u001b[0mself\u001b[0m\u001b[0;34m.\u001b[0m\u001b[0mdispatch_one_batch\u001b[0m\u001b[0;34m(\u001b[0m\u001b[0miterator\u001b[0m\u001b[0;34m)\u001b[0m\u001b[0;34m:\u001b[0m\u001b[0;34m\u001b[0m\u001b[0;34m\u001b[0m\u001b[0m\n\u001b[0m\u001b[1;32m   1008\u001b[0m                 \u001b[0;32mpass\u001b[0m\u001b[0;34m\u001b[0m\u001b[0;34m\u001b[0m\u001b[0m\n\u001b[1;32m   1009\u001b[0m \u001b[0;34m\u001b[0m\u001b[0m\n",
      "\u001b[0;32m/opt/miniconda3/envs/scientific-computing/lib/python3.7/site-packages/joblib/parallel.py\u001b[0m in \u001b[0;36mdispatch_one_batch\u001b[0;34m(self, iterator)\u001b[0m\n\u001b[1;32m    833\u001b[0m                 \u001b[0;32mreturn\u001b[0m \u001b[0;32mFalse\u001b[0m\u001b[0;34m\u001b[0m\u001b[0;34m\u001b[0m\u001b[0m\n\u001b[1;32m    834\u001b[0m             \u001b[0;32melse\u001b[0m\u001b[0;34m:\u001b[0m\u001b[0;34m\u001b[0m\u001b[0;34m\u001b[0m\u001b[0m\n\u001b[0;32m--> 835\u001b[0;31m                 \u001b[0mself\u001b[0m\u001b[0;34m.\u001b[0m\u001b[0m_dispatch\u001b[0m\u001b[0;34m(\u001b[0m\u001b[0mtasks\u001b[0m\u001b[0;34m)\u001b[0m\u001b[0;34m\u001b[0m\u001b[0;34m\u001b[0m\u001b[0m\n\u001b[0m\u001b[1;32m    836\u001b[0m                 \u001b[0;32mreturn\u001b[0m \u001b[0;32mTrue\u001b[0m\u001b[0;34m\u001b[0m\u001b[0;34m\u001b[0m\u001b[0m\n\u001b[1;32m    837\u001b[0m \u001b[0;34m\u001b[0m\u001b[0m\n",
      "\u001b[0;32m/opt/miniconda3/envs/scientific-computing/lib/python3.7/site-packages/joblib/parallel.py\u001b[0m in \u001b[0;36m_dispatch\u001b[0;34m(self, batch)\u001b[0m\n\u001b[1;32m    752\u001b[0m         \u001b[0;32mwith\u001b[0m \u001b[0mself\u001b[0m\u001b[0;34m.\u001b[0m\u001b[0m_lock\u001b[0m\u001b[0;34m:\u001b[0m\u001b[0;34m\u001b[0m\u001b[0;34m\u001b[0m\u001b[0m\n\u001b[1;32m    753\u001b[0m             \u001b[0mjob_idx\u001b[0m \u001b[0;34m=\u001b[0m \u001b[0mlen\u001b[0m\u001b[0;34m(\u001b[0m\u001b[0mself\u001b[0m\u001b[0;34m.\u001b[0m\u001b[0m_jobs\u001b[0m\u001b[0;34m)\u001b[0m\u001b[0;34m\u001b[0m\u001b[0;34m\u001b[0m\u001b[0m\n\u001b[0;32m--> 754\u001b[0;31m             \u001b[0mjob\u001b[0m \u001b[0;34m=\u001b[0m \u001b[0mself\u001b[0m\u001b[0;34m.\u001b[0m\u001b[0m_backend\u001b[0m\u001b[0;34m.\u001b[0m\u001b[0mapply_async\u001b[0m\u001b[0;34m(\u001b[0m\u001b[0mbatch\u001b[0m\u001b[0;34m,\u001b[0m \u001b[0mcallback\u001b[0m\u001b[0;34m=\u001b[0m\u001b[0mcb\u001b[0m\u001b[0;34m)\u001b[0m\u001b[0;34m\u001b[0m\u001b[0;34m\u001b[0m\u001b[0m\n\u001b[0m\u001b[1;32m    755\u001b[0m             \u001b[0;31m# A job can complete so quickly than its callback is\u001b[0m\u001b[0;34m\u001b[0m\u001b[0;34m\u001b[0m\u001b[0;34m\u001b[0m\u001b[0m\n\u001b[1;32m    756\u001b[0m             \u001b[0;31m# called before we get here, causing self._jobs to\u001b[0m\u001b[0;34m\u001b[0m\u001b[0;34m\u001b[0m\u001b[0;34m\u001b[0m\u001b[0m\n",
      "\u001b[0;32m/opt/miniconda3/envs/scientific-computing/lib/python3.7/site-packages/joblib/_parallel_backends.py\u001b[0m in \u001b[0;36mapply_async\u001b[0;34m(self, func, callback)\u001b[0m\n\u001b[1;32m    207\u001b[0m     \u001b[0;32mdef\u001b[0m \u001b[0mapply_async\u001b[0m\u001b[0;34m(\u001b[0m\u001b[0mself\u001b[0m\u001b[0;34m,\u001b[0m \u001b[0mfunc\u001b[0m\u001b[0;34m,\u001b[0m \u001b[0mcallback\u001b[0m\u001b[0;34m=\u001b[0m\u001b[0;32mNone\u001b[0m\u001b[0;34m)\u001b[0m\u001b[0;34m:\u001b[0m\u001b[0;34m\u001b[0m\u001b[0;34m\u001b[0m\u001b[0m\n\u001b[1;32m    208\u001b[0m         \u001b[0;34m\"\"\"Schedule a func to be run\"\"\"\u001b[0m\u001b[0;34m\u001b[0m\u001b[0;34m\u001b[0m\u001b[0m\n\u001b[0;32m--> 209\u001b[0;31m         \u001b[0mresult\u001b[0m \u001b[0;34m=\u001b[0m \u001b[0mImmediateResult\u001b[0m\u001b[0;34m(\u001b[0m\u001b[0mfunc\u001b[0m\u001b[0;34m)\u001b[0m\u001b[0;34m\u001b[0m\u001b[0;34m\u001b[0m\u001b[0m\n\u001b[0m\u001b[1;32m    210\u001b[0m         \u001b[0;32mif\u001b[0m \u001b[0mcallback\u001b[0m\u001b[0;34m:\u001b[0m\u001b[0;34m\u001b[0m\u001b[0;34m\u001b[0m\u001b[0m\n\u001b[1;32m    211\u001b[0m             \u001b[0mcallback\u001b[0m\u001b[0;34m(\u001b[0m\u001b[0mresult\u001b[0m\u001b[0;34m)\u001b[0m\u001b[0;34m\u001b[0m\u001b[0;34m\u001b[0m\u001b[0m\n",
      "\u001b[0;32m/opt/miniconda3/envs/scientific-computing/lib/python3.7/site-packages/joblib/_parallel_backends.py\u001b[0m in \u001b[0;36m__init__\u001b[0;34m(self, batch)\u001b[0m\n\u001b[1;32m    588\u001b[0m         \u001b[0;31m# Don't delay the application, to avoid keeping the input\u001b[0m\u001b[0;34m\u001b[0m\u001b[0;34m\u001b[0m\u001b[0;34m\u001b[0m\u001b[0m\n\u001b[1;32m    589\u001b[0m         \u001b[0;31m# arguments in memory\u001b[0m\u001b[0;34m\u001b[0m\u001b[0;34m\u001b[0m\u001b[0;34m\u001b[0m\u001b[0m\n\u001b[0;32m--> 590\u001b[0;31m         \u001b[0mself\u001b[0m\u001b[0;34m.\u001b[0m\u001b[0mresults\u001b[0m \u001b[0;34m=\u001b[0m \u001b[0mbatch\u001b[0m\u001b[0;34m(\u001b[0m\u001b[0;34m)\u001b[0m\u001b[0;34m\u001b[0m\u001b[0;34m\u001b[0m\u001b[0m\n\u001b[0m\u001b[1;32m    591\u001b[0m \u001b[0;34m\u001b[0m\u001b[0m\n\u001b[1;32m    592\u001b[0m     \u001b[0;32mdef\u001b[0m \u001b[0mget\u001b[0m\u001b[0;34m(\u001b[0m\u001b[0mself\u001b[0m\u001b[0;34m)\u001b[0m\u001b[0;34m:\u001b[0m\u001b[0;34m\u001b[0m\u001b[0;34m\u001b[0m\u001b[0m\n",
      "\u001b[0;32m/opt/miniconda3/envs/scientific-computing/lib/python3.7/site-packages/joblib/parallel.py\u001b[0m in \u001b[0;36m__call__\u001b[0;34m(self)\u001b[0m\n\u001b[1;32m    254\u001b[0m         \u001b[0;32mwith\u001b[0m \u001b[0mparallel_backend\u001b[0m\u001b[0;34m(\u001b[0m\u001b[0mself\u001b[0m\u001b[0;34m.\u001b[0m\u001b[0m_backend\u001b[0m\u001b[0;34m,\u001b[0m \u001b[0mn_jobs\u001b[0m\u001b[0;34m=\u001b[0m\u001b[0mself\u001b[0m\u001b[0;34m.\u001b[0m\u001b[0m_n_jobs\u001b[0m\u001b[0;34m)\u001b[0m\u001b[0;34m:\u001b[0m\u001b[0;34m\u001b[0m\u001b[0;34m\u001b[0m\u001b[0m\n\u001b[1;32m    255\u001b[0m             return [func(*args, **kwargs)\n\u001b[0;32m--> 256\u001b[0;31m                     for func, args, kwargs in self.items]\n\u001b[0m\u001b[1;32m    257\u001b[0m \u001b[0;34m\u001b[0m\u001b[0m\n\u001b[1;32m    258\u001b[0m     \u001b[0;32mdef\u001b[0m \u001b[0m__len__\u001b[0m\u001b[0;34m(\u001b[0m\u001b[0mself\u001b[0m\u001b[0;34m)\u001b[0m\u001b[0;34m:\u001b[0m\u001b[0;34m\u001b[0m\u001b[0;34m\u001b[0m\u001b[0m\n",
      "\u001b[0;32m/opt/miniconda3/envs/scientific-computing/lib/python3.7/site-packages/joblib/parallel.py\u001b[0m in \u001b[0;36m<listcomp>\u001b[0;34m(.0)\u001b[0m\n\u001b[1;32m    254\u001b[0m         \u001b[0;32mwith\u001b[0m \u001b[0mparallel_backend\u001b[0m\u001b[0;34m(\u001b[0m\u001b[0mself\u001b[0m\u001b[0;34m.\u001b[0m\u001b[0m_backend\u001b[0m\u001b[0;34m,\u001b[0m \u001b[0mn_jobs\u001b[0m\u001b[0;34m=\u001b[0m\u001b[0mself\u001b[0m\u001b[0;34m.\u001b[0m\u001b[0m_n_jobs\u001b[0m\u001b[0;34m)\u001b[0m\u001b[0;34m:\u001b[0m\u001b[0;34m\u001b[0m\u001b[0;34m\u001b[0m\u001b[0m\n\u001b[1;32m    255\u001b[0m             return [func(*args, **kwargs)\n\u001b[0;32m--> 256\u001b[0;31m                     for func, args, kwargs in self.items]\n\u001b[0m\u001b[1;32m    257\u001b[0m \u001b[0;34m\u001b[0m\u001b[0m\n\u001b[1;32m    258\u001b[0m     \u001b[0;32mdef\u001b[0m \u001b[0m__len__\u001b[0m\u001b[0;34m(\u001b[0m\u001b[0mself\u001b[0m\u001b[0;34m)\u001b[0m\u001b[0;34m:\u001b[0m\u001b[0;34m\u001b[0m\u001b[0;34m\u001b[0m\u001b[0m\n",
      "\u001b[0;32m/opt/miniconda3/envs/scientific-computing/lib/python3.7/site-packages/sklearn/ensemble/_forest.py\u001b[0m in \u001b[0;36m_parallel_build_trees\u001b[0;34m(tree, forest, X, y, sample_weight, tree_idx, n_trees, verbose, class_weight, n_samples_bootstrap)\u001b[0m\n\u001b[1;32m    163\u001b[0m             \u001b[0mcurr_sample_weight\u001b[0m \u001b[0;34m*=\u001b[0m \u001b[0mcompute_sample_weight\u001b[0m\u001b[0;34m(\u001b[0m\u001b[0;34m'balanced'\u001b[0m\u001b[0;34m,\u001b[0m \u001b[0my\u001b[0m\u001b[0;34m,\u001b[0m \u001b[0mindices\u001b[0m\u001b[0;34m)\u001b[0m\u001b[0;34m\u001b[0m\u001b[0;34m\u001b[0m\u001b[0m\n\u001b[1;32m    164\u001b[0m \u001b[0;34m\u001b[0m\u001b[0m\n\u001b[0;32m--> 165\u001b[0;31m         \u001b[0mtree\u001b[0m\u001b[0;34m.\u001b[0m\u001b[0mfit\u001b[0m\u001b[0;34m(\u001b[0m\u001b[0mX\u001b[0m\u001b[0;34m,\u001b[0m \u001b[0my\u001b[0m\u001b[0;34m,\u001b[0m \u001b[0msample_weight\u001b[0m\u001b[0;34m=\u001b[0m\u001b[0mcurr_sample_weight\u001b[0m\u001b[0;34m,\u001b[0m \u001b[0mcheck_input\u001b[0m\u001b[0;34m=\u001b[0m\u001b[0;32mFalse\u001b[0m\u001b[0;34m)\u001b[0m\u001b[0;34m\u001b[0m\u001b[0;34m\u001b[0m\u001b[0m\n\u001b[0m\u001b[1;32m    166\u001b[0m     \u001b[0;32melse\u001b[0m\u001b[0;34m:\u001b[0m\u001b[0;34m\u001b[0m\u001b[0;34m\u001b[0m\u001b[0m\n\u001b[1;32m    167\u001b[0m         \u001b[0mtree\u001b[0m\u001b[0;34m.\u001b[0m\u001b[0mfit\u001b[0m\u001b[0;34m(\u001b[0m\u001b[0mX\u001b[0m\u001b[0;34m,\u001b[0m \u001b[0my\u001b[0m\u001b[0;34m,\u001b[0m \u001b[0msample_weight\u001b[0m\u001b[0;34m=\u001b[0m\u001b[0msample_weight\u001b[0m\u001b[0;34m,\u001b[0m \u001b[0mcheck_input\u001b[0m\u001b[0;34m=\u001b[0m\u001b[0;32mFalse\u001b[0m\u001b[0;34m)\u001b[0m\u001b[0;34m\u001b[0m\u001b[0;34m\u001b[0m\u001b[0m\n",
      "\u001b[0;32m/opt/miniconda3/envs/scientific-computing/lib/python3.7/site-packages/sklearn/tree/_classes.py\u001b[0m in \u001b[0;36mfit\u001b[0;34m(self, X, y, sample_weight, check_input, X_idx_sorted)\u001b[0m\n\u001b[1;32m   1223\u001b[0m             \u001b[0msample_weight\u001b[0m\u001b[0;34m=\u001b[0m\u001b[0msample_weight\u001b[0m\u001b[0;34m,\u001b[0m\u001b[0;34m\u001b[0m\u001b[0;34m\u001b[0m\u001b[0m\n\u001b[1;32m   1224\u001b[0m             \u001b[0mcheck_input\u001b[0m\u001b[0;34m=\u001b[0m\u001b[0mcheck_input\u001b[0m\u001b[0;34m,\u001b[0m\u001b[0;34m\u001b[0m\u001b[0;34m\u001b[0m\u001b[0m\n\u001b[0;32m-> 1225\u001b[0;31m             X_idx_sorted=X_idx_sorted)\n\u001b[0m\u001b[1;32m   1226\u001b[0m         \u001b[0;32mreturn\u001b[0m \u001b[0mself\u001b[0m\u001b[0;34m\u001b[0m\u001b[0;34m\u001b[0m\u001b[0m\n\u001b[1;32m   1227\u001b[0m \u001b[0;34m\u001b[0m\u001b[0m\n",
      "\u001b[0;32m/opt/miniconda3/envs/scientific-computing/lib/python3.7/site-packages/sklearn/tree/_classes.py\u001b[0m in \u001b[0;36mfit\u001b[0;34m(self, X, y, sample_weight, check_input, X_idx_sorted)\u001b[0m\n\u001b[1;32m    365\u001b[0m                                            min_impurity_split)\n\u001b[1;32m    366\u001b[0m \u001b[0;34m\u001b[0m\u001b[0m\n\u001b[0;32m--> 367\u001b[0;31m         \u001b[0mbuilder\u001b[0m\u001b[0;34m.\u001b[0m\u001b[0mbuild\u001b[0m\u001b[0;34m(\u001b[0m\u001b[0mself\u001b[0m\u001b[0;34m.\u001b[0m\u001b[0mtree_\u001b[0m\u001b[0;34m,\u001b[0m \u001b[0mX\u001b[0m\u001b[0;34m,\u001b[0m \u001b[0my\u001b[0m\u001b[0;34m,\u001b[0m \u001b[0msample_weight\u001b[0m\u001b[0;34m,\u001b[0m \u001b[0mX_idx_sorted\u001b[0m\u001b[0;34m)\u001b[0m\u001b[0;34m\u001b[0m\u001b[0;34m\u001b[0m\u001b[0m\n\u001b[0m\u001b[1;32m    368\u001b[0m \u001b[0;34m\u001b[0m\u001b[0m\n\u001b[1;32m    369\u001b[0m         \u001b[0;32mif\u001b[0m \u001b[0mself\u001b[0m\u001b[0;34m.\u001b[0m\u001b[0mn_outputs_\u001b[0m \u001b[0;34m==\u001b[0m \u001b[0;36m1\u001b[0m \u001b[0;32mand\u001b[0m \u001b[0mis_classifier\u001b[0m\u001b[0;34m(\u001b[0m\u001b[0mself\u001b[0m\u001b[0;34m)\u001b[0m\u001b[0;34m:\u001b[0m\u001b[0;34m\u001b[0m\u001b[0;34m\u001b[0m\u001b[0m\n",
      "\u001b[0;31mKeyboardInterrupt\u001b[0m: "
     ]
    }
   ],
   "source": [
    "scores = []\n",
    "\n",
    "for binsize in np.arange(1, 150):\n",
    "    X_train = get_fetures(power_training, binsize=binsize)\n",
    "    X_test = get_fetures(power_test, binsize=binsize)\n",
    "    Y_train = power_training.values\n",
    "    Y_test = power_test.values\n",
    "\n",
    "    forest = ensemble.RandomForestRegressor()\n",
    "    forest.fit(X_train, Y_train)\n",
    "\n",
    "    scores.append(forest.score(X_test, Y_test))\n",
    "    print(\"binsize = \", binsize, \"R2 test score = \", scores[-1])"
   ]
  },
  {
   "cell_type": "code",
   "execution_count": 122,
   "metadata": {},
   "outputs": [
    {
     "data": {
      "text/plain": [
       "Text(0.5, 0, 'Number of days aggregated as feature (binsize)')"
      ]
     },
     "execution_count": 122,
     "metadata": {},
     "output_type": "execute_result"
    },
    {
     "data": {
      "image/png": "[encoded data removed]",
      "text/plain": [
       "<Figure size 720x576 with 1 Axes>"
      ]
     },
     "metadata": {
      "needs_background": "light"
     },
     "output_type": "display_data"
    }
   ],
   "source": [
    "plt.plot(scores[:50])\n",
    "plt.ylabel('R2 score (test set)')\n",
    "plt.xlabel('Number of days aggregated as feature (binsize)')"
   ]
  }
 ],
 "metadata": {
  "celltoolbar": "Slideshow",
  "kernelspec": {
   "display_name": "Python 3",
   "language": "python",
   "name": "python3"
  },
  "language_info": {
   "codemirror_mode": {
    "name": "ipython",
    "version": 3
   },
   "file_extension": ".py",
   "mimetype": "text/x-python",
   "name": "python",
   "nbconvert_exporter": "python",
   "pygments_lexer": "ipython3",
   "version": "3.7.7"
  },
  "rise": {
   "auto_select": "code",
   "auto_select_fragment": true,
   "center": false,
   "controls": false,
   "scroll": true,
   "slideNumber": "c/t",
   "theme": "serif",
   "transition": "none"
  }
 },
 "nbformat": 4,
 "nbformat_minor": 4
}
